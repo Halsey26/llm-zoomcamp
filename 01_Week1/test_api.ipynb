{
 "cells": [
  {
   "cell_type": "code",
   "execution_count": 1,
   "id": "7d5a81a7-df0f-466f-820d-0e1a1b38397e",
   "metadata": {},
   "outputs": [],
   "source": [
    "import openai\n",
    "from openai import OpenAI"
   ]
  },
  {
   "cell_type": "code",
   "execution_count": 3,
   "id": "c11a0391-facb-4ce6-b7ed-f70335feb852",
   "metadata": {},
   "outputs": [],
   "source": [
    "import os\n",
    "# Se verifica que el OPENAI_API_KEY esté correctamente en el environment\n",
    "# os.environ "
   ]
  },
  {
   "cell_type": "code",
   "execution_count": 4,
   "id": "569eb92c-2771-4a4d-b7cd-8edd33f9a7e1",
   "metadata": {},
   "outputs": [],
   "source": [
    "#se instancia el cliente\n",
    "client = OpenAI()"
   ]
  },
  {
   "cell_type": "code",
   "execution_count": 6,
   "id": "e3658ef6-6566-466d-9c4b-0064b1026bbe",
   "metadata": {},
   "outputs": [],
   "source": [
    "response = client.chat.completions.create(\n",
    "    model = \"gpt-4o-mini\",\n",
    "    messages =[\n",
    "        {\n",
    "            \"role\":\"user\",\n",
    "            \"content\": \"¿Me puedes explicar qué significa RAG en GenAI y cuáles son sus aplicaciones?\"\n",
    "        }\n",
    "    ]\n",
    ")"
   ]
  },
  {
   "cell_type": "code",
   "execution_count": 18,
   "id": "9b60b50e-523d-441c-b881-9fd1c18bbf09",
   "metadata": {},
   "outputs": [
    {
     "data": {
      "text/plain": [
       "'assistant'"
      ]
     },
     "execution_count": 18,
     "metadata": {},
     "output_type": "execute_result"
    }
   ],
   "source": [
    "# tipo de rol de la repsuesta\n",
    "response.choices[0].message.role"
   ]
  },
  {
   "cell_type": "code",
   "execution_count": 20,
   "id": "247cdd67-2487-45aa-a5f5-b98cf748ce15",
   "metadata": {},
   "outputs": [
    {
     "data": {
      "text/plain": [
       "'RAG en el contexto de la inteligencia artificial generativa (GenAI) se refiere a \"Retrieval-Augmented Generation\", o generación aumentada por recuperación. Este enfoque combina técnicas de recuperación de información con modelos generativos para mejorar la calidad y relevancia de las respuestas generadas.\\n\\n### ¿Qué es RAG?\\n\\n1. **Recuperación de Información**: En primer lugar, el sistema utiliza un componente de recuperación para buscar información relevante en una base de datos o en un conjunto de documentos. Esto significa que el modelo puede acceder a una gran cantidad de información externa y no está limitado a la información que fue utilizada durante su entrenamiento.\\n\\n2. **Generación**: Después de recuperar los documentos o fragmentos relevantes, el modelo generativo (como GPT-3 o similares) utiliza esa información para crear una respuesta coherente y contextualizada. Esto permite que las respuestas sean más precisas y basadas en datos actualizados o específicos.\\n\\n### Aplicaciones de RAG\\n\\n1. **Asistentes Virtuales**: Los asistentes como chatbots pueden beneficiarse enormemente de RAG al proporcionar respuestas más precisas y contextuales, utilizando información de bases de datos o documentos relevantes.\\n\\n2. **Búsqueda de Información**: En sistemas de búsqueda, RAG puede mejorar la calidad de los resultados al generar respuestas más completas basadas en documentos recuperados, en lugar de simplemente devolver fragmentos de texto.\\n\\n3. **Educación**: Puede ser utilizado en plataformas de aprendizaje en línea para proporcionar explicaciones o resúmenes de materiales específicos, ayudando a los estudiantes a entender mejor el contenido.\\n\\n4. **Atención al Cliente**: Las empresas pueden utilizar RAG para crear sistemas automatizados que respondan a consultas de clientes de manera más efectiva, utilizando documentos de soporte, preguntas frecuentes y otros recursos.\\n\\n5. **Generación de Contenido**: Herramientas de creación de contenido pueden emplear RAG para redactar artículos, resúmenes y otros tipos de textos, utilizando información factual recuperada de diferentes fuentes.\\n\\n6. **Investigación**: Investigadores pueden utilizar RAG para obtener resúmenes de literatura relevante o para recopilar información dispersa sobre un tema específico de manera más eficiente.\\n\\nEn resumen, RAG combina lo mejor de la recuperación de información y la generación de lenguaje natural para optimizar la manera en que interactuamos con datos y obtenemos información, haciendo que las aplicaciones sean más eficientes y contextuales.'"
      ]
     },
     "execution_count": 20,
     "metadata": {},
     "output_type": "execute_result"
    }
   ],
   "source": [
    "respuesta= response.choices[0].message.content\n",
    "respuesta"
   ]
  },
  {
   "cell_type": "code",
   "execution_count": null,
   "id": "94b309b9-5ed7-4718-b8eb-908399dec44d",
   "metadata": {},
   "outputs": [],
   "source": [
    "# Para mejorar la visualización se usa display y markdown\n",
    "from IPython.display import display, Markdown\n",
    "display(Markdown(respuesta))\n",
    "\n"
   ]
  },
  {
   "cell_type": "code",
   "execution_count": 25,
   "id": "92b1172e-3b03-48b2-ac92-4264c240a25a",
   "metadata": {},
   "outputs": [
    {
     "ename": "ModuleNotFoundError",
     "evalue": "No module named 'display'",
     "output_type": "error",
     "traceback": [
      "\u001b[31m---------------------------------------------------------------------------\u001b[39m",
      "\u001b[31mModuleNotFoundError\u001b[39m                       Traceback (most recent call last)",
      "\u001b[36mCell\u001b[39m\u001b[36m \u001b[39m\u001b[32mIn[25]\u001b[39m\u001b[32m, line 1\u001b[39m\n\u001b[32m----> \u001b[39m\u001b[32m1\u001b[39m \u001b[38;5;28;01mimport\u001b[39;00m\u001b[38;5;250m \u001b[39m\u001b[34;01mdisplay\u001b[39;00m\n",
      "\u001b[31mModuleNotFoundError\u001b[39m: No module named 'display'"
     ]
    }
   ],
   "source": [
    "import display"
   ]
  },
  {
   "cell_type": "code",
   "execution_count": 24,
   "id": "7f9b980f-c345-4ee3-804a-f8dd98d56b67",
   "metadata": {},
   "outputs": [
    {
     "name": "stdout",
     "output_type": "stream",
     "text": [
      "Requirement already satisfied: display in /usr/local/python/3.12.1/lib/python3.12/site-packages (1.0.0)\n",
      "\n",
      "\u001b[1m[\u001b[0m\u001b[34;49mnotice\u001b[0m\u001b[1;39;49m]\u001b[0m\u001b[39;49m A new release of pip is available: \u001b[0m\u001b[31;49m25.0.1\u001b[0m\u001b[39;49m -> \u001b[0m\u001b[32;49m25.1.1\u001b[0m\n",
      "\u001b[1m[\u001b[0m\u001b[34;49mnotice\u001b[0m\u001b[1;39;49m]\u001b[0m\u001b[39;49m To update, run: \u001b[0m\u001b[32;49mpython3 -m pip install --upgrade pip\u001b[0m\n"
     ]
    }
   ],
   "source": [
    "# instala previamente\n",
    "!pip install display"
   ]
  }
 ],
 "metadata": {
  "kernelspec": {
   "display_name": "Python 3 (ipykernel)",
   "language": "python",
   "name": "python3"
  },
  "language_info": {
   "codemirror_mode": {
    "name": "ipython",
    "version": 3
   },
   "file_extension": ".py",
   "mimetype": "text/x-python",
   "name": "python",
   "nbconvert_exporter": "python",
   "pygments_lexer": "ipython3",
   "version": "3.12.1"
  }
 },
 "nbformat": 4,
 "nbformat_minor": 5
}

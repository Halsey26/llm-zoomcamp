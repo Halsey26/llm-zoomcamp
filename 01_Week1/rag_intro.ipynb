{
 "cells": [
  {
   "cell_type": "code",
   "execution_count": 1,
   "id": "938d9269-cf4f-4317-bc96-1517858dd797",
   "metadata": {},
   "outputs": [
    {
     "name": "stdout",
     "output_type": "stream",
     "text": [
      "--2025-06-04 19:06:56--  https://raw.githubusercontent.com/alexeygrigorev/minsearch/refs/heads/main/minsearch.py\n",
      "Resolving raw.githubusercontent.com (raw.githubusercontent.com)... 185.199.111.133, 185.199.108.133, 185.199.109.133, ...\n",
      "Connecting to raw.githubusercontent.com (raw.githubusercontent.com)|185.199.111.133|:443... connected.\n",
      "HTTP request sent, awaiting response... 200 OK\n",
      "Length: 3832 (3.7K) [text/plain]\n",
      "Saving to: ‘minsearch.py’\n",
      "\n",
      "minsearch.py        100%[===================>]   3.74K  --.-KB/s    in 0s      \n",
      "\n",
      "2025-06-04 19:06:56 (47.2 MB/s) - ‘minsearch.py’ saved [3832/3832]\n",
      "\n"
     ]
    }
   ],
   "source": [
    "# Se descarga en el directorio actual el documento 'minsearch.py' de la ruta indicada\n",
    "!wget https://raw.githubusercontent.com/alexeygrigorev/minsearch/refs/heads/main/minsearch.py"
   ]
  },
  {
   "cell_type": "code",
   "execution_count": 10,
   "id": "2c733049-86c8-4532-bc22-63b0f55596ff",
   "metadata": {},
   "outputs": [],
   "source": [
    "# libreria generada en video premodule1\n",
    "import minsearch"
   ]
  },
  {
   "cell_type": "code",
   "execution_count": 11,
   "id": "d89f2215-b540-49b0-9c61-d7a473e9bb50",
   "metadata": {},
   "outputs": [],
   "source": [
    "# se importa documents.json, contiene documentos por cada curso(data-engieering, ml, etc) que incluye text, section y question.\n",
    "import json\n",
    "\n",
    "with open('documents.json') as documentos_curso:\n",
    "    documents = json.load(documentos_curso)"
   ]
  },
  {
   "cell_type": "code",
   "execution_count": 12,
   "id": "ef41d9f1-1da8-479d-8e75-5cfd1406fe00",
   "metadata": {},
   "outputs": [
    {
     "name": "stdout",
     "output_type": "stream",
     "text": [
      "Tamaño: 3\n",
      "Tipo: <class 'list'>\n",
      "\n",
      "data-engineering-zoomcamp\n",
      "machine-learning-zoomcamp\n",
      "mlops-zoomcamp\n"
     ]
    }
   ],
   "source": [
    "print(f'Tamaño: {len(documents)}')\n",
    "print(f'Tipo: {type(documents)}\\n')\n",
    "\n",
    "for i in range(len(documents)):\n",
    "    print(documents[i]['course'] )\n"
   ]
  },
  {
   "cell_type": "code",
   "execution_count": 13,
   "id": "9ba6c894-84d8-40ba-9b68-c124531051ae",
   "metadata": {},
   "outputs": [
    {
     "data": {
      "text/plain": [
       "{'text': \"The purpose of this document is to capture frequently asked technical questions\\nThe exact day and hour of the course will be 15th Jan 2024 at 17h00. The course will start with the first  “Office Hours'' live.1\\nSubscribe to course public Google Calendar (it works from Desktop only).\\nRegister before the course starts using this link.\\nJoin the course Telegram channel with announcements.\\nDon’t forget to register in DataTalks.Club's Slack and join the channel.\",\n",
       " 'section': 'General course-related questions',\n",
       " 'question': 'Course - When will the course start?'}"
      ]
     },
     "execution_count": 13,
     "metadata": {},
     "output_type": "execute_result"
    }
   ],
   "source": [
    "# primer elemento de documents del curso 'data-engineering-zoomcamp'\n",
    "documents[0]['documents'][0]"
   ]
  },
  {
   "cell_type": "code",
   "execution_count": 4,
   "id": "bcd417ad-004e-4e9c-ac7a-eb8d49469ad5",
   "metadata": {},
   "outputs": [],
   "source": [
    "# print(documents[0])"
   ]
  },
  {
   "cell_type": "code",
   "execution_count": 15,
   "id": "6ec4b8ca-cfe2-4c3a-9743-9c82086ba946",
   "metadata": {},
   "outputs": [],
   "source": [
    "# Estructura\n",
    "'''\n",
    "Ejemplo del primer elemento de document. (Contiene 3) \n",
    ">> documents[0]  (diccionario)\n",
    "{\n",
    "'course': string \n",
    "        'data-engineering-zoomcamp'\n",
    "'documents': list of dictionaries \n",
    "        [ {text: '', section: '' , question: ''},\n",
    "          {text: '', section: '' , question: ''},\n",
    "                         ... \n",
    "          {text: '', section: '' , question: ''} ] ,\n",
    "          ...\n",
    "}\n",
    "'''\n",
    "# Lista para almacenar el conjunto total de documents. \n",
    "# Tipo: Lista de diccionarios\n",
    "# Se va a utilizar para indexar\n",
    "docs=[]\n",
    "\n",
    "for i in documents:\n",
    "    for elemento in i['documents']:\n",
    "        elemento['course'] = i['course'] # agregamos esta columna\n",
    "        docs.append(elemento) \n",
    "    "
   ]
  },
  {
   "cell_type": "code",
   "execution_count": 7,
   "id": "4cfeb79c-3765-4ad4-a193-8641ce889e00",
   "metadata": {},
   "outputs": [
    {
     "data": {
      "text/plain": [
       "{'text': 'No, late submissions are not allowed. But if the form is still not closed and it’s after the due date, you can still submit the homework. confirm your submission by the date-timestamp on the Course page.y\\nOlder news:[source1] [source2]',\n",
       " 'section': 'General course-related questions',\n",
       " 'question': 'Homework - Are late submissions of homework allowed?',\n",
       " 'course': 'data-engineering-zoomcamp'}"
      ]
     },
     "execution_count": 7,
     "metadata": {},
     "output_type": "execute_result"
    }
   ],
   "source": [
    "docs[15]\n",
    "# documentos para indexar"
   ]
  },
  {
   "cell_type": "code",
   "execution_count": 17,
   "id": "991256cb-9ca8-4c72-93bb-29380084663b",
   "metadata": {},
   "outputs": [
    {
     "data": {
      "text/plain": [
       "\"\\nUsamos de minsearch.py la clase Index para crear el objeto 'index'.\\nSe inicializa con los atributos de text_fields, keyword_fields\\n\""
      ]
     },
     "execution_count": 17,
     "metadata": {},
     "output_type": "execute_result"
    }
   ],
   "source": [
    "'''\n",
    "Usamos de minsearch.py la clase Index para crear el objeto 'index'.\n",
    "Se inicializa con los atributos de text_fields, keyword_fields\n",
    "Luego aplicamos la función fit con los documentos preparados (docs)\n",
    "\n",
    "NOTA: revisar a mayor profundidad el documento 'minsearch.py'\n",
    "'''"
   ]
  },
  {
   "cell_type": "code",
   "execution_count": 8,
   "id": "b66d8ee5-81b9-4cf3-bb02-1005b7a41e85",
   "metadata": {},
   "outputs": [
    {
     "data": {
      "text/plain": [
       "<minsearch.Index at 0x74d781a80b60>"
      ]
     },
     "execution_count": 8,
     "metadata": {},
     "output_type": "execute_result"
    }
   ],
   "source": [
    "# indexamos los documentos con minsearch\n",
    "index= minsearch.Index(\n",
    "    text_fields =['question','text','section'],  #for performance search\n",
    "    keyword_fields=['course'],\n",
    "        \n",
    ")\n",
    "\n",
    "index.fit(docs)"
   ]
  },
  {
   "cell_type": "code",
   "execution_count": null,
   "id": "8c9878af-e513-4ebb-9ac4-710c8da092dd",
   "metadata": {},
   "outputs": [],
   "source": [
    "'''\n",
    "Función search, retorna lista de diccionarios (documentos) donde cada elemento coincide con el criterio de búsqueda.\n",
    "Parámetros dados: query, diccionario de pesos, diccionario de filtros, número de resultados \n",
    "'''"
   ]
  },
  {
   "cell_type": "code",
   "execution_count": 10,
   "id": "b4117f6f-295c-4f07-8447-a74f2c638021",
   "metadata": {},
   "outputs": [
    {
     "data": {
      "text/plain": [
       "[{'text': \"Yes, even if you don't register, you're still eligible to submit the homeworks.\\nBe aware, however, that there will be deadlines for turning in the final projects. So don't leave everything for the last minute.\",\n",
       "  'section': 'General course-related questions',\n",
       "  'question': 'Course - Can I still join the course after the start date?',\n",
       "  'course': 'data-engineering-zoomcamp'},\n",
       " {'text': 'Yes, we will keep all the materials after the course finishes, so you can follow the course at your own pace after it finishes.\\nYou can also continue looking at the homeworks and continue preparing for the next cohort. I guess you can also start working on your final capstone project.',\n",
       "  'section': 'General course-related questions',\n",
       "  'question': 'Course - Can I follow the course after it finishes?',\n",
       "  'course': 'data-engineering-zoomcamp'},\n",
       " {'text': 'You can start by installing and setting up all the dependencies and requirements:\\nGoogle cloud account\\nGoogle Cloud SDK\\nPython 3 (installed with Anaconda)\\nTerraform\\nGit\\nLook over the prerequisites and syllabus to see if you are comfortable with these subjects.',\n",
       "  'section': 'General course-related questions',\n",
       "  'question': 'Course - What can I do before the course starts?',\n",
       "  'course': 'data-engineering-zoomcamp'},\n",
       " {'text': 'Star the repo! Share it with friends if you find it useful ❣️\\nCreate a PR if you see you can improve the text or the structure of the repository.',\n",
       "  'section': 'General course-related questions',\n",
       "  'question': 'How can we contribute to the course?',\n",
       "  'course': 'data-engineering-zoomcamp'},\n",
       " {'text': \"The purpose of this document is to capture frequently asked technical questions\\nThe exact day and hour of the course will be 15th Jan 2024 at 17h00. The course will start with the first  “Office Hours'' live.1\\nSubscribe to course public Google Calendar (it works from Desktop only).\\nRegister before the course starts using this link.\\nJoin the course Telegram channel with announcements.\\nDon’t forget to register in DataTalks.Club's Slack and join the channel.\",\n",
       "  'section': 'General course-related questions',\n",
       "  'question': 'Course - When will the course start?',\n",
       "  'course': 'data-engineering-zoomcamp'}]"
      ]
     },
     "execution_count": 10,
     "metadata": {},
     "output_type": "execute_result"
    }
   ],
   "source": [
    "#query\n",
    "pregunta= 'the course has already started. Can I still joint it?'\n",
    "pesos_diccionario= {'text':0.2, 'section':0.5,'question':4.0}\n",
    "curso_filtro = {'course':'data-engineering-zoomcamp'}\n",
    "\n",
    "resultados= index.search(\n",
    "    query= pregunta ,\n",
    "    boost_dict= pesos_diccionario,\n",
    "    filter_dict= curso_filtro, \n",
    "    num_results= 5\n",
    ")\n",
    "\n",
    "resultados\n"
   ]
  },
  {
   "cell_type": "code",
   "execution_count": 17,
   "id": "90c6802c-a77a-4f9e-a422-050e9dec65d0",
   "metadata": {},
   "outputs": [
    {
     "name": "stdout",
     "output_type": "stream",
     "text": [
      "<class 'list'>\n"
     ]
    }
   ],
   "source": [
    "print(type(resultados))"
   ]
  },
  {
   "cell_type": "code",
   "execution_count": 11,
   "id": "84484568-e5a9-43c9-95aa-4f1127063182",
   "metadata": {},
   "outputs": [
    {
     "name": "stdout",
     "output_type": "stream",
     "text": [
      "Section: General course-related questions \n",
      "Question: Course - Can I still join the course after the start date? \n",
      "Text: Yes, even if you don't register, you're still eligible to submit the homeworks.\n",
      "Be aware, however, that there will be deadlines for turning in the final projects. So don't leave everything for the last minute. \n",
      "\n",
      "Section: General course-related questions \n",
      "Question: Course - Can I follow the course after it finishes? \n",
      "Text: Yes, we will keep all the materials after the course finishes, so you can follow the course at your own pace after it finishes.\n",
      "You can also continue looking at the homeworks and continue preparing for the next cohort. I guess you can also start working on your final capstone project. \n",
      "\n",
      "Section: General course-related questions \n",
      "Question: Course - What can I do before the course starts? \n",
      "Text: You can start by installing and setting up all the dependencies and requirements:\n",
      "Google cloud account\n",
      "Google Cloud SDK\n",
      "Python 3 (installed with Anaconda)\n",
      "Terraform\n",
      "Git\n",
      "Look over the prerequisites and syllabus to see if you are comfortable with these subjects. \n",
      "\n",
      "Section: General course-related questions \n",
      "Question: How can we contribute to the course? \n",
      "Text: Star the repo! Share it with friends if you find it useful ❣️\n",
      "Create a PR if you see you can improve the text or the structure of the repository. \n",
      "\n",
      "Section: General course-related questions \n",
      "Question: Course - When will the course start? \n",
      "Text: The purpose of this document is to capture frequently asked technical questions\n",
      "The exact day and hour of the course will be 15th Jan 2024 at 17h00. The course will start with the first  “Office Hours'' live.1\n",
      "Subscribe to course public Google Calendar (it works from Desktop only).\n",
      "Register before the course starts using this link.\n",
      "Join the course Telegram channel with announcements.\n",
      "Don’t forget to register in DataTalks.Club's Slack and join the channel. \n",
      "\n",
      "\n"
     ]
    }
   ],
   "source": [
    "'''\n",
    "Se necesita construir un formato de CONTEXT para ser agregado a prompt. \n",
    "Se ordena los elementos de 'resultados'.\n",
    "\n",
    "Output esperado (string):\n",
    "\"{section:'', question: '', text:'' } ,... , {} \"\n",
    "'''\n",
    "contexto= \"\"\n",
    "for i in resultados:\n",
    "    contexto = contexto + f\"Section: {i['section']} \\nQuestion: {i['question']} \\nText: {i['text']} \\n\\n\" \n",
    "\n",
    "# resultados[0]['text']\n",
    "print(contexto)\n"
   ]
  },
  {
   "cell_type": "code",
   "execution_count": 12,
   "id": "bb76c8a9-34d1-4e63-a054-abbb381a0401",
   "metadata": {},
   "outputs": [
    {
     "data": {
      "text/plain": [
       "'the course has already started. Can I still joint it?'"
      ]
     },
     "execution_count": 12,
     "metadata": {},
     "output_type": "execute_result"
    }
   ],
   "source": [
    "# q\n",
    "pregunta"
   ]
  },
  {
   "cell_type": "code",
   "execution_count": null,
   "id": "ba352afd-01d3-4a58-87b8-69db0f4de72d",
   "metadata": {},
   "outputs": [],
   "source": [
    "'''\n",
    "Juntamos todo en el prompt y formateamos con la query(pregunta) y el context(base de datos)\n",
    "'''"
   ]
  },
  {
   "cell_type": "code",
   "execution_count": 13,
   "id": "63ec53bc-630d-42d2-9a27-8ba6ab4f0d31",
   "metadata": {},
   "outputs": [],
   "source": [
    "prompt_template = \"\"\"\n",
    "You are a course teaching assistant. Answer the QUESTION based on the CONTEXT. Use only the facts from the CONTEXT when answering the QUESTION from FAQ \n",
    "database.\n",
    "If the CONTEXT doesn't contain the answer, output NONE.\n",
    "ALWAYS finish with kind words, Example: ask if need anything else or need more information.\n",
    "\n",
    "QUESTION: {question}\n",
    "\n",
    "CONTEXT: \n",
    "{context} \n",
    "\n",
    "\"\"\"\n",
    "# strip: elimina espacios en blanco, al inicio y al final\n",
    "prompt_final= prompt_template.format(question= pregunta, context= contexto).strip() \n"
   ]
  },
  {
   "cell_type": "code",
   "execution_count": 14,
   "id": "85487ca9-da6a-4b9e-991c-69f5c3901978",
   "metadata": {},
   "outputs": [
    {
     "name": "stdout",
     "output_type": "stream",
     "text": [
      "You are a course teaching assistant. Answer the QUESTION based on the CONTEXT. Use only the facts from the CONTEXT when answering the QUESTION from FAQ \n",
      "database.\n",
      "If the CONTEXT doesn't contain the answer, output NONE.\n",
      "\n",
      "QUESTION: the course has already started. Can I still joint it?\n",
      "\n",
      "CONTEXT: \n",
      "Section: General course-related questions \n",
      "Question: Course - Can I still join the course after the start date? \n",
      "Text: Yes, even if you don't register, you're still eligible to submit the homeworks.\n",
      "Be aware, however, that there will be deadlines for turning in the final projects. So don't leave everything for the last minute. \n",
      "\n",
      "Section: General course-related questions \n",
      "Question: Course - Can I follow the course after it finishes? \n",
      "Text: Yes, we will keep all the materials after the course finishes, so you can follow the course at your own pace after it finishes.\n",
      "You can also continue looking at the homeworks and continue preparing for the next cohort. I guess you can also start working on your final capstone project. \n",
      "\n",
      "Section: General course-related questions \n",
      "Question: Course - What can I do before the course starts? \n",
      "Text: You can start by installing and setting up all the dependencies and requirements:\n",
      "Google cloud account\n",
      "Google Cloud SDK\n",
      "Python 3 (installed with Anaconda)\n",
      "Terraform\n",
      "Git\n",
      "Look over the prerequisites and syllabus to see if you are comfortable with these subjects. \n",
      "\n",
      "Section: General course-related questions \n",
      "Question: How can we contribute to the course? \n",
      "Text: Star the repo! Share it with friends if you find it useful ❣️\n",
      "Create a PR if you see you can improve the text or the structure of the repository. \n",
      "\n",
      "Section: General course-related questions \n",
      "Question: Course - When will the course start? \n",
      "Text: The purpose of this document is to capture frequently asked technical questions\n",
      "The exact day and hour of the course will be 15th Jan 2024 at 17h00. The course will start with the first  “Office Hours'' live.1\n",
      "Subscribe to course public Google Calendar (it works from Desktop only).\n",
      "Register before the course starts using this link.\n",
      "Join the course Telegram channel with announcements.\n",
      "Don’t forget to register in DataTalks.Club's Slack and join the channel.\n"
     ]
    }
   ],
   "source": [
    "print(prompt_final)"
   ]
  },
  {
   "cell_type": "code",
   "execution_count": null,
   "id": "df9ab7f5-c986-43fb-b83b-71677a7aaddf",
   "metadata": {},
   "outputs": [],
   "source": [
    "'''\n",
    " Insertamos el prompt en nuestro modelo LLM\n",
    "'''"
   ]
  },
  {
   "cell_type": "code",
   "execution_count": 2,
   "id": "f9cf6b34-82e5-4166-8aa7-358fc7cdea64",
   "metadata": {},
   "outputs": [],
   "source": [
    "import os\n",
    "api_key= os.environ.get('OPENAI_API_KEY') # verifica que el api_key esté configurado"
   ]
  },
  {
   "cell_type": "code",
   "execution_count": 3,
   "id": "afb1a4a1-0856-4442-8608-f7e3c22615aa",
   "metadata": {},
   "outputs": [],
   "source": [
    "import openai\n",
    "from openai import OpenAI\n",
    "\n",
    "client = OpenAI()"
   ]
  },
  {
   "cell_type": "code",
   "execution_count": 4,
   "id": "d029fdcd-f093-4f31-be93-072999542529",
   "metadata": {},
   "outputs": [
    {
     "data": {
      "text/plain": [
       "<openai.OpenAI at 0x7ab6a339cb60>"
      ]
     },
     "execution_count": 4,
     "metadata": {},
     "output_type": "execute_result"
    }
   ],
   "source": [
    "client"
   ]
  },
  {
   "cell_type": "code",
   "execution_count": 19,
   "id": "0bad94b9-3633-4534-94c9-214dc3a0cde0",
   "metadata": {},
   "outputs": [],
   "source": [
    "response = client.chat.completions.create(\n",
    "    model ='gpt-4o-mini',\n",
    "    messages = [\n",
    "        {\n",
    "            \"role\":\"user\",\n",
    "            \"content\": pregunta\n",
    "        }\n",
    "    ]\n",
    ")"
   ]
  },
  {
   "cell_type": "code",
   "execution_count": 26,
   "id": "3d542d50-24e7-486f-be15-584ca5d27843",
   "metadata": {},
   "outputs": [
    {
     "data": {
      "text/plain": [
       "'It depends on the policies of the institution or organization offering the course. Many courses allow late enrollments, while others may have strict deadlines. I recommend reaching out to the course instructor or administration to inquire about the possibility of joining the course, even if it has already started. They can provide you with the best information regarding availability and any necessary steps you need to take.'"
      ]
     },
     "execution_count": 26,
     "metadata": {},
     "output_type": "execute_result"
    }
   ],
   "source": [
    "# respuesta sin contexto \n",
    "response.choices[0].message.content"
   ]
  },
  {
   "cell_type": "code",
   "execution_count": null,
   "id": "af633869-8de0-4d97-b9d4-e21bd6a1683d",
   "metadata": {},
   "outputs": [],
   "source": [
    "#RESPUESTA CON EL PROMPT CON EL CONTEXTO "
   ]
  },
  {
   "cell_type": "code",
   "execution_count": 36,
   "id": "4a3fb750-34d6-4a5c-a04d-771438f46969",
   "metadata": {},
   "outputs": [],
   "source": [
    "response = client.chat.completions.create(\n",
    "    model ='gpt-4o-mini',\n",
    "    messages = [\n",
    "        {\n",
    "            \"role\":\"user\",\n",
    "            \"content\": prompt_final\n",
    "        }\n",
    "    ]\n",
    ")"
   ]
  },
  {
   "cell_type": "code",
   "execution_count": 37,
   "id": "2178159a-ac14-4872-89b8-f68267fd8a04",
   "metadata": {},
   "outputs": [
    {
     "data": {
      "text/plain": [
       "\"Yes, even if you don't register, you're still eligible to submit the homeworks. Be aware, however, that there will be deadlines for turning in the final projects. So don't leave everything for the last minute.\""
      ]
     },
     "execution_count": 37,
     "metadata": {},
     "output_type": "execute_result"
    }
   ],
   "source": [
    "response.choices[0].message.content"
   ]
  },
  {
   "cell_type": "code",
   "execution_count": 41,
   "id": "d0fc41f0-7fd0-4d0f-8885-11302c8074cd",
   "metadata": {},
   "outputs": [
    {
     "data": {
      "text/plain": [
       "'Sí, puedes unirte al curso aunque ya haya comenzado. Aún eres elegible para enviar las tareas, pero ten en cuenta que habrá fechas límite para entregar los proyectos finales.'"
      ]
     },
     "execution_count": 41,
     "metadata": {},
     "output_type": "execute_result"
    }
   ],
   "source": [
    "# respuesta en español\n",
    "prompt_final=prompt_template.format(question='El curso ya comenzó, puedo unirme todavía?', context= contexto).strip()\n",
    "\n",
    "response = client.chat.completions.create(\n",
    "    model ='gpt-4o-mini',\n",
    "    messages = [\n",
    "        {\n",
    "            \"role\":\"user\",\n",
    "            \"content\": prompt_final\n",
    "        }\n",
    "    ]\n",
    ")\n",
    "\n",
    "response.choices[0].message.content"
   ]
  },
  {
   "cell_type": "code",
   "execution_count": null,
   "id": "5d2c830b-a138-4c97-8736-2cb6e17abaac",
   "metadata": {},
   "outputs": [],
   "source": [
    "'''\n",
    "Podemos modularizar, crear el flujo por funciones\n",
    "- Busqueda por index\n",
    "- Ordenamiento de los documentos y generación del prompt\n",
    "- Generación delouput por el llm\n",
    "'''"
   ]
  },
  {
   "cell_type": "code",
   "execution_count": 35,
   "id": "dca6cd47-13ab-4879-a0b5-322654621730",
   "metadata": {},
   "outputs": [],
   "source": [
    "# FUNCION: busqueda por index\n",
    "''' courses:\n",
    "data-engineering-zoomcamp\n",
    "machine-learning-zoomcamp\n",
    "mlops-zoomcamp\n",
    "'''\n",
    "def busqueda(pregunta,curso, num_results ):\n",
    "    # por defecto\n",
    "    pesos_diccionario= {'text':0.2, 'section':0.5,'question':4.0}\n",
    "    \n",
    "    resultados= index.search(\n",
    "    query= pregunta ,\n",
    "    boost_dict= pesos_diccionario,\n",
    "    filter_dict= {'course':curso}, \n",
    "    num_results= num_results\n",
    "    )\n",
    "\n",
    "    return resultados"
   ]
  },
  {
   "cell_type": "code",
   "execution_count": 39,
   "id": "f5cd5075-4632-4fcf-979c-84b30e888e79",
   "metadata": {},
   "outputs": [
    {
     "data": {
      "text/plain": [
       "[{'text': \"Yes! We'll cover some linear algebra in the course, but in general, there will be very few formulas, mostly code.\\nHere are some interesting videos covering linear algebra that you can already watch: ML Zoomcamp 1.8 - Linear Algebra Refresher from Alexey Grigorev or the excellent playlist from 3Blue1Brown Vectors | Chapter 1, Essence of linear algebra. Never hesitate to ask the community for help if you have any question.\\n(Mélanie Fouesnard)\",\n",
       "  'section': 'General course-related questions',\n",
       "  'question': \"I don't know math. Can I take the course?\",\n",
       "  'course': 'machine-learning-zoomcamp'},\n",
       " {'text': 'Check this article. If you know everything in this article, you know enough. If you don’t, read the article and join the coursIntroduction to Pythone too :)\\nIntroduction to Python – Machine Learning Bookcamp\\nYou can follow this English course from the OpenClassrooms e-learning platform, which is free and covers the python basics for data analysis: Learn Python Basics for Data Analysis - OpenClassrooms . It is important to know some basics such as: how to run a Jupyter notebook, how to import libraries (and what libraries are), how to declare a variable (and what variables are) and some important operations regarding data analysis.\\n(Mélanie Fouesnard)',\n",
       "  'section': 'General course-related questions',\n",
       "  'question': 'How much Python should I know?',\n",
       "  'course': 'machine-learning-zoomcamp'},\n",
       " {'text': 'When multiplying matrices, the order of multiplication is important.\\nFor example:\\nA (m x n) * B (n x p) = C (m x p)\\nB (n x p) * A (m x n) = D (n x n)\\nC and D are matrices of different sizes and usually have different values. Therefore the order is important in matrix multiplication and changing the order changes the result.\\nBaran Akın',\n",
       "  'section': 'Miscellaneous',\n",
       "  'question': 'About getting the wrong result when multiplying matrices',\n",
       "  'course': 'machine-learning-zoomcamp'}]"
      ]
     },
     "execution_count": 39,
     "metadata": {},
     "output_type": "execute_result"
    }
   ],
   "source": [
    "pregunta= 'is importan to know about math?'\n",
    "curso= 'machine-learning-zoomcamp'\n",
    "\n",
    "resultados = busqueda(pregunta, curso, 3)\n",
    "resultados"
   ]
  },
  {
   "cell_type": "code",
   "execution_count": 19,
   "id": "624e2648-2279-477f-a854-089bb0967e03",
   "metadata": {},
   "outputs": [],
   "source": [
    "# FUNCION: ordena los resultados(section, question, text) y completa el prompt final\n",
    "def build_prompt(pregunta, resultados):\n",
    "    contexto= \"\"\n",
    "    for i in resultados:\n",
    "        contexto= contexto + f\"Section: {i['section']} \\nQuestion: {i['question']} \\nText: {i['text']} \\n\\n\"\n",
    "    # contexto con los documento en orden\n",
    "        \n",
    "    prompt_template = \"\"\"\n",
    "You are a course teaching assistant. Answer the QUESTION based on the CONTEXT. Use only the facts from the CONTEXT when answering the QUESTION from FAQ \n",
    "database.\n",
    "If the CONTEXT doesn't contain the answer, output NONE.\n",
    "Always finish you message with questions if need anything else or similar.\n",
    "    \n",
    "QUESTION: {question}\n",
    "    \n",
    "CONTEXT: \n",
    "{context}    \n",
    "    \"\"\"\n",
    "    prompt_final= prompt_template.format(question= pregunta, context= contexto).strip() \n",
    "    \n",
    "    return prompt_final\n"
   ]
  },
  {
   "cell_type": "code",
   "execution_count": 59,
   "id": "2641269c-95c6-47ec-9e93-82841697a829",
   "metadata": {},
   "outputs": [
    {
     "name": "stdout",
     "output_type": "stream",
     "text": [
      "You are a course teaching assistant. Answer the QUESTION based on the CONTEXT. Use only the facts from the CONTEXT when answering the QUESTION from FAQ \n",
      "database.\n",
      "If the CONTEXT doesn't contain the answer, output NONE.\n",
      "\n",
      "QUESTION: is importan to know about math?\n",
      "\n",
      "CONTEXT: \n",
      "Section: General course-related questions \n",
      "Question: I don't know math. Can I take the course? \n",
      "Text: Yes! We'll cover some linear algebra in the course, but in general, there will be very few formulas, mostly code.\n",
      "Here are some interesting videos covering linear algebra that you can already watch: ML Zoomcamp 1.8 - Linear Algebra Refresher from Alexey Grigorev or the excellent playlist from 3Blue1Brown Vectors | Chapter 1, Essence of linear algebra. Never hesitate to ask the community for help if you have any question.\n",
      "(Mélanie Fouesnard) \n",
      "\n",
      "Section: General course-related questions \n",
      "Question: How much Python should I know? \n",
      "Text: Check this article. If you know everything in this article, you know enough. If you don’t, read the article and join the coursIntroduction to Pythone too :)\n",
      "Introduction to Python – Machine Learning Bookcamp\n",
      "You can follow this English course from the OpenClassrooms e-learning platform, which is free and covers the python basics for data analysis: Learn Python Basics for Data Analysis - OpenClassrooms . It is important to know some basics such as: how to run a Jupyter notebook, how to import libraries (and what libraries are), how to declare a variable (and what variables are) and some important operations regarding data analysis.\n",
      "(Mélanie Fouesnard) \n",
      "\n",
      "Section: Miscellaneous \n",
      "Question: About getting the wrong result when multiplying matrices \n",
      "Text: When multiplying matrices, the order of multiplication is important.\n",
      "For example:\n",
      "A (m x n) * B (n x p) = C (m x p)\n",
      "B (n x p) * A (m x n) = D (n x n)\n",
      "C and D are matrices of different sizes and usually have different values. Therefore the order is important in matrix multiplication and changing the order changes the result.\n",
      "Baran Akın\n"
     ]
    }
   ],
   "source": [
    "prompt_final= build_prompt(pregunta, resultados)\n",
    "print(prompt_final)"
   ]
  },
  {
   "cell_type": "code",
   "execution_count": 20,
   "id": "695fce06-2265-4b23-bd9f-af28be8bbb4b",
   "metadata": {},
   "outputs": [],
   "source": [
    "# Funcion del modelo\n",
    "\n",
    "def chat_llm(prompt_final):\n",
    "    \n",
    "    response= client.chat.completions.create(\n",
    "        model= 'gpt-4o-mini', \n",
    "        messages= [\n",
    "            {\n",
    "                'role':'user',\n",
    "                'content': prompt_final\n",
    "            }\n",
    "        ]\n",
    "    )\n",
    "\n",
    "    return response.choices[0].message.content\n",
    "\n",
    "    "
   ]
  },
  {
   "cell_type": "code",
   "execution_count": 24,
   "id": "7d910cac-5b0e-4a06-9c79-12e54e44040e",
   "metadata": {},
   "outputs": [
    {
     "name": "stdout",
     "output_type": "stream",
     "text": [
      "Yes, even if you don't register, you're still eligible to submit the homeworks. Be aware, however, that there will be deadlines for turning in the final projects. So don't leave everything for the last minute.\n"
     ]
    }
   ],
   "source": [
    "print(chat_llm(prompt_final))"
   ]
  },
  {
   "cell_type": "code",
   "execution_count": 91,
   "id": "5f66551b-b230-4cc3-9c34-38d2ff34cd29",
   "metadata": {},
   "outputs": [],
   "source": [
    "# Entonces el flujo final:\n",
    "pregunta= 'how can i install terraform?'\n",
    "curso= 'data-engineering-zoomcamp'\n",
    "\n",
    "fuente_datos = busqueda(pregunta, curso, 3)\n",
    "prompt_final= build_prompt(pregunta, fuente_datos)\n",
    "output_llm= chat_llm(prompt_final)\n"
   ]
  },
  {
   "cell_type": "code",
   "execution_count": 92,
   "id": "560810a3-ae26-4b54-b561-1e39ec260533",
   "metadata": {},
   "outputs": [
    {
     "name": "stdout",
     "output_type": "stream",
     "text": [
      "To install Terraform for WSL, you can refer to the following link: [Configuring Terraform on Windows 10 Linux Subsystem](https://techcommunity.microsoft.com/t5/azure-developer-community-blog/configuring-terraform-on-windows-10-linux-sub-system/ba-p/393845). \n",
      "\n",
      "If you need anything else, feel free to ask!\n"
     ]
    }
   ],
   "source": [
    "print(output_llm)"
   ]
  },
  {
   "cell_type": "code",
   "execution_count": null,
   "id": "8a7d3790-f8fa-4a3d-b962-2cf2db8fa0cf",
   "metadata": {},
   "outputs": [],
   "source": [
    "'''\n",
    "Tambien podemos modularizar lo último: función completa de RAG\n",
    "'''"
   ]
  },
  {
   "cell_type": "code",
   "execution_count": 94,
   "id": "c430d09e-6018-4b1e-a3aa-72d8501da80e",
   "metadata": {},
   "outputs": [],
   "source": [
    "def rag(query, course):\n",
    "    fuente_datos = busqueda(pregunta, curso, 5)\n",
    "    prompt_final= build_prompt(pregunta, fuente_datos)\n",
    "    output_llm= chat_llm(prompt_final)\n",
    "\n",
    "    return output_llm"
   ]
  },
  {
   "cell_type": "code",
   "execution_count": 95,
   "id": "30bc1808-e0de-40e5-ae2a-c1c62119a8a3",
   "metadata": {},
   "outputs": [
    {
     "data": {
      "text/plain": [
       "\"To run Kafka, based on the context provided, you can execute the following command in the project directory for Java Kafka:\\n\\n```bash\\njava -cp build/libs/<jar_name>-1.0-SNAPSHOT.jar:out src/main/java/org/example/JsonProducer.java\\n```\\n\\nIf you're using Python, make sure to create a virtual environment and run the necessary Python files within that environment. Do you need help with anything else?\""
      ]
     },
     "execution_count": 95,
     "metadata": {},
     "output_type": "execute_result"
    }
   ],
   "source": [
    "pregunta= 'how do i run kafka?'\n",
    "curso= 'data-engineering-zoomcamp'\n",
    "\n",
    "rag(pregunta, curso)"
   ]
  },
  {
   "cell_type": "code",
   "execution_count": null,
   "id": "8d7ee710-f695-48ac-a8ed-7735e61ad758",
   "metadata": {},
   "outputs": [],
   "source": [
    "'''\n",
    "Ahora se usa en elastic_search\n",
    "'''"
   ]
  },
  {
   "cell_type": "code",
   "execution_count": 2,
   "id": "adbe91ce-c037-4f18-806f-8801a28a0ec5",
   "metadata": {},
   "outputs": [
    {
     "name": "stdout",
     "output_type": "stream",
     "text": [
      "(8, 4, 3)\n"
     ]
    }
   ],
   "source": [
    "# en bash: pip install elasticsearch==8.4.3\n",
    "import elasticsearch\n",
    "print(elasticsearch.__version__)"
   ]
  },
  {
   "cell_type": "code",
   "execution_count": 8,
   "id": "52c45644-43e7-4f79-96ee-0f9c1e757d8a",
   "metadata": {},
   "outputs": [
    {
     "name": "stdout",
     "output_type": "stream",
     "text": [
      "{'name': '4a7d2faec117', 'cluster_name': 'docker-cluster', 'cluster_uuid': 'BukzAOOjTrezqaJlv5cuWQ', 'version': {'number': '8.4.3', 'build_flavor': 'default', 'build_type': 'docker', 'build_hash': '42f05b9372a9a4a470db3b52817899b99a76ee73', 'build_date': '2022-10-04T07:17:24.662462378Z', 'build_snapshot': False, 'lucene_version': '9.3.0', 'minimum_wire_compatibility_version': '7.17.0', 'minimum_index_compatibility_version': '7.0.0'}, 'tagline': 'You Know, for Search'}\n"
     ]
    }
   ],
   "source": [
    "from elasticsearch import Elasticsearch\n",
    "\n",
    "# elastic search client\n",
    "es_client= Elasticsearch('http://127.0.0.1:9200/')\n",
    "print(es_client.info())"
   ]
  },
  {
   "cell_type": "code",
   "execution_count": 9,
   "id": "ede69f62-f3b8-4daa-b1f4-c6d93f62e14d",
   "metadata": {},
   "outputs": [
    {
     "name": "stdout",
     "output_type": "stream",
     "text": [
      "{\n",
      "  \"name\" : \"4a7d2faec117\",\n",
      "  \"cluster_name\" : \"docker-cluster\",\n",
      "  \"cluster_uuid\" : \"BukzAOOjTrezqaJlv5cuWQ\",\n",
      "  \"version\" : {\n",
      "    \"number\" : \"8.4.3\",\n",
      "    \"build_flavor\" : \"default\",\n",
      "    \"build_type\" : \"docker\",\n",
      "    \"build_hash\" : \"42f05b9372a9a4a470db3b52817899b99a76ee73\",\n",
      "    \"build_date\" : \"2022-10-04T07:17:24.662462378Z\",\n",
      "    \"build_snapshot\" : false,\n",
      "    \"lucene_version\" : \"9.3.0\",\n",
      "    \"minimum_wire_compatibility_version\" : \"7.17.0\",\n",
      "    \"minimum_index_compatibility_version\" : \"7.0.0\"\n",
      "  },\n",
      "  \"tagline\" : \"You Know, for Search\"\n",
      "}\n"
     ]
    }
   ],
   "source": [
    "! curl http://localhost:9200"
   ]
  },
  {
   "cell_type": "code",
   "execution_count": null,
   "id": "1406523c-803f-43d4-871d-a927decec782",
   "metadata": {},
   "outputs": [],
   "source": [
    "'''\n",
    "Creamos el index con ElasticSearch\n",
    "'''"
   ]
  },
  {
   "cell_type": "code",
   "execution_count": 11,
   "id": "2def9a7f-8ef1-4aab-a97c-a054970c52bd",
   "metadata": {
    "scrolled": true
   },
   "outputs": [],
   "source": [
    "# Configuracion\n",
    "index_settings = {\n",
    "    \"settings\": {\n",
    "        \"number_of_shards\": 1,\n",
    "        \"number_of_replicas\": 0\n",
    "    },\n",
    "    \"mappings\": {\n",
    "        \"properties\": {\n",
    "            \"text\": {\"type\": \"text\"},\n",
    "            \"section\": {\"type\": \"text\"},\n",
    "            \"question\": {\"type\": \"text\"},\n",
    "            \"course\": {\"type\": \"keyword\"} \n",
    "        }\n",
    "    }\n",
    "}\n",
    "\n",
    "index_name = 'course-questions'\n",
    "es_client.indices.create(index= index_name, body= index_settings)\n"
   ]
  },
  {
   "cell_type": "code",
   "execution_count": 18,
   "id": "be1fdc40-555c-40a7-98f8-4fe7a86a59d9",
   "metadata": {},
   "outputs": [
    {
     "name": "stderr",
     "output_type": "stream",
     "text": [
      "/usr/local/python/3.12.1/lib/python3.12/site-packages/tqdm/auto.py:21: TqdmWarning: IProgress not found. Please update jupyter and ipywidgets. See https://ipywidgets.readthedocs.io/en/stable/user_install.html\n",
      "  from .autonotebook import tqdm as notebook_tqdm\n"
     ]
    }
   ],
   "source": [
    "from tqdm.auto import tqdm"
   ]
  },
  {
   "cell_type": "code",
   "execution_count": 17,
   "id": "8649a3c1-5f4a-42a1-a345-b22ce48ba1f9",
   "metadata": {},
   "outputs": [
    {
     "data": {
      "text/plain": [
       "{'text': \"The purpose of this document is to capture frequently asked technical questions\\nThe exact day and hour of the course will be 15th Jan 2024 at 17h00. The course will start with the first  “Office Hours'' live.1\\nSubscribe to course public Google Calendar (it works from Desktop only).\\nRegister before the course starts using this link.\\nJoin the course Telegram channel with announcements.\\nDon’t forget to register in DataTalks.Club's Slack and join the channel.\",\n",
       " 'section': 'General course-related questions',\n",
       " 'question': 'Course - When will the course start?',\n",
       " 'course': 'data-engineering-zoomcamp'}"
      ]
     },
     "execution_count": 17,
     "metadata": {},
     "output_type": "execute_result"
    }
   ],
   "source": [
    "# Documentos para indexar\n",
    "docs[0]"
   ]
  },
  {
   "cell_type": "code",
   "execution_count": 19,
   "id": "d9891abf-0cda-4d65-89db-f52d6da221b7",
   "metadata": {},
   "outputs": [
    {
     "name": "stderr",
     "output_type": "stream",
     "text": [
      "100%|██████████████████████████████████████████████████████████████████████████████████████████████████████████| 948/948 [00:04<00:00, 205.41it/s]\n"
     ]
    }
   ],
   "source": [
    "# indexamos cada uno de los documentos \n",
    "for i in tqdm(docs):\n",
    "    es_client.index(index=index_name, document=i)"
   ]
  },
  {
   "cell_type": "code",
   "execution_count": 12,
   "id": "93cce612-a9ec-4673-b9a9-6e5dbb2ff890",
   "metadata": {},
   "outputs": [],
   "source": [
    "query= 'the course has already started. Can I still joint it?'\n",
    "course= \"data-engineering-zoomcamp\""
   ]
  },
  {
   "cell_type": "code",
   "execution_count": 13,
   "id": "ba1ee172-0c52-4e56-aea6-31106cdb3b5c",
   "metadata": {},
   "outputs": [],
   "source": [
    "search_query= {\n",
    "    \"size\": 5,\n",
    "    \n",
    "    \"query\": {\n",
    "        \"bool\": {\n",
    "            \"must\": {\n",
    "                \"multi_match\": {\n",
    "                    \"query\": query,\n",
    "                    \"fields\": [\"question^3\", \"text\", \"section\"],\n",
    "                    \"type\": \"best_fields\"\n",
    "                }\n",
    "            },\n",
    "            \"filter\": {\n",
    "                \"term\": {\n",
    "                    \"course\": course\n",
    "                }\n",
    "            }\n",
    "        }\n",
    "    }\n",
    "}"
   ]
  },
  {
   "cell_type": "code",
   "execution_count": 14,
   "id": "e1fe4043-ef2e-404a-9577-0a9d221197cc",
   "metadata": {},
   "outputs": [
    {
     "name": "stderr",
     "output_type": "stream",
     "text": [
      "/tmp/ipykernel_84707/2880328538.py:2: DeprecationWarning: The 'body' parameter is deprecated and will be removed in a future version. Instead use individual parameters.\n",
      "  respuesta_search= es_client.search(index= index_name, body= search_query)\n"
     ]
    }
   ],
   "source": [
    "# busqueda\n",
    "respuesta_search= es_client.search(index= index_name, body= search_query)"
   ]
  },
  {
   "cell_type": "code",
   "execution_count": 15,
   "id": "305eb851-1566-4252-86ec-f5d8fc41fa4d",
   "metadata": {},
   "outputs": [
    {
     "data": {
      "text/plain": [
       "{'text': \"Yes, even if you don't register, you're still eligible to submit the homeworks.\\nBe aware, however, that there will be deadlines for turning in the final projects. So don't leave everything for the last minute.\",\n",
       " 'section': 'General course-related questions',\n",
       " 'question': 'Course - Can I still join the course after the start date?',\n",
       " 'course': 'data-engineering-zoomcamp'}"
      ]
     },
     "execution_count": 15,
     "metadata": {},
     "output_type": "execute_result"
    }
   ],
   "source": [
    "respuesta_search['hits']['hits'][0]['_source']"
   ]
  },
  {
   "cell_type": "code",
   "execution_count": 16,
   "id": "4c69c0e0-5de3-42f1-9419-94e6c9bbd2a6",
   "metadata": {},
   "outputs": [
    {
     "data": {
      "text/plain": [
       "[{'text': \"Yes, even if you don't register, you're still eligible to submit the homeworks.\\nBe aware, however, that there will be deadlines for turning in the final projects. So don't leave everything for the last minute.\",\n",
       "  'section': 'General course-related questions',\n",
       "  'question': 'Course - Can I still join the course after the start date?',\n",
       "  'course': 'data-engineering-zoomcamp'},\n",
       " {'text': 'Yes, we will keep all the materials after the course finishes, so you can follow the course at your own pace after it finishes.\\nYou can also continue looking at the homeworks and continue preparing for the next cohort. I guess you can also start working on your final capstone project.',\n",
       "  'section': 'General course-related questions',\n",
       "  'question': 'Course - Can I follow the course after it finishes?',\n",
       "  'course': 'data-engineering-zoomcamp'},\n",
       " {'text': 'You can start by installing and setting up all the dependencies and requirements:\\nGoogle cloud account\\nGoogle Cloud SDK\\nPython 3 (installed with Anaconda)\\nTerraform\\nGit\\nLook over the prerequisites and syllabus to see if you are comfortable with these subjects.',\n",
       "  'section': 'General course-related questions',\n",
       "  'question': 'Course - What can I do before the course starts?',\n",
       "  'course': 'data-engineering-zoomcamp'},\n",
       " {'text': 'Yes, the slack channel remains open and you can ask questions there. But always sDocker containers exit code w search the channel first and second, check the FAQ (this document), most likely all your questions are already answered here.\\nYou can also tag the bot @ZoomcampQABot to help you conduct the search, but don’t rely on its answers 100%, it is pretty good though.',\n",
       "  'section': 'General course-related questions',\n",
       "  'question': 'Course - Can I get support if I take the course in the self-paced mode?',\n",
       "  'course': 'data-engineering-zoomcamp'},\n",
       " {'text': \"You don't need it. You're accepted. You can also just start learning and submitting homework without registering. It is not checked against any registered list. Registration is just to gauge interest before the start date.\",\n",
       "  'section': 'General course-related questions',\n",
       "  'question': 'Course - I have registered for the Data Engineering Bootcamp. When can I expect to receive the confirmation email?',\n",
       "  'course': 'data-engineering-zoomcamp'}]"
      ]
     },
     "execution_count": 16,
     "metadata": {},
     "output_type": "execute_result"
    }
   ],
   "source": [
    "resultados_elasticsearch =[]\n",
    "\n",
    "for i in respuesta_search['hits']['hits']:\n",
    "    resultados_elasticsearch.append(i['_source'])\n",
    "\n",
    "resultados_elasticsearch"
   ]
  },
  {
   "cell_type": "code",
   "execution_count": null,
   "id": "8665264e-6a2c-4bc0-a48f-a0949989fb5f",
   "metadata": {},
   "outputs": [],
   "source": [
    "'''\n",
    "De igual manera se puede modularizar\n",
    "'''"
   ]
  },
  {
   "cell_type": "code",
   "execution_count": 17,
   "id": "117ef3c6-2c84-4e46-8363-8badf7fb8610",
   "metadata": {},
   "outputs": [],
   "source": [
    "# Funcion de elastic_search para obtención de bd\n",
    "def elastic_search(query, course):\n",
    "    search_query= {\n",
    "        \"size\": 5,\n",
    "        \n",
    "        \"query\": {\n",
    "            \"bool\": {\n",
    "                \"must\": {\n",
    "                    \"multi_match\": {\n",
    "                        \"query\": query,\n",
    "                        \"fields\": [\"question^3\", \"text\", \"section\"],\n",
    "                        \"type\": \"best_fields\"\n",
    "                    }\n",
    "                },\n",
    "                \"filter\": {\n",
    "                    \"term\": {\n",
    "                        \"course\": course\n",
    "                    }\n",
    "                }\n",
    "            }\n",
    "        }\n",
    "    }\n",
    "\n",
    "    # busqueda\n",
    "    respuesta_search= es_client.search(index= index_name, body= search_query)\n",
    "    \n",
    "    resultados_elasticsearch =[]\n",
    "\n",
    "    for i in respuesta_search['hits']['hits']:\n",
    "        resultados_elasticsearch.append(i['_source'])\n",
    "    \n",
    "    return resultados_elasticsearch\n"
   ]
  },
  {
   "cell_type": "code",
   "execution_count": 18,
   "id": "17411f94-7cea-47b3-bccf-f8642597e485",
   "metadata": {},
   "outputs": [
    {
     "name": "stderr",
     "output_type": "stream",
     "text": [
      "/tmp/ipykernel_84707/1494026147.py:25: DeprecationWarning: The 'body' parameter is deprecated and will be removed in a future version. Instead use individual parameters.\n",
      "  respuesta_search= es_client.search(index= index_name, body= search_query)\n"
     ]
    },
    {
     "data": {
      "text/plain": [
       "[{'text': \"Yes, even if you don't register, you're still eligible to submit the homeworks.\\nBe aware, however, that there will be deadlines for turning in the final projects. So don't leave everything for the last minute.\",\n",
       "  'section': 'General course-related questions',\n",
       "  'question': 'Course - Can I still join the course after the start date?',\n",
       "  'course': 'data-engineering-zoomcamp'},\n",
       " {'text': 'Yes, we will keep all the materials after the course finishes, so you can follow the course at your own pace after it finishes.\\nYou can also continue looking at the homeworks and continue preparing for the next cohort. I guess you can also start working on your final capstone project.',\n",
       "  'section': 'General course-related questions',\n",
       "  'question': 'Course - Can I follow the course after it finishes?',\n",
       "  'course': 'data-engineering-zoomcamp'},\n",
       " {'text': 'You can start by installing and setting up all the dependencies and requirements:\\nGoogle cloud account\\nGoogle Cloud SDK\\nPython 3 (installed with Anaconda)\\nTerraform\\nGit\\nLook over the prerequisites and syllabus to see if you are comfortable with these subjects.',\n",
       "  'section': 'General course-related questions',\n",
       "  'question': 'Course - What can I do before the course starts?',\n",
       "  'course': 'data-engineering-zoomcamp'},\n",
       " {'text': 'Yes, the slack channel remains open and you can ask questions there. But always sDocker containers exit code w search the channel first and second, check the FAQ (this document), most likely all your questions are already answered here.\\nYou can also tag the bot @ZoomcampQABot to help you conduct the search, but don’t rely on its answers 100%, it is pretty good though.',\n",
       "  'section': 'General course-related questions',\n",
       "  'question': 'Course - Can I get support if I take the course in the self-paced mode?',\n",
       "  'course': 'data-engineering-zoomcamp'},\n",
       " {'text': \"You don't need it. You're accepted. You can also just start learning and submitting homework without registering. It is not checked against any registered list. Registration is just to gauge interest before the start date.\",\n",
       "  'section': 'General course-related questions',\n",
       "  'question': 'Course - I have registered for the Data Engineering Bootcamp. When can I expect to receive the confirmation email?',\n",
       "  'course': 'data-engineering-zoomcamp'}]"
      ]
     },
     "execution_count": 18,
     "metadata": {},
     "output_type": "execute_result"
    }
   ],
   "source": [
    "query= 'the course has already started. Can I still joint it?'\n",
    "course= \"data-engineering-zoomcamp\"\n",
    "\n",
    "elastic_search(query, course)"
   ]
  },
  {
   "cell_type": "code",
   "execution_count": null,
   "id": "bf25bf8f-b660-4c07-9946-5cad9f55e64f",
   "metadata": {},
   "outputs": [],
   "source": [
    "'''\n",
    "De la función previa RAG definida\n",
    "'''"
   ]
  },
  {
   "cell_type": "code",
   "execution_count": 23,
   "id": "cc09348c-eeb7-4d19-956d-e14857a1859c",
   "metadata": {},
   "outputs": [],
   "source": [
    "def rag(query, course):\n",
    "    fuente_datos = elastic_search(query, course)\n",
    "    prompt_final= build_prompt(query, fuente_datos)\n",
    "    output_llm= chat_llm(prompt_final)\n",
    "\n",
    "    return output_llm"
   ]
  },
  {
   "cell_type": "code",
   "execution_count": 24,
   "id": "ab37baca-8fa3-4baa-9781-fb2189184769",
   "metadata": {},
   "outputs": [
    {
     "name": "stderr",
     "output_type": "stream",
     "text": [
      "/tmp/ipykernel_84707/1494026147.py:25: DeprecationWarning: The 'body' parameter is deprecated and will be removed in a future version. Instead use individual parameters.\n",
      "  respuesta_search= es_client.search(index= index_name, body= search_query)\n"
     ]
    },
    {
     "data": {
      "text/plain": [
       "\"Yes, you can still join the course after the start date. Even if you don't register, you're still eligible to submit the homeworks. Just be mindful of the deadlines for the final projects and try not to leave everything until the last minute. \\n\\nDo you need any more information or help with something else?\""
      ]
     },
     "execution_count": 24,
     "metadata": {},
     "output_type": "execute_result"
    }
   ],
   "source": [
    "rag(query, course)"
   ]
  }
 ],
 "metadata": {
  "kernelspec": {
   "display_name": "Python 3 (ipykernel)",
   "language": "python",
   "name": "python3"
  },
  "language_info": {
   "codemirror_mode": {
    "name": "ipython",
    "version": 3
   },
   "file_extension": ".py",
   "mimetype": "text/x-python",
   "name": "python",
   "nbconvert_exporter": "python",
   "pygments_lexer": "ipython3",
   "version": "3.12.1"
  }
 },
 "nbformat": 4,
 "nbformat_minor": 5
}

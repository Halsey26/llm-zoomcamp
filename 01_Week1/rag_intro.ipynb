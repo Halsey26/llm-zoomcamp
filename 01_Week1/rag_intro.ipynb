{
 "cells": [
  {
   "cell_type": "code",
   "execution_count": 1,
   "id": "938d9269-cf4f-4317-bc96-1517858dd797",
   "metadata": {},
   "outputs": [
    {
     "name": "stdout",
     "output_type": "stream",
     "text": [
      "--2025-06-04 19:06:56--  https://raw.githubusercontent.com/alexeygrigorev/minsearch/refs/heads/main/minsearch.py\n",
      "Resolving raw.githubusercontent.com (raw.githubusercontent.com)... 185.199.111.133, 185.199.108.133, 185.199.109.133, ...\n",
      "Connecting to raw.githubusercontent.com (raw.githubusercontent.com)|185.199.111.133|:443... connected.\n",
      "HTTP request sent, awaiting response... 200 OK\n",
      "Length: 3832 (3.7K) [text/plain]\n",
      "Saving to: ‘minsearch.py’\n",
      "\n",
      "minsearch.py        100%[===================>]   3.74K  --.-KB/s    in 0s      \n",
      "\n",
      "2025-06-04 19:06:56 (47.2 MB/s) - ‘minsearch.py’ saved [3832/3832]\n",
      "\n"
     ]
    }
   ],
   "source": [
    "# Se descarga en el directorio actual el documento 'minsearch.py' de la ruta indicada\n",
    "!wget https://raw.githubusercontent.com/alexeygrigorev/minsearch/refs/heads/main/minsearch.py"
   ]
  },
  {
   "cell_type": "code",
   "execution_count": 1,
   "id": "2c733049-86c8-4532-bc22-63b0f55596ff",
   "metadata": {},
   "outputs": [],
   "source": [
    "import minsearch"
   ]
  },
  {
   "cell_type": "code",
   "execution_count": 2,
   "id": "d89f2215-b540-49b0-9c61-d7a473e9bb50",
   "metadata": {},
   "outputs": [],
   "source": [
    "# se importa documents.json, contiene documentos por cada curso(data-engieering, ml, etc) que incluye text, section y question.\n",
    "import json\n",
    "\n",
    "with open('documents.json') as documentos_curso:\n",
    "    documents = json.load(documentos_curso)"
   ]
  },
  {
   "cell_type": "code",
   "execution_count": 3,
   "id": "ef41d9f1-1da8-479d-8e75-5cfd1406fe00",
   "metadata": {},
   "outputs": [
    {
     "name": "stdout",
     "output_type": "stream",
     "text": [
      "Tamaño: 3\n",
      "Tipo: <class 'list'>\n",
      "\n",
      "data-engineering-zoomcamp\n",
      "machine-learning-zoomcamp\n",
      "mlops-zoomcamp\n"
     ]
    }
   ],
   "source": [
    "print(f'Tamaño: {len(documents)}')\n",
    "print(f'Tipo: {type(documents)}\\n')\n",
    "\n",
    "for i in range(len(documents)):\n",
    "    print(documents[i]['course'] )\n"
   ]
  },
  {
   "cell_type": "code",
   "execution_count": 4,
   "id": "9ba6c894-84d8-40ba-9b68-c124531051ae",
   "metadata": {},
   "outputs": [
    {
     "data": {
      "text/plain": [
       "{'text': \"The purpose of this document is to capture frequently asked technical questions\\nThe exact day and hour of the course will be 15th Jan 2024 at 17h00. The course will start with the first  “Office Hours'' live.1\\nSubscribe to course public Google Calendar (it works from Desktop only).\\nRegister before the course starts using this link.\\nJoin the course Telegram channel with announcements.\\nDon’t forget to register in DataTalks.Club's Slack and join the channel.\",\n",
       " 'section': 'General course-related questions',\n",
       " 'question': 'Course - When will the course start?'}"
      ]
     },
     "execution_count": 4,
     "metadata": {},
     "output_type": "execute_result"
    }
   ],
   "source": [
    "# primer elemento de documents del curso 'data-engineering-zoomcamp'\n",
    "documents[0]['documents'][0]"
   ]
  },
  {
   "cell_type": "code",
   "execution_count": 5,
   "id": "6ec4b8ca-cfe2-4c3a-9743-9c82086ba946",
   "metadata": {},
   "outputs": [],
   "source": [
    "# Estructura\n",
    "'''\n",
    "Ejemplo del primer elemento de document. (Contiene 3) \n",
    ">> documents[0]\n",
    "'course': string \n",
    "        'data-engineering-zoomcamp'\n",
    "'documents': list of dictionaries \n",
    "        [ {text: '', section: '' , question: ''},\n",
    "          {text: '', section: '' , question: ''},\n",
    "                         ... \n",
    "          {text: '', section: '' , question: ''} ]\n",
    "\n",
    "'''\n",
    "# Lista para almacenar el conjunto total de documents. \n",
    "# Tipo: Lista de diccionarios\n",
    "# Se va a utilizar para indexar\n",
    "docs=[]\n",
    "\n",
    "for i in documents:\n",
    "    for elemento in i['documents']:\n",
    "        elemento['course'] = i['course'] # agregamos esta columna\n",
    "        docs.append(elemento) \n",
    "    "
   ]
  },
  {
   "cell_type": "code",
   "execution_count": 6,
   "id": "4cfeb79c-3765-4ad4-a193-8641ce889e00",
   "metadata": {},
   "outputs": [
    {
     "data": {
      "text/plain": [
       "{'text': 'No, late submissions are not allowed. But if the form is still not closed and it’s after the due date, you can still submit the homework. confirm your submission by the date-timestamp on the Course page.y\\nOlder news:[source1] [source2]',\n",
       " 'section': 'General course-related questions',\n",
       " 'question': 'Homework - Are late submissions of homework allowed?',\n",
       " 'course': 'data-engineering-zoomcamp'}"
      ]
     },
     "execution_count": 6,
     "metadata": {},
     "output_type": "execute_result"
    }
   ],
   "source": [
    "docs[15]\n",
    "# documentos para indexar"
   ]
  },
  {
   "cell_type": "code",
   "execution_count": 17,
   "id": "991256cb-9ca8-4c72-93bb-29380084663b",
   "metadata": {},
   "outputs": [
    {
     "data": {
      "text/plain": [
       "\"\\nUsamos de minsearch.py la clase Index para crear el objeto 'index'.\\nSe inicializa con los atributos de text_fields, keyword_fields\\n\""
      ]
     },
     "execution_count": 17,
     "metadata": {},
     "output_type": "execute_result"
    }
   ],
   "source": [
    "'''\n",
    "Usamos de minsearch.py la clase Index para crear el objeto 'index'.\n",
    "Se inicializa con los atributos de text_fields, keyword_fields\n",
    "Luego aplicamos la función fit con los documentos preparados (docs)\n",
    "\n",
    "NOTA: revisar a mayor profundidad el documento 'minsearch.py'\n",
    "'''"
   ]
  },
  {
   "cell_type": "code",
   "execution_count": 7,
   "id": "b66d8ee5-81b9-4cf3-bb02-1005b7a41e85",
   "metadata": {},
   "outputs": [
    {
     "data": {
      "text/plain": [
       "<minsearch.Index at 0x74477470e9c0>"
      ]
     },
     "execution_count": 7,
     "metadata": {},
     "output_type": "execute_result"
    }
   ],
   "source": [
    "# indexamos los documentos con minsearch\n",
    "index= minsearch.Index(\n",
    "    text_fields =['question','text','section'],  #for performance search\n",
    "    keyword_fields=['course'],\n",
    "        \n",
    ")\n",
    "\n",
    "index.fit(docs)"
   ]
  },
  {
   "cell_type": "code",
   "execution_count": null,
   "id": "8c9878af-e513-4ebb-9ac4-710c8da092dd",
   "metadata": {},
   "outputs": [],
   "source": [
    "'''\n",
    "Función search, retorna lista de diccionarios (documentos) donde cada elemento coincide con el criterio de búsqueda.\n",
    "Parámetros dados: query, diccionario de pesos, diccionario de filtros, número de resultados \n",
    "'''"
   ]
  },
  {
   "cell_type": "code",
   "execution_count": 8,
   "id": "b4117f6f-295c-4f07-8447-a74f2c638021",
   "metadata": {},
   "outputs": [
    {
     "data": {
      "text/plain": [
       "[{'text': \"Yes, even if you don't register, you're still eligible to submit the homeworks.\\nBe aware, however, that there will be deadlines for turning in the final projects. So don't leave everything for the last minute.\",\n",
       "  'section': 'General course-related questions',\n",
       "  'question': 'Course - Can I still join the course after the start date?',\n",
       "  'course': 'data-engineering-zoomcamp'},\n",
       " {'text': 'Yes, we will keep all the materials after the course finishes, so you can follow the course at your own pace after it finishes.\\nYou can also continue looking at the homeworks and continue preparing for the next cohort. I guess you can also start working on your final capstone project.',\n",
       "  'section': 'General course-related questions',\n",
       "  'question': 'Course - Can I follow the course after it finishes?',\n",
       "  'course': 'data-engineering-zoomcamp'},\n",
       " {'text': 'You can start by installing and setting up all the dependencies and requirements:\\nGoogle cloud account\\nGoogle Cloud SDK\\nPython 3 (installed with Anaconda)\\nTerraform\\nGit\\nLook over the prerequisites and syllabus to see if you are comfortable with these subjects.',\n",
       "  'section': 'General course-related questions',\n",
       "  'question': 'Course - What can I do before the course starts?',\n",
       "  'course': 'data-engineering-zoomcamp'},\n",
       " {'text': 'Star the repo! Share it with friends if you find it useful ❣️\\nCreate a PR if you see you can improve the text or the structure of the repository.',\n",
       "  'section': 'General course-related questions',\n",
       "  'question': 'How can we contribute to the course?',\n",
       "  'course': 'data-engineering-zoomcamp'},\n",
       " {'text': \"The purpose of this document is to capture frequently asked technical questions\\nThe exact day and hour of the course will be 15th Jan 2024 at 17h00. The course will start with the first  “Office Hours'' live.1\\nSubscribe to course public Google Calendar (it works from Desktop only).\\nRegister before the course starts using this link.\\nJoin the course Telegram channel with announcements.\\nDon’t forget to register in DataTalks.Club's Slack and join the channel.\",\n",
       "  'section': 'General course-related questions',\n",
       "  'question': 'Course - When will the course start?',\n",
       "  'course': 'data-engineering-zoomcamp'}]"
      ]
     },
     "execution_count": 8,
     "metadata": {},
     "output_type": "execute_result"
    }
   ],
   "source": [
    "#query\n",
    "pregunta= 'the course has already started. Can I still joint it?'\n",
    "pesos_diccionario= {'text':0.2, 'section':0.5,'question':4.0}\n",
    "curso_filtro = {'course':'data-engineering-zoomcamp'}\n",
    "\n",
    "resultados= index.search(\n",
    "    query= pregunta ,\n",
    "    boost_dict= pesos_diccionario,\n",
    "    filter_dict= curso_filtro, \n",
    "    num_results= 5\n",
    ")\n",
    "\n",
    "resultados\n"
   ]
  },
  {
   "cell_type": "code",
   "execution_count": 9,
   "id": "90c6802c-a77a-4f9e-a422-050e9dec65d0",
   "metadata": {},
   "outputs": [
    {
     "name": "stdout",
     "output_type": "stream",
     "text": [
      "<class 'list'>\n"
     ]
    }
   ],
   "source": [
    "print(type(resultados))"
   ]
  },
  {
   "cell_type": "code",
   "execution_count": 15,
   "id": "84484568-e5a9-43c9-95aa-4f1127063182",
   "metadata": {},
   "outputs": [
    {
     "name": "stdout",
     "output_type": "stream",
     "text": [
      "Section: General course-related questions \n",
      "Question: Course - Can I still join the course after the start date? \n",
      "Text: Yes, even if you don't register, you're still eligible to submit the homeworks.\n",
      "Be aware, however, that there will be deadlines for turning in the final projects. So don't leave everything for the last minute. \n",
      "\n",
      "Section: General course-related questions \n",
      "Question: Course - Can I follow the course after it finishes? \n",
      "Text: Yes, we will keep all the materials after the course finishes, so you can follow the course at your own pace after it finishes.\n",
      "You can also continue looking at the homeworks and continue preparing for the next cohort. I guess you can also start working on your final capstone project. \n",
      "\n",
      "Section: General course-related questions \n",
      "Question: Course - What can I do before the course starts? \n",
      "Text: You can start by installing and setting up all the dependencies and requirements:\n",
      "Google cloud account\n",
      "Google Cloud SDK\n",
      "Python 3 (installed with Anaconda)\n",
      "Terraform\n",
      "Git\n",
      "Look over the prerequisites and syllabus to see if you are comfortable with these subjects. \n",
      "\n",
      "Section: General course-related questions \n",
      "Question: How can we contribute to the course? \n",
      "Text: Star the repo! Share it with friends if you find it useful ❣️\n",
      "Create a PR if you see you can improve the text or the structure of the repository. \n",
      "\n",
      "Section: General course-related questions \n",
      "Question: Course - When will the course start? \n",
      "Text: The purpose of this document is to capture frequently asked technical questions\n",
      "The exact day and hour of the course will be 15th Jan 2024 at 17h00. The course will start with the first  “Office Hours'' live.1\n",
      "Subscribe to course public Google Calendar (it works from Desktop only).\n",
      "Register before the course starts using this link.\n",
      "Join the course Telegram channel with announcements.\n",
      "Don’t forget to register in DataTalks.Club's Slack and join the channel. \n",
      "\n",
      "\n"
     ]
    }
   ],
   "source": [
    "'''\n",
    "Se necesita construir un formato de CONTEXT para ser agregado a prompt. \n",
    "Se ordena los elementos de 'resultados'.\n",
    "\n",
    "Output esperado (string):\n",
    "\"{section:'', question: '', text:'' } ,... , {} \"\n",
    "'''\n",
    "contexto= \"\"\n",
    "for i in resultados:\n",
    "    contexto = contexto + f\"Section: {i['section']} \\nQuestion: {i['question']} \\nText: {i['text']} \\n\\n\" \n",
    "\n",
    "# resultados[0]['text']\n",
    "print(contexto)\n"
   ]
  },
  {
   "cell_type": "code",
   "execution_count": 16,
   "id": "bb76c8a9-34d1-4e63-a054-abbb381a0401",
   "metadata": {},
   "outputs": [
    {
     "data": {
      "text/plain": [
       "'the course has already started. Can I still joint it?'"
      ]
     },
     "execution_count": 16,
     "metadata": {},
     "output_type": "execute_result"
    }
   ],
   "source": [
    "# q\n",
    "pregunta"
   ]
  },
  {
   "cell_type": "code",
   "execution_count": null,
   "id": "ba352afd-01d3-4a58-87b8-69db0f4de72d",
   "metadata": {},
   "outputs": [],
   "source": [
    "'''\n",
    "Juntamos todo en el prompt y formateamos con la query(pregunta) y la context(base de datos)\n",
    "'''"
   ]
  },
  {
   "cell_type": "code",
   "execution_count": 29,
   "id": "63ec53bc-630d-42d2-9a27-8ba6ab4f0d31",
   "metadata": {},
   "outputs": [],
   "source": [
    "prompt_template = \"\"\"\n",
    "You are a course teaching assistant. Answer the QUESTION based on the CONTEXT. Use only the facts from the CONTEXT when answering the QUESTION from FAQ \n",
    "database.\n",
    "If the CONTEXT doesn't contain the answer, output NONE.\n",
    "\n",
    "QUESTION: {question}\n",
    "\n",
    "CONTEXT: \n",
    "{context} \n",
    "\n",
    "\"\"\"\n",
    "# strip: elimina espacios en blanco, al inicio y al final\n",
    "prompt_final= prompt_template.format(question= pregunta, context= contexto).strip() \n"
   ]
  },
  {
   "cell_type": "code",
   "execution_count": 30,
   "id": "85487ca9-da6a-4b9e-991c-69f5c3901978",
   "metadata": {},
   "outputs": [
    {
     "name": "stdout",
     "output_type": "stream",
     "text": [
      "You are a course teaching assistant. Answer the QUESTION based on the CONTEXT. Use only the facts from the CONTEXT when answering the QUESTION from FAQ \n",
      "database.\n",
      "If the CONTEXT doesn't contain the answer, output NONE.\n",
      "\n",
      "QUESTION: the course has already started. Can I still joint it?\n",
      "\n",
      "CONTEXT: \n",
      "Section: General course-related questions \n",
      "Question: Course - Can I still join the course after the start date? \n",
      "Text: Yes, even if you don't register, you're still eligible to submit the homeworks.\n",
      "Be aware, however, that there will be deadlines for turning in the final projects. So don't leave everything for the last minute. \n",
      "\n",
      "Section: General course-related questions \n",
      "Question: Course - Can I follow the course after it finishes? \n",
      "Text: Yes, we will keep all the materials after the course finishes, so you can follow the course at your own pace after it finishes.\n",
      "You can also continue looking at the homeworks and continue preparing for the next cohort. I guess you can also start working on your final capstone project. \n",
      "\n",
      "Section: General course-related questions \n",
      "Question: Course - What can I do before the course starts? \n",
      "Text: You can start by installing and setting up all the dependencies and requirements:\n",
      "Google cloud account\n",
      "Google Cloud SDK\n",
      "Python 3 (installed with Anaconda)\n",
      "Terraform\n",
      "Git\n",
      "Look over the prerequisites and syllabus to see if you are comfortable with these subjects. \n",
      "\n",
      "Section: General course-related questions \n",
      "Question: How can we contribute to the course? \n",
      "Text: Star the repo! Share it with friends if you find it useful ❣️\n",
      "Create a PR if you see you can improve the text or the structure of the repository. \n",
      "\n",
      "Section: General course-related questions \n",
      "Question: Course - When will the course start? \n",
      "Text: The purpose of this document is to capture frequently asked technical questions\n",
      "The exact day and hour of the course will be 15th Jan 2024 at 17h00. The course will start with the first  “Office Hours'' live.1\n",
      "Subscribe to course public Google Calendar (it works from Desktop only).\n",
      "Register before the course starts using this link.\n",
      "Join the course Telegram channel with announcements.\n",
      "Don’t forget to register in DataTalks.Club's Slack and join the channel.\n"
     ]
    }
   ],
   "source": [
    "print(prompt_final)"
   ]
  },
  {
   "cell_type": "code",
   "execution_count": null,
   "id": "df9ab7f5-c986-43fb-b83b-71677a7aaddf",
   "metadata": {},
   "outputs": [],
   "source": [
    "'''\n",
    " Insertamos el prompt en nuestro modelo LLM\n",
    "'''"
   ]
  },
  {
   "cell_type": "code",
   "execution_count": 3,
   "id": "f9cf6b34-82e5-4166-8aa7-358fc7cdea64",
   "metadata": {},
   "outputs": [],
   "source": [
    "import os\n",
    "api_key= os.environ.get('OPENAI_API_KEY') # verifica que el api_key exista"
   ]
  },
  {
   "cell_type": "code",
   "execution_count": 7,
   "id": "afb1a4a1-0856-4442-8608-f7e3c22615aa",
   "metadata": {},
   "outputs": [],
   "source": [
    "import openai\n",
    "from openai import OpenAI\n",
    "\n",
    "client = OpenAI()"
   ]
  },
  {
   "cell_type": "code",
   "execution_count": 8,
   "id": "d029fdcd-f093-4f31-be93-072999542529",
   "metadata": {},
   "outputs": [
    {
     "data": {
      "text/plain": [
       "<openai.OpenAI at 0x710211687710>"
      ]
     },
     "execution_count": 8,
     "metadata": {},
     "output_type": "execute_result"
    }
   ],
   "source": [
    "client"
   ]
  },
  {
   "cell_type": "code",
   "execution_count": 10,
   "id": "0bad94b9-3633-4534-94c9-214dc3a0cde0",
   "metadata": {},
   "outputs": [],
   "source": [
    "response = client.chat.completions.create(\n",
    "    model ='gpt-4o-mini',\n",
    "    messages = [\n",
    "        {\n",
    "            \"role\":\"user\",\n",
    "            \"content\": pregunta\n",
    "        }\n",
    "    ]\n",
    ")"
   ]
  },
  {
   "cell_type": "code",
   "execution_count": 26,
   "id": "3d542d50-24e7-486f-be15-584ca5d27843",
   "metadata": {},
   "outputs": [
    {
     "data": {
      "text/plain": [
       "'It depends on the policies of the institution or organization offering the course. Many courses allow late enrollments, while others may have strict deadlines. I recommend reaching out to the course instructor or administration to inquire about the possibility of joining the course, even if it has already started. They can provide you with the best information regarding availability and any necessary steps you need to take.'"
      ]
     },
     "execution_count": 26,
     "metadata": {},
     "output_type": "execute_result"
    }
   ],
   "source": [
    "# respuesta sin contexto \n",
    "response.choices[0].message.content"
   ]
  },
  {
   "cell_type": "code",
   "execution_count": null,
   "id": "af633869-8de0-4d97-b9d4-e21bd6a1683d",
   "metadata": {},
   "outputs": [],
   "source": [
    "#RESPUESTA CON EL PROMPT CON EL CONTEXTO "
   ]
  },
  {
   "cell_type": "code",
   "execution_count": 36,
   "id": "4a3fb750-34d6-4a5c-a04d-771438f46969",
   "metadata": {},
   "outputs": [],
   "source": [
    "response = client.chat.completions.create(\n",
    "    model ='gpt-4o-mini',\n",
    "    messages = [\n",
    "        {\n",
    "            \"role\":\"user\",\n",
    "            \"content\": prompt_final\n",
    "        }\n",
    "    ]\n",
    ")"
   ]
  },
  {
   "cell_type": "code",
   "execution_count": 37,
   "id": "2178159a-ac14-4872-89b8-f68267fd8a04",
   "metadata": {},
   "outputs": [
    {
     "data": {
      "text/plain": [
       "\"Yes, even if you don't register, you're still eligible to submit the homeworks. Be aware, however, that there will be deadlines for turning in the final projects. So don't leave everything for the last minute.\""
      ]
     },
     "execution_count": 37,
     "metadata": {},
     "output_type": "execute_result"
    }
   ],
   "source": [
    "response.choices[0].message.content"
   ]
  },
  {
   "cell_type": "code",
   "execution_count": 41,
   "id": "d0fc41f0-7fd0-4d0f-8885-11302c8074cd",
   "metadata": {},
   "outputs": [
    {
     "data": {
      "text/plain": [
       "'Sí, puedes unirte al curso aunque ya haya comenzado. Aún eres elegible para enviar las tareas, pero ten en cuenta que habrá fechas límite para entregar los proyectos finales.'"
      ]
     },
     "execution_count": 41,
     "metadata": {},
     "output_type": "execute_result"
    }
   ],
   "source": [
    "# respuesta en español\n",
    "prompt_final=prompt_template.format(question='El curso ya comenzó, puedo unirme todavía?', context= contexto).strip()\n",
    "\n",
    "response = client.chat.completions.create(\n",
    "    model ='gpt-4o-mini',\n",
    "    messages = [\n",
    "        {\n",
    "            \"role\":\"user\",\n",
    "            \"content\": prompt_final\n",
    "        }\n",
    "    ]\n",
    ")\n",
    "\n",
    "response.choices[0].message.content"
   ]
  },
  {
   "cell_type": "code",
   "execution_count": null,
   "id": "5d2c830b-a138-4c97-8736-2cb6e17abaac",
   "metadata": {},
   "outputs": [],
   "source": [
    "'''\n",
    "A continuación:\n",
    "Modularización: https://www.youtube.com/watch?v=vkTiVwwch6A&list=PL3MmuxUbc_hIB4fSqLy_0AfTjVLpgjV3R&index=7&ab_channel=DataTalksClub%E2%AC%9B\n",
    "'''"
   ]
  },
  {
   "cell_type": "code",
   "execution_count": null,
   "id": "695fce06-2265-4b23-bd9f-af28be8bbb4b",
   "metadata": {},
   "outputs": [],
   "source": []
  }
 ],
 "metadata": {
  "kernelspec": {
   "display_name": "Python 3 (ipykernel)",
   "language": "python",
   "name": "python3"
  },
  "language_info": {
   "codemirror_mode": {
    "name": "ipython",
    "version": 3
   },
   "file_extension": ".py",
   "mimetype": "text/x-python",
   "name": "python",
   "nbconvert_exporter": "python",
   "pygments_lexer": "ipython3",
   "version": "3.12.1"
  }
 },
 "nbformat": 4,
 "nbformat_minor": 5
}

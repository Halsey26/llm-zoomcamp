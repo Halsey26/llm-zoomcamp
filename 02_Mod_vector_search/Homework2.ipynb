{
 "cells": [
  {
   "cell_type": "markdown",
   "id": "dcc065e7",
   "metadata": {},
   "source": [
    "# Homework 2"
   ]
  },
  {
   "cell_type": "markdown",
   "id": "2397cf9d",
   "metadata": {},
   "source": [
    "Indicaciones del [Homework](https://github.com/DataTalksClub/llm-zoomcamp/blob/main/cohorts/2025/02-vector-search/homework.md): Vector Search\n"
   ]
  },
  {
   "cell_type": "markdown",
   "id": "69cf5d9a",
   "metadata": {},
   "source": [
    "## Q1\n",
    "Embed the query: 'I just discovered the course. Can I join now?'. Use the 'jinaai/jina-embeddings-v2-small-en' model.\n",
    "\n",
    "You should get a numpy array of size 512.\n",
    "\n",
    "What's the minimal value in this array?\n",
    "\n",
    "- Documentación usada: [qdrant_fastembed](https://qdrant.tech/documentation/fastembed/fastembed-quickstart/)"
   ]
  },
  {
   "cell_type": "code",
   "execution_count": 2,
   "id": "1a740c52",
   "metadata": {},
   "outputs": [
    {
     "name": "stderr",
     "output_type": "stream",
     "text": [
      "/home/codespace/.python/current/lib/python3.12/site-packages/tqdm/auto.py:21: TqdmWarning: IProgress not found. Please update jupyter and ipywidgets. See https://ipywidgets.readthedocs.io/en/stable/user_install.html\n",
      "  from .autonotebook import tqdm as notebook_tqdm\n"
     ]
    }
   ],
   "source": [
    "from fastembed import TextEmbedding\n",
    "\n",
    "modelo= 'jinaai/jina-embeddings-v2-small-en'\n",
    "modelo_embedding= TextEmbedding(model_name=modelo)\n",
    "\n",
    "query= 'I just discovered the course. Can I join now?'\n",
    "query_embed= modelo_embedding.embed(query)\n",
    "query_embed = list(query_embed)"
   ]
  },
  {
   "cell_type": "code",
   "execution_count": 3,
   "id": "2dfba703",
   "metadata": {},
   "outputs": [
    {
     "name": "stdout",
     "output_type": "stream",
     "text": [
      "Tamaño del array: 512\n",
      "Mínimo valor del array: -0.1173\n"
     ]
    }
   ],
   "source": [
    "print(f'Tamaño del array: {len(query_embed[0])}')\n",
    "print(f'Mínimo valor del array: {min(query_embed[0]):.4f}')"
   ]
  },
  {
   "cell_type": "markdown",
   "id": "ac5a6232",
   "metadata": {},
   "source": [
    "##  Q2\n",
    "**Cosine similarity with another vector** <p>\n",
    "Now let's embed this document:\n",
    "- doc = 'Can I still join the course after the start date?'\n",
    "\n",
    "What's the cosine similarity between the vector for the query and the vector for the document?"
   ]
  },
  {
   "cell_type": "code",
   "execution_count": 4,
   "id": "b5516d69",
   "metadata": {},
   "outputs": [
    {
     "data": {
      "text/plain": [
       "np.float64(1.0)"
      ]
     },
     "execution_count": 4,
     "metadata": {},
     "output_type": "execute_result"
    }
   ],
   "source": [
    "# Los vectores ya estan normalizados\n",
    "import numpy as np\n",
    "np.linalg.norm(query_embed)"
   ]
  },
  {
   "cell_type": "code",
   "execution_count": 5,
   "id": "dd60a707",
   "metadata": {},
   "outputs": [
    {
     "name": "stdout",
     "output_type": "stream",
     "text": [
      "Similitud de coseno de la query embebida consigo misma: 1.0000\n"
     ]
    }
   ],
   "source": [
    "# el coseno del vector embebido consigo mismo, debería dar 1\n",
    "print(f'Similitud de coseno de la query embebida consigo misma: {np.dot(query_embed[0], query_embed[0]):.4f}')"
   ]
  },
  {
   "cell_type": "code",
   "execution_count": 6,
   "id": "4ff25353",
   "metadata": {},
   "outputs": [
    {
     "name": "stdout",
     "output_type": "stream",
     "text": [
      "Evaluación Cosine Similarity: 0.901\n"
     ]
    }
   ],
   "source": [
    "doc= 'Can I still join the course after the start date?'\n",
    "\n",
    "doc_embed= list(modelo_embedding.embed(doc))\n",
    "cosine= np.dot(query_embed[0], doc_embed[0])\n",
    "\n",
    "print(f'Evaluación Cosine Similarity: {cosine:.3f}')\n"
   ]
  },
  {
   "cell_type": "markdown",
   "id": "c9c116b7",
   "metadata": {},
   "source": [
    "## Q3\n",
    "Ranking por coseno\n",
    "Para las preguntas 3 y 4, se usarán estos documentos.\n",
    "Indicación:\n",
    "```\n",
    "Compute the embeddings for the text field, and compute the cosine between the query vector and all the documents.\n",
    "What's the document index with the highest similarity? (Indexing starts from 0):\n",
    "```"
   ]
  },
  {
   "cell_type": "code",
   "execution_count": 7,
   "id": "ac2912df",
   "metadata": {},
   "outputs": [],
   "source": [
    "documents = [{'text': \"Yes, even if you don't register, you're still eligible to submit the homeworks.\\nBe aware, however, that there will be deadlines for turning in the final projects. So don't leave everything for the last minute.\",\n",
    "  'section': 'General course-related questions',\n",
    "  'question': 'Course - Can I still join the course after the start date?',\n",
    "  'course': 'data-engineering-zoomcamp'},\n",
    " {'text': 'Yes, we will keep all the materials after the course finishes, so you can follow the course at your own pace after it finishes.\\nYou can also continue looking at the homeworks and continue preparing for the next cohort. I guess you can also start working on your final capstone project.',\n",
    "  'section': 'General course-related questions',\n",
    "  'question': 'Course - Can I follow the course after it finishes?',\n",
    "  'course': 'data-engineering-zoomcamp'},\n",
    " {'text': \"The purpose of this document is to capture frequently asked technical questions\\nThe exact day and hour of the course will be 15th Jan 2024 at 17h00. The course will start with the first  “Office Hours'' live.1\\nSubscribe to course public Google Calendar (it works from Desktop only).\\nRegister before the course starts using this link.\\nJoin the course Telegram channel with announcements.\\nDon’t forget to register in DataTalks.Club's Slack and join the channel.\",\n",
    "  'section': 'General course-related questions',\n",
    "  'question': 'Course - When will the course start?',\n",
    "  'course': 'data-engineering-zoomcamp'},\n",
    " {'text': 'You can start by installing and setting up all the dependencies and requirements:\\nGoogle cloud account\\nGoogle Cloud SDK\\nPython 3 (installed with Anaconda)\\nTerraform\\nGit\\nLook over the prerequisites and syllabus to see if you are comfortable with these subjects.',\n",
    "  'section': 'General course-related questions',\n",
    "  'question': 'Course - What can I do before the course starts?',\n",
    "  'course': 'data-engineering-zoomcamp'},\n",
    " {'text': 'Star the repo! Share it with friends if you find it useful ❣️\\nCreate a PR if you see you can improve the text or the structure of the repository.',\n",
    "  'section': 'General course-related questions',\n",
    "  'question': 'How can we contribute to the course?',\n",
    "  'course': 'data-engineering-zoomcamp'}]"
   ]
  },
  {
   "cell_type": "code",
   "execution_count": 8,
   "id": "ea3017fe",
   "metadata": {},
   "outputs": [
    {
     "name": "stdout",
     "output_type": "stream",
     "text": [
      "Evaluación Cosine Similarity para el primer documento: 0.763\n"
     ]
    }
   ],
   "source": [
    "# Obtención de solo el campo 'text'\n",
    "text_documents= []\n",
    "for i in documents:\n",
    "    text_documents.append(i['text'])\n",
    "\n",
    "# embedding\n",
    "text_embed= list(modelo_embedding.embed(text_documents))\n",
    "\n",
    "# coseno con el primer documento\n",
    "cosine_q3= np.dot(query_embed[0], text_embed[0])\n",
    "\n",
    "print(f'Evaluación Cosine Similarity para el primer documento: {cosine_q3:.3f}')\n"
   ]
  },
  {
   "cell_type": "code",
   "execution_count": 9,
   "id": "7d60838f",
   "metadata": {},
   "outputs": [
    {
     "name": "stdout",
     "output_type": "stream",
     "text": [
      "Tamaño text_embed: (5, 512)\n",
      "Tamaño query_embed: (512,)\n"
     ]
    }
   ],
   "source": [
    "text_array= np.array(text_embed)\n",
    "print(f'Tamaño text_embed: {text_array.shape}')\n",
    "print(f'Tamaño query_embed: {query_embed[0].shape}')\n"
   ]
  },
  {
   "cell_type": "code",
   "execution_count": 10,
   "id": "a1fba185",
   "metadata": {},
   "outputs": [
    {
     "name": "stdout",
     "output_type": "stream",
     "text": [
      "Evaluación por similitud de cosenos para TODOS los documentos:\n",
      "Indice: 0 - Cos: 0.763\n",
      "Indice: 1 - Cos: 0.818\n",
      "Indice: 2 - Cos: 0.809\n",
      "Indice: 3 - Cos: 0.713\n",
      "Indice: 4 - Cos: 0.730\n"
     ]
    }
   ],
   "source": [
    "coseno_docs = np.dot(text_array,query_embed[0])\n",
    "\n",
    "print('Evaluación por similitud de cosenos para TODOS los documentos:')\n",
    "i=0\n",
    "print\n",
    "\n",
    "for cos_doc in coseno_docs:\n",
    "    print(f'Indice: {i} - Cos: {cos_doc:.3f}')\n",
    "    i+=1"
   ]
  },
  {
   "cell_type": "code",
   "execution_count": 11,
   "id": "45888568",
   "metadata": {},
   "outputs": [
    {
     "data": {
      "text/plain": [
       "np.float64(0.8182378150042889)"
      ]
     },
     "execution_count": 11,
     "metadata": {},
     "output_type": "execute_result"
    }
   ],
   "source": [
    "max(coseno_docs)"
   ]
  },
  {
   "cell_type": "markdown",
   "id": "9af0be06",
   "metadata": {},
   "source": [
    "## Q4\n",
    "\n",
    "Now let's calculate a new field, which is a concatenation of question and text:\n",
    "- `full_text = doc['question'] + ' ' + doc['text']`\n",
    "\n",
    "Embed this field and compute the cosine between it and the query vector. What's the highest scoring document?"
   ]
  },
  {
   "cell_type": "code",
   "execution_count": 40,
   "id": "c89c355e",
   "metadata": {},
   "outputs": [
    {
     "name": "stdout",
     "output_type": "stream",
     "text": [
      "Evaluación por similitud de cosenos (campo QUESTION añadido)\n",
      "Indice: 0 - Cos: 0.851\n",
      "Indice: 1 - Cos: 0.844\n",
      "Indice: 2 - Cos: 0.841\n",
      "Indice: 3 - Cos: 0.776\n",
      "Indice: 4 - Cos: 0.809\n"
     ]
    }
   ],
   "source": [
    "# creación de nuevo campo\n",
    "# documents_v2= documents.copy()\n",
    "\n",
    "# for doc in documents_v2:\n",
    "#     doc['full_text']= doc['question']+' '+doc['text']\n",
    "\n",
    "#obtención del campo 'full_text'\n",
    "full_text=[]\n",
    "for doc in documents:\n",
    "    full_text.append(doc['question']+' '+doc['text']) \n",
    "\n",
    "\n",
    "#embedding\n",
    "textField_embed= list(modelo_embedding.embed(full_text)) \n",
    "textField_embed= np.array(textField_embed)\n",
    "coseno_q4= np.dot(textField_embed, query_embed[0])\n",
    "\n",
    "print('Evaluación por similitud de cosenos (campo QUESTION añadido)')\n",
    "i=0\n",
    "print\n",
    "\n",
    "for cos_doc in coseno_q4:\n",
    "    print(f'Indice: {i} - Cos: {cos_doc:.3f}')\n",
    "    i+=1\n"
   ]
  },
  {
   "cell_type": "markdown",
   "id": "83d87fa8",
   "metadata": {},
   "source": [
    "El documento con mayor similitud es el primero, indice 0"
   ]
  },
  {
   "cell_type": "markdown",
   "id": "eee19c7e",
   "metadata": {},
   "source": [
    "En este caso, al añadir la pregunta el documento con mayor similitud será el primero (índice 0)<p>\n",
    "Esto se debe a que la pregunta del textField_embed[0] es:\n",
    "- Can I still join the course after the start date? \n",
    "\n",
    "Y la query: \n",
    "- 'I just discovered the course. Can I join now?'\n"
   ]
  },
  {
   "cell_type": "code",
   "execution_count": 39,
   "id": "279383bf",
   "metadata": {},
   "outputs": [
    {
     "name": "stdout",
     "output_type": "stream",
     "text": [
      "Documento original:\n",
      " [\"Yes, even if you don't register, you're still eligible to submit the homeworks.\\nBe aware, however, that there will be deadlines for turning in the final projects. So don't leave everything for the last minute.\", 'Yes, we will keep all the materials after the course finishes, so you can follow the course at your own pace after it finishes.\\nYou can also continue looking at the homeworks and continue preparing for the next cohort. I guess you can also start working on your final capstone project.', \"The purpose of this document is to capture frequently asked technical questions\\nThe exact day and hour of the course will be 15th Jan 2024 at 17h00. The course will start with the first  “Office Hours'' live.1\\nSubscribe to course public Google Calendar (it works from Desktop only).\\nRegister before the course starts using this link.\\nJoin the course Telegram channel with announcements.\\nDon’t forget to register in DataTalks.Club's Slack and join the channel.\", 'You can start by installing and setting up all the dependencies and requirements:\\nGoogle cloud account\\nGoogle Cloud SDK\\nPython 3 (installed with Anaconda)\\nTerraform\\nGit\\nLook over the prerequisites and syllabus to see if you are comfortable with these subjects.', 'Star the repo! Share it with friends if you find it useful ❣️\\nCreate a PR if you see you can improve the text or the structure of the repository.']\n",
      "\n",
      " Documento con la pregunta añadida:\n",
      "[\"Course - Can I still join the course after the start date? Yes, even if you don't register, you're still eligible to submit the homeworks.\\nBe aware, however, that there will be deadlines for turning in the final projects. So don't leave everything for the last minute.\", 'Course - Can I follow the course after it finishes? Yes, we will keep all the materials after the course finishes, so you can follow the course at your own pace after it finishes.\\nYou can also continue looking at the homeworks and continue preparing for the next cohort. I guess you can also start working on your final capstone project.', \"Course - When will the course start? The purpose of this document is to capture frequently asked technical questions\\nThe exact day and hour of the course will be 15th Jan 2024 at 17h00. The course will start with the first  “Office Hours'' live.1\\nSubscribe to course public Google Calendar (it works from Desktop only).\\nRegister before the course starts using this link.\\nJoin the course Telegram channel with announcements.\\nDon’t forget to register in DataTalks.Club's Slack and join the channel.\", 'Course - What can I do before the course starts? You can start by installing and setting up all the dependencies and requirements:\\nGoogle cloud account\\nGoogle Cloud SDK\\nPython 3 (installed with Anaconda)\\nTerraform\\nGit\\nLook over the prerequisites and syllabus to see if you are comfortable with these subjects.', 'How can we contribute to the course? Star the repo! Share it with friends if you find it useful ❣️\\nCreate a PR if you see you can improve the text or the structure of the repository.']\n"
     ]
    }
   ],
   "source": [
    "print(f'Documento original:\\n {text_documents}\\n\\n Documento con la pregunta añadida:\\n{full_text}')"
   ]
  },
  {
   "cell_type": "markdown",
   "id": "751d8266",
   "metadata": {},
   "source": [
    "## Q5\n",
    "Now let's select a smaller embedding model. What's the smallest dimensionality for models in fastembed?\n",
    "\n",
    "One of these models is `BAAI/bge-small-en`. Let's use it."
   ]
  },
  {
   "cell_type": "code",
   "execution_count": 10,
   "id": "51023cd5",
   "metadata": {},
   "outputs": [
    {
     "name": "stdout",
     "output_type": "stream",
     "text": [
      "Modelo: BAAI/bge-small-en \n",
      "Dimension: 384\n"
     ]
    }
   ],
   "source": [
    "modelos= TextEmbedding.list_supported_models()\n",
    "modelo_seleccionado = \"\"\n",
    "for model in modelos:\n",
    "    if model['model']== 'BAAI/bge-small-en':\n",
    "        modelo_seleccionado=model['model'] #redudante, pero para establecer que se utiliza este modelo\n",
    "        dimension= model['dim']\n",
    "        print(f'Modelo: {model['model']} \\nDimension: {model['dim']}')  "
   ]
  },
  {
   "cell_type": "markdown",
   "id": "007d2cf6",
   "metadata": {},
   "source": [
    "## Q6\n",
    "For the last question, we will use more documents.\n",
    "\n",
    "We will select only FAQ records from our **ml zoomcamp**.\n",
    "\n",
    "Add them to qdrant using the model form Q5.\n",
    "\n",
    "When adding the data, use both question and answer fields:\n",
    "- `text = doc['question'] + ' ' + doc['text']`\n",
    "\n",
    "After the data is inserted, use the question from Q1 for querying the collection.\n",
    "\n",
    "What's the highest score in the results? (The score for the first returned record):"
   ]
  },
  {
   "cell_type": "code",
   "execution_count": 1,
   "id": "8d02dfb1",
   "metadata": {},
   "outputs": [],
   "source": [
    "import requests \n",
    "\n",
    "docs_url = 'https://github.com/alexeygrigorev/llm-rag-workshop/raw/main/notebooks/documents.json'\n",
    "docs_response = requests.get(docs_url)\n",
    "documents_raw = docs_response.json()\n",
    "\n",
    "\n",
    "documents = []\n",
    "\n",
    "for course in documents_raw:\n",
    "    course_name = course['course']\n",
    "    if course_name != 'machine-learning-zoomcamp':\n",
    "        continue\n",
    "\n",
    "    for doc in course['documents']:\n",
    "        doc['course'] = course_name\n",
    "        documents.append(doc)"
   ]
  },
  {
   "cell_type": "code",
   "execution_count": 6,
   "id": "84704b6c",
   "metadata": {},
   "outputs": [
    {
     "data": {
      "text/plain": [
       "'BAAI/bge-small-en'"
      ]
     },
     "execution_count": 6,
     "metadata": {},
     "output_type": "execute_result"
    }
   ],
   "source": [
    "modelo_seleccionado"
   ]
  },
  {
   "cell_type": "code",
   "execution_count": 8,
   "id": "0ba4347b",
   "metadata": {},
   "outputs": [],
   "source": [
    "# conexion con qdrant\n",
    "from qdrant_client import QdrantClient, models\n",
    "cliente= QdrantClient('http://localhost:6333') # correr el contenedor de qdrant previamente\n",
    "modelo = modelo_seleccionado"
   ]
  },
  {
   "cell_type": "markdown",
   "id": "bdf375de",
   "metadata": {},
   "source": [
    "Se crea la Colección"
   ]
  },
  {
   "cell_type": "code",
   "execution_count": 13,
   "id": "959af174",
   "metadata": {},
   "outputs": [
    {
     "data": {
      "text/plain": [
       "True"
      ]
     },
     "execution_count": 13,
     "metadata": {},
     "output_type": "execute_result"
    }
   ],
   "source": [
    "name_collection = 'homework2_collection'\n",
    "cliente.create_collection(\n",
    "    collection_name= name_collection,\n",
    "    vectors_config= models.VectorParams(\n",
    "        size= dimension,\n",
    "        distance= models.Distance.COSINE\n",
    "    )\n",
    ")"
   ]
  },
  {
   "cell_type": "markdown",
   "id": "ccae1261",
   "metadata": {},
   "source": [
    "Nota: \n",
    "Para este caso no es necesario hacer 'Indexación del payload' porque los documentos ya son para un solo curso: 'machine-learning-zoomcamp'"
   ]
  },
  {
   "cell_type": "markdown",
   "id": "c95ecd32",
   "metadata": {},
   "source": [
    "Creación de los puntos"
   ]
  },
  {
   "cell_type": "code",
   "execution_count": null,
   "id": "a9f2425b",
   "metadata": {},
   "outputs": [
    {
     "name": "stdout",
     "output_type": "stream",
     "text": [
      "Cantidad de puntos: 375\n"
     ]
    }
   ],
   "source": [
    "points = []\n",
    "\n",
    "for i,doc in enumerate(documents):\n",
    "\n",
    "    text = doc['question']+ ' '+doc['text']\n",
    "    point = models.PointStruct(\n",
    "        id= i,\n",
    "        vector= models.Document(text= text, model=modelo), \n",
    "        payload= doc\n",
    "    )\n",
    "    points.append(point)\n",
    "    \n",
    "print(f'Cantidad de puntos: {len(points)}')"
   ]
  },
  {
   "cell_type": "markdown",
   "id": "09871be9",
   "metadata": {},
   "source": [
    "Se actualiza o inserta los puntos a la colección"
   ]
  },
  {
   "cell_type": "code",
   "execution_count": 21,
   "id": "571cfee9",
   "metadata": {},
   "outputs": [
    {
     "name": "stderr",
     "output_type": "stream",
     "text": [
      "Fetching 5 files: 100%|██████████| 5/5 [00:00<00:00,  8.34it/s]\n"
     ]
    },
    {
     "data": {
      "text/plain": [
       "UpdateResult(operation_id=0, status=<UpdateStatus.COMPLETED: 'completed'>)"
      ]
     },
     "execution_count": 21,
     "metadata": {},
     "output_type": "execute_result"
    }
   ],
   "source": [
    "cliente.upsert(\n",
    "    collection_name= name_collection, \n",
    "    points= points\n",
    ")"
   ]
  },
  {
   "cell_type": "markdown",
   "id": "2cd9c2f9",
   "metadata": {},
   "source": [
    "Función búsqueda"
   ]
  },
  {
   "cell_type": "code",
   "execution_count": 24,
   "id": "3b86806f",
   "metadata": {},
   "outputs": [],
   "source": [
    "def vector_search(query, limit=1):\n",
    "    results= cliente.query_points(\n",
    "        collection_name= name_collection,\n",
    "        query = models.Document(\n",
    "            text= query,\n",
    "            model= modelo\n",
    "        ), \n",
    "        limit=limit,\n",
    "        with_payload=True\n",
    "    )\n",
    "    return results"
   ]
  },
  {
   "cell_type": "code",
   "execution_count": 27,
   "id": "e5731fdb",
   "metadata": {},
   "outputs": [],
   "source": [
    "query= 'I just discovered the course. Can I join now?'\n",
    "rpta_busqueda= vector_search(query)"
   ]
  },
  {
   "cell_type": "code",
   "execution_count": 37,
   "id": "c19990ac",
   "metadata": {},
   "outputs": [],
   "source": [
    "score = rpta_busqueda.points[0].score\n",
    "rpta=  rpta_busqueda.points[0].payload['text']"
   ]
  },
  {
   "cell_type": "code",
   "execution_count": 39,
   "id": "716aface",
   "metadata": {},
   "outputs": [
    {
     "name": "stdout",
     "output_type": "stream",
     "text": [
      "Respuesta: Yes, you can. You won’t be able to submit some of the homeworks, but you can still take part in the course.\n",
      "In order to get a certificate, you need to submit 2 out of 3 course projects and review 3 peers’ Projects by the deadline. It means that if you join the course at the end of November and manage to work on two projects, you will still be eligible for a certificate.\n",
      "\n",
      "Puntaje: 0.8703172\n"
     ]
    }
   ],
   "source": [
    "print(f'Respuesta: {rpta}\\n')\n",
    "print(f'Puntaje: {score}')"
   ]
  }
 ],
 "metadata": {
  "kernelspec": {
   "display_name": "Python 3",
   "language": "python",
   "name": "python3"
  },
  "language_info": {
   "codemirror_mode": {
    "name": "ipython",
    "version": 3
   },
   "file_extension": ".py",
   "mimetype": "text/x-python",
   "name": "python",
   "nbconvert_exporter": "python",
   "pygments_lexer": "ipython3",
   "version": "3.12.1"
  }
 },
 "nbformat": 4,
 "nbformat_minor": 5
}

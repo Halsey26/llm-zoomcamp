{
 "cells": [
  {
   "cell_type": "markdown",
   "id": "3d00d15a",
   "metadata": {},
   "source": [
    "Librerías necesarias:\n",
    "```\n",
    "pip install cognee kuzu\n",
    "```"
   ]
  },
  {
   "cell_type": "code",
   "execution_count": null,
   "id": "9cee0086",
   "metadata": {},
   "outputs": [],
   "source": []
  }
 ],
 "metadata": {
  "language_info": {
   "name": "python"
  }
 },
 "nbformat": 4,
 "nbformat_minor": 5
}

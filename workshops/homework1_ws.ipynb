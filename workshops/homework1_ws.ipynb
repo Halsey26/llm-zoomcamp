{
 "cells": [
  {
   "cell_type": "markdown",
   "id": "3d00d15a",
   "metadata": {},
   "source": [
    "Librerías necesarias:\n",
    "```\n",
    "pip install cognee kuzu\n",
    "pip install -q \"dlt[qdrant]\" \"qdrant-client[fastembed]\"\n",
    "\n",
    "```"
   ]
  },
  {
   "cell_type": "code",
   "execution_count": 6,
   "id": "9cee0086",
   "metadata": {},
   "outputs": [],
   "source": [
    "import requests\n",
    "import dlt"
   ]
  },
  {
   "cell_type": "markdown",
   "id": "0c2526d2",
   "metadata": {},
   "source": [
    "## 1. Versión de dlt"
   ]
  },
  {
   "cell_type": "code",
   "execution_count": null,
   "id": "f505ed02",
   "metadata": {},
   "outputs": [
    {
     "name": "stdout",
     "output_type": "stream",
     "text": [
      "\u001b[39mdlt 1.13.0\u001b[0m\n"
     ]
    }
   ],
   "source": [
    "\n",
    "!dlt --version"
   ]
  },
  {
   "cell_type": "markdown",
   "id": "ef6b5b3c",
   "metadata": {},
   "source": [
    "## 2. dlt pipelines"
   ]
  },
  {
   "cell_type": "code",
   "execution_count": 7,
   "id": "a4c318c9",
   "metadata": {},
   "outputs": [],
   "source": [
    "# fuente\n",
    "@dlt.resource(write_disposition=\"replace\", name=\"zoomcamp_data\")\n",
    "def zoomcamp_data():\n",
    "    docs_url = 'https://github.com/alexeygrigorev/llm-rag-workshop/raw/main/notebooks/documents.json'\n",
    "    docs_response = requests.get(docs_url)\n",
    "    documents_raw = docs_response.json()\n",
    "\n",
    "    for course in documents_raw:\n",
    "        course_name = course['course']\n",
    "\n",
    "        for doc in course['documents']:\n",
    "            doc['course'] = course_name\n",
    "            yield doc\n",
    "\n"
   ]
  },
  {
   "cell_type": "markdown",
   "id": "2858acb4",
   "metadata": {},
   "source": [
    "Ahora necesitamos definir el destino.\n",
    "Donde la data será almacenada en el archivo db.qdrant "
   ]
  },
  {
   "cell_type": "code",
   "execution_count": 8,
   "id": "7f5e5a5f",
   "metadata": {},
   "outputs": [],
   "source": [
    "from dlt.destinations import qdrant\n",
    "\n",
    "qdrant_destinantion = qdrant(\n",
    "    qd_path = \"d.qdrant\"\n",
    ")\n",
    "# Data will be stored in db.qdrant file placed in current working directory."
   ]
  },
  {
   "cell_type": "code",
   "execution_count": 9,
   "id": "78d12b4a",
   "metadata": {},
   "outputs": [
    {
     "name": "stderr",
     "output_type": "stream",
     "text": [
      "/usr/local/python/3.12.1/lib/python3.12/site-packages/tqdm/auto.py:21: TqdmWarning: IProgress not found. Please update jupyter and ipywidgets. See https://ipywidgets.readthedocs.io/en/stable/user_install.html\n",
      "  from .autonotebook import tqdm as notebook_tqdm\n",
      "Fetching 5 files: 100%|██████████| 5/5 [00:00<00:00,  8.84it/s]\n"
     ]
    },
    {
     "name": "stdout",
     "output_type": "stream",
     "text": [
      "Run started at 2025-07-10 22:16:09.616602+00:00 and COMPLETED in 10.24 seconds with 4 steps.\n",
      "Step extract COMPLETED in 0.49 seconds.\n",
      "\n",
      "Load package 1752185775.168173 is EXTRACTED and NOT YET LOADED to the destination and contains no failed jobs\n",
      "\n",
      "Step normalize COMPLETED in 0.09 seconds.\n",
      "Normalized data for the following tables:\n",
      "- _dlt_pipeline_state: 1 row(s)\n",
      "- zoomcamp_data: 948 row(s)\n",
      "\n",
      "Load package 1752185775.168173 is NORMALIZED and NOT YET LOADED to the destination and contains no failed jobs\n",
      "\n",
      "Step load COMPLETED in 4.12 seconds.\n",
      "Pipeline zoomcamp_pipeline load step completed in 4.11 seconds\n",
      "1 load package(s) were loaded to destination qdrant and into dataset zoomcamp_tagged_data\n",
      "The qdrant destination used /workspaces/llm-zoomcamp/workshops/d.qdrant location to store data\n",
      "Load package 1752185775.168173 is LOADED and contains no failed jobs\n",
      "\n",
      "Step run COMPLETED in 10.24 seconds.\n",
      "Pipeline zoomcamp_pipeline load step completed in 4.11 seconds\n",
      "1 load package(s) were loaded to destination qdrant and into dataset zoomcamp_tagged_data\n",
      "The qdrant destination used /workspaces/llm-zoomcamp/workshops/d.qdrant location to store data\n",
      "Load package 1752185775.168173 is LOADED and contains no failed jobs\n"
     ]
    }
   ],
   "source": [
    "# Crear el pipeline\n",
    "pipeline = dlt.pipeline(\n",
    "    pipeline_name= \"zoomcamp_pipeline\",\n",
    "    destination= qdrant_destinantion, \n",
    "    dataset_name= \"zoomcamp_tagged_data\"\n",
    "\n",
    ")\n",
    "\n",
    "load_info = pipeline.run(zoomcamp_data())\n",
    "print(pipeline.last_trace)"
   ]
  },
  {
   "cell_type": "markdown",
   "id": "bdc350a1",
   "metadata": {},
   "source": [
    "Las filas cargadas son 948"
   ]
  },
  {
   "cell_type": "markdown",
   "id": "49bbf998",
   "metadata": {},
   "source": [
    "## ¿Qué modelo es usado?"
   ]
  },
  {
   "cell_type": "code",
   "execution_count": 11,
   "id": "7e04bafd",
   "metadata": {},
   "outputs": [
    {
     "name": "stdout",
     "output_type": "stream",
     "text": [
      "{'collections': {'zoomcamp_tagged_data': {'vectors': {'fast-bge-small-en': {'size': 384, 'distance': 'Cosine', 'hnsw_config': None, 'quantization_config': None, 'on_disk': None, 'datatype': None, 'multivector_config': None}}, 'shard_number': None, 'sharding_method': None, 'replication_factor': None, 'write_consistency_factor': None, 'on_disk_payload': None, 'hnsw_config': None, 'wal_config': None, 'optimizers_config': None, 'init_from': None, 'quantization_config': None, 'sparse_vectors': None, 'strict_mode_config': None}, 'zoomcamp_tagged_data__dlt_version': {'vectors': {'fast-bge-small-en': {'size': 384, 'distance': 'Cosine', 'hnsw_config': None, 'quantization_config': None, 'on_disk': None, 'datatype': None, 'multivector_config': None}}, 'shard_number': None, 'sharding_method': None, 'replication_factor': None, 'write_consistency_factor': None, 'on_disk_payload': None, 'hnsw_config': None, 'wal_config': None, 'optimizers_config': None, 'init_from': None, 'quantization_config': None, 'sparse_vectors': None, 'strict_mode_config': None}, 'zoomcamp_tagged_data__dlt_pipeline_state': {'vectors': {'fast-bge-small-en': {'size': 384, 'distance': 'Cosine', 'hnsw_config': None, 'quantization_config': None, 'on_disk': None, 'datatype': None, 'multivector_config': None}}, 'shard_number': None, 'sharding_method': None, 'replication_factor': None, 'write_consistency_factor': None, 'on_disk_payload': None, 'hnsw_config': None, 'wal_config': None, 'optimizers_config': None, 'init_from': None, 'quantization_config': None, 'sparse_vectors': None, 'strict_mode_config': None}, 'zoomcamp_tagged_data__dlt_loads': {'vectors': {'fast-bge-small-en': {'size': 384, 'distance': 'Cosine', 'hnsw_config': None, 'quantization_config': None, 'on_disk': None, 'datatype': None, 'multivector_config': None}}, 'shard_number': None, 'sharding_method': None, 'replication_factor': None, 'write_consistency_factor': None, 'on_disk_payload': None, 'hnsw_config': None, 'wal_config': None, 'optimizers_config': None, 'init_from': None, 'quantization_config': None, 'sparse_vectors': None, 'strict_mode_config': None}, 'zoomcamp_tagged_data_zoomcamp_data': {'vectors': {'fast-bge-small-en': {'size': 384, 'distance': 'Cosine', 'hnsw_config': None, 'quantization_config': None, 'on_disk': None, 'datatype': None, 'multivector_config': None}}, 'shard_number': None, 'sharding_method': None, 'replication_factor': None, 'write_consistency_factor': None, 'on_disk_payload': None, 'hnsw_config': None, 'wal_config': None, 'optimizers_config': None, 'init_from': None, 'quantization_config': None, 'sparse_vectors': None, 'strict_mode_config': None}}, 'aliases': {}}\n"
     ]
    }
   ],
   "source": [
    "import json\n",
    "\n",
    "with open(\"d.qdrant/meta.json\", \"r\") as file:\n",
    "    data = json.load(file)\n",
    "\n",
    "print(data)"
   ]
  },
  {
   "cell_type": "code",
   "execution_count": 14,
   "id": "5292a315",
   "metadata": {},
   "outputs": [
    {
     "data": {
      "text/plain": [
       "{'vectors': {'fast-bge-small-en': {'size': 384,\n",
       "   'distance': 'Cosine',\n",
       "   'hnsw_config': None,\n",
       "   'quantization_config': None,\n",
       "   'on_disk': None,\n",
       "   'datatype': None,\n",
       "   'multivector_config': None}},\n",
       " 'shard_number': None,\n",
       " 'sharding_method': None,\n",
       " 'replication_factor': None,\n",
       " 'write_consistency_factor': None,\n",
       " 'on_disk_payload': None,\n",
       " 'hnsw_config': None,\n",
       " 'wal_config': None,\n",
       " 'optimizers_config': None,\n",
       " 'init_from': None,\n",
       " 'quantization_config': None,\n",
       " 'sparse_vectors': None,\n",
       " 'strict_mode_config': None}"
      ]
     },
     "execution_count": 14,
     "metadata": {},
     "output_type": "execute_result"
    }
   ],
   "source": [
    "data['collections']['zoomcamp_tagged_data__dlt_version']"
   ]
  }
 ],
 "metadata": {
  "kernelspec": {
   "display_name": "Python 3",
   "language": "python",
   "name": "python3"
  },
  "language_info": {
   "codemirror_mode": {
    "name": "ipython",
    "version": 3
   },
   "file_extension": ".py",
   "mimetype": "text/x-python",
   "name": "python",
   "nbconvert_exporter": "python",
   "pygments_lexer": "ipython3",
   "version": "3.12.1"
  }
 },
 "nbformat": 4,
 "nbformat_minor": 5
}

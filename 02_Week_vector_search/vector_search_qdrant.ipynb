{
 "cells": [
  {
   "cell_type": "markdown",
   "id": "01705e21",
   "metadata": {},
   "source": [
    "Vector Search Qdrant"
   ]
  },
  {
   "cell_type": "markdown",
   "id": "60e3ece1",
   "metadata": {},
   "source": [
    "## 1. Importación de librerías y conexión con Qdrant"
   ]
  },
  {
   "cell_type": "markdown",
   "id": "dc86d417",
   "metadata": {},
   "source": [
    "Primero asegúrate de correr e instalar las dependencias necesarias\n",
    "Y dejar el contenedor corriendo. <p>\n",
    "Setup: [set_up_qdrant]()"
   ]
  },
  {
   "cell_type": "markdown",
   "id": "8de8b4e1",
   "metadata": {},
   "source": [
    "Importación de librerías\n",
    "- Clase `QdrantClient`: permite establecer conexión con el servicio de Qdrant.\n",
    "- Módulo `models`: permite establecer configuraciones y parámetros necesarios."
   ]
  },
  {
   "cell_type": "code",
   "execution_count": 4,
   "id": "e2c867a9",
   "metadata": {},
   "outputs": [],
   "source": [
    "from qdrant_client import QdrantClient, models"
   ]
  },
  {
   "cell_type": "code",
   "execution_count": 5,
   "id": "50d56c3f",
   "metadata": {},
   "outputs": [],
   "source": [
    "# Inicializamos el cliente\n",
    "client = QdrantClient(\"http://localhost:6333\")"
   ]
  },
  {
   "cell_type": "markdown",
   "id": "fc2ef34d",
   "metadata": {},
   "source": [
    "## 2. \n"
   ]
  },
  {
   "cell_type": "code",
   "execution_count": null,
   "id": "be548526",
   "metadata": {},
   "outputs": [],
   "source": []
  }
 ],
 "metadata": {
  "kernelspec": {
   "display_name": "Python 3",
   "language": "python",
   "name": "python3"
  },
  "language_info": {
   "codemirror_mode": {
    "name": "ipython",
    "version": 3
   },
   "file_extension": ".py",
   "mimetype": "text/x-python",
   "name": "python",
   "nbconvert_exporter": "python",
   "pygments_lexer": "ipython3",
   "version": "3.12.1"
  }
 },
 "nbformat": 4,
 "nbformat_minor": 5
}

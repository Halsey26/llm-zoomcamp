{
 "cells": [
  {
   "cell_type": "markdown",
   "id": "943526da",
   "metadata": {},
   "source": [
    "En este notebook, se va a realizar la comparación de rag sin y con vector search"
   ]
  }
 ],
 "metadata": {
  "language_info": {
   "name": "python"
  }
 },
 "nbformat": 4,
 "nbformat_minor": 5
}

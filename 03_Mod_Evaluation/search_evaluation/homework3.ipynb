{
 "cells": [
  {
   "cell_type": "markdown",
   "id": "84c22576",
   "metadata": {},
   "source": [
    "# HomeWork 3\n",
    "En este módulo se ha realizado la evaluación de búsqueda por similitud semántica. <p>\n",
    "Sin embargo, en este Homework se evaluará por **búsqueda vectorial**\n",
    "- Script: [Homework Evaluation](https://github.com/DataTalksClub/llm-zoomcamp/blob/main/cohorts/2025/03-evaluation/homework.md)"
   ]
  },
  {
   "cell_type": "markdown",
   "id": "6d7042c7",
   "metadata": {},
   "source": [
    "Obtenemos:\n",
    "- documentos con id\n",
    "- ground_truth data"
   ]
  },
  {
   "cell_type": "code",
   "execution_count": 2,
   "id": "12c298a5",
   "metadata": {},
   "outputs": [],
   "source": [
    "import requests\n",
    "import pandas as pd\n",
    "\n",
    "url_prefix = 'https://raw.githubusercontent.com/DataTalksClub/llm-zoomcamp/main/03-evaluation/'\n",
    "docs_url = url_prefix + 'search_evaluation/documents-with-ids.json'\n",
    "documents = requests.get(docs_url).json()\n",
    "\n",
    "ground_truth_url = url_prefix + 'search_evaluation/ground-truth-data.csv'\n",
    "df_ground_truth = pd.read_csv(ground_truth_url)\n",
    "ground_truth = df_ground_truth.to_dict(orient='records')"
   ]
  },
  {
   "cell_type": "markdown",
   "id": "dafb76d7",
   "metadata": {},
   "source": [
    "Métricas de evaluación y función para evaluar cada documento."
   ]
  },
  {
   "cell_type": "code",
   "execution_count": 3,
   "id": "dba7a555",
   "metadata": {},
   "outputs": [
    {
     "name": "stderr",
     "output_type": "stream",
     "text": [
      "/usr/local/python/3.12.1/lib/python3.12/site-packages/tqdm/auto.py:21: TqdmWarning: IProgress not found. Please update jupyter and ipywidgets. See https://ipywidgets.readthedocs.io/en/stable/user_install.html\n",
      "  from .autonotebook import tqdm as notebook_tqdm\n"
     ]
    }
   ],
   "source": [
    "from tqdm.auto import tqdm\n",
    "\n",
    "def hit_rate(relevance_total):\n",
    "    cnt = 0\n",
    "\n",
    "    for line in relevance_total:\n",
    "        if True in line:\n",
    "            cnt = cnt + 1\n",
    "\n",
    "    return cnt / len(relevance_total)\n",
    "\n",
    "def mrr(relevance_total):\n",
    "    total_score = 0.0\n",
    "\n",
    "    for line in relevance_total:\n",
    "        for rank in range(len(line)):\n",
    "            if line[rank] == True:\n",
    "                total_score = total_score + 1 / (rank + 1)\n",
    "\n",
    "    return total_score / len(relevance_total)\n",
    "\n"
   ]
  },
  {
   "cell_type": "code",
   "execution_count": 4,
   "id": "f61eabce",
   "metadata": {},
   "outputs": [],
   "source": [
    "def evaluacion_metricas(ground_truth,funcion_busqueda ): \n",
    "    relevantes= []\n",
    "    print('Otención de resultados relevantes: [True, False, False, False, False], ...')\n",
    "    for doc_groundt in tqdm(ground_truth):\n",
    "        id_groundt= doc_groundt['document']\n",
    "        resultados_search= funcion_busqueda(doc_groundt['question'], doc_groundt['course'] )\n",
    "        \n",
    "        relevante_registo = []\n",
    "\n",
    "        for result in resultados_search:\n",
    "            relevante_registo.append(id_groundt == result['id']  )\n",
    "        # lo mismo: relevantes_registro = [result['id] == id_groundt for result in resultados_search]\n",
    "        \n",
    "        relevantes.append(relevante_registo)\n",
    "    \n",
    "    evaluacion_hr= hit_rate(relevantes)\n",
    "    evaluacion_mrr= mrr(relevantes)\n",
    "\n",
    "\n",
    "    return {'Evaluacion HR ': evaluacion_hr,  'Evaluacion MRR': evaluacion_mrr}"
   ]
  },
  {
   "cell_type": "markdown",
   "id": "be39acb1",
   "metadata": {},
   "source": [
    "## Q1\n",
    "Now let's evaluate our usual minsearch approach. What's the hitrate for this approach?\n",
    "Indexamos según indican en el enunciado."
   ]
  },
  {
   "cell_type": "code",
   "execution_count": 14,
   "id": "eeb72915",
   "metadata": {},
   "outputs": [
    {
     "data": {
      "text/plain": [
       "<minsearch.minsearch.Index at 0x7bba8c1cf9e0>"
      ]
     },
     "execution_count": 14,
     "metadata": {},
     "output_type": "execute_result"
    }
   ],
   "source": [
    "# indezxamos\n",
    "import minsearch\n",
    "\n",
    "#indexacion\n",
    "index= minsearch.Index(\n",
    "    text_fields=[\"question\", \"section\", \"text\"], \n",
    "    keyword_fields=['course', 'id']\n",
    ")\n",
    "\n",
    "index.fit(documents)"
   ]
  },
  {
   "cell_type": "code",
   "execution_count": 19,
   "id": "56fd509d",
   "metadata": {},
   "outputs": [],
   "source": [
    "# función búsqueda\n",
    "def search_minsearch(query, course):\n",
    "    resultados= index.search(\n",
    "        query= query, \n",
    "        boost_dict = {'question': 1.5, 'section': 0.1},\n",
    "        filter_dict= {\"course\": course} ,\n",
    "        num_results= 5\n",
    "    )\n",
    "\n",
    "    return resultados\n"
   ]
  },
  {
   "cell_type": "code",
   "execution_count": null,
   "id": "3890a570",
   "metadata": {},
   "outputs": [
    {
     "name": "stdout",
     "output_type": "stream",
     "text": [
      "MinSearch\n",
      "Otención de resultados relevantes: [True, False, False, False, False], ...\n"
     ]
    },
    {
     "name": "stderr",
     "output_type": "stream",
     "text": [
      "100%|██████████| 4627/4627 [00:15<00:00, 295.15it/s]\n"
     ]
    },
    {
     "data": {
      "text/plain": [
       "{'Evaluacion HR ': 0.848714069591528, 'Evaluacion MRR': 0.7288235717887772}"
      ]
     },
     "execution_count": 21,
     "metadata": {},
     "output_type": "execute_result"
    }
   ],
   "source": [
    "print('MinSearch')\n",
    "evaluacion_metricas(ground_truth, search_minsearch)"
   ]
  },
  {
   "cell_type": "markdown",
   "id": "3a04487b",
   "metadata": {},
   "source": [
    "- **Hitrate**: 0.8487"
   ]
  },
  {
   "cell_type": "markdown",
   "id": "c5278c35",
   "metadata": {},
   "source": [
    "## Q2. Vector search for question\n",
    "Evaluate this seach method. What's MRR for it?"
   ]
  },
  {
   "cell_type": "markdown",
   "id": "3562662b",
   "metadata": {},
   "source": [
    "Embedding para las preguntas(questions) de documentos.\n",
    "- Se generarán usando TF- IDF y  Singular Value Decomposition.\n",
    "- Más detalles: [Build Your Own Search Engine](https://github.com/alexeygrigorev/build-your-own-search-engine)\n"
   ]
  },
  {
   "cell_type": "code",
   "execution_count": 62,
   "id": "cb789e26",
   "metadata": {},
   "outputs": [],
   "source": [
    "from sklearn.feature_extraction.text import TfidfVectorizer\n",
    "from sklearn.decomposition import TruncatedSVD\n",
    "from sklearn.pipeline import make_pipeline\n",
    "\n",
    "texts = []\n",
    "\n",
    "for doc in documents:\n",
    "    t = doc['question']\n",
    "    texts.append(t)\n",
    "\n",
    "pipeline = make_pipeline(\n",
    "    TfidfVectorizer(min_df=3),\n",
    "    TruncatedSVD(n_components=128, random_state=1)\n",
    ")\n",
    "\n",
    "# fit espera una lista de documentos\n",
    "X = pipeline.fit_transform(texts) # se realiza el embedding de cada question\n"
   ]
  },
  {
   "cell_type": "markdown",
   "id": "8b483acd",
   "metadata": {},
   "source": [
    "Usando VectorSearch de minsearch, se indexan las preguntas ya vectorizadas con los documentos.\n",
    "Verificar última versión:\n",
    "- `pip install -U minsearch qdrant_client`"
   ]
  },
  {
   "cell_type": "code",
   "execution_count": 35,
   "id": "f0c350a3",
   "metadata": {},
   "outputs": [
    {
     "data": {
      "text/plain": [
       "<minsearch.vector.VectorSearch at 0x7bba86aa37a0>"
      ]
     },
     "execution_count": 35,
     "metadata": {},
     "output_type": "execute_result"
    }
   ],
   "source": [
    "from minsearch.vector import VectorSearch\n",
    "\n",
    "vindex = VectorSearch(keyword_fields=['course'])\n",
    "vindex.fit(X, documents)\n"
   ]
  },
  {
   "cell_type": "code",
   "execution_count": 41,
   "id": "42251d0a",
   "metadata": {},
   "outputs": [
    {
     "data": {
      "text/plain": [
       "numpy.ndarray"
      ]
     },
     "execution_count": 41,
     "metadata": {},
     "output_type": "execute_result"
    }
   ],
   "source": [
    "type(X)"
   ]
  },
  {
   "cell_type": "markdown",
   "id": "554b7844",
   "metadata": {},
   "source": [
    "Creamos la función de búsqueda vectorial"
   ]
  },
  {
   "cell_type": "code",
   "execution_count": null,
   "id": "3e8eaaad",
   "metadata": {},
   "outputs": [],
   "source": [
    "def vector_search(query, course):\n",
    "    \n",
    "    \n",
    "    return vindex.search(\n",
    "        query, #questions embebidas, en este X\n",
    "        filter_dict={'course': course}, \n",
    "        num_results=5\n",
    "    )\n",
    "\n",
    "def resultados_Vsearch(query, course): \n",
    "    # question= document['question']\n",
    "    # course= document['course']\n",
    "    # como ya se realizó fit_transform, ya se entrenó, entonces solo sería necesario transform, y como se espera una lista []\n",
    "    question_embed= pipeline.transform([query])\n",
    "\n",
    "    return vector_search(question_embed, course)"
   ]
  },
  {
   "cell_type": "code",
   "execution_count": 70,
   "id": "9866b1b4",
   "metadata": {},
   "outputs": [
    {
     "name": "stdout",
     "output_type": "stream",
     "text": [
      "Vector Search\n",
      "Otención de resultados relevantes: [True, False, False, False, False], ...\n"
     ]
    },
    {
     "name": "stderr",
     "output_type": "stream",
     "text": [
      "100%|██████████| 4627/4627 [00:07<00:00, 612.52it/s]\n"
     ]
    },
    {
     "data": {
      "text/plain": [
       "{'Evaluacion HR ': 0.48173762697212014, 'Evaluacion MRR': 0.3572833369353793}"
      ]
     },
     "execution_count": 70,
     "metadata": {},
     "output_type": "execute_result"
    }
   ],
   "source": [
    "print('Vector Search')\n",
    "evaluacion_metricas(ground_truth, resultados_Vsearch )"
   ]
  },
  {
   "cell_type": "markdown",
   "id": "1c1fd4ae",
   "metadata": {},
   "source": [
    "- **MRR**: 0.357"
   ]
  },
  {
   "cell_type": "markdown",
   "id": "46191323",
   "metadata": {},
   "source": [
    "## Q3. Vector Search for question and answer"
   ]
  },
  {
   "cell_type": "code",
   "execution_count": 71,
   "id": "bbaa137c",
   "metadata": {},
   "outputs": [
    {
     "data": {
      "text/plain": [
       "<minsearch.vector.VectorSearch at 0x7bba73c35c70>"
      ]
     },
     "execution_count": 71,
     "metadata": {},
     "output_type": "execute_result"
    }
   ],
   "source": [
    "# Creamos los embedding para question+answer\n",
    "texts = []\n",
    "\n",
    "for doc in documents:\n",
    "    t = doc['question']  + ' ' + doc['text']\n",
    "    texts.append(t)\n",
    "\n",
    "pipeline = make_pipeline(\n",
    "    TfidfVectorizer(min_df=3),\n",
    "    TruncatedSVD(n_components=128, random_state=1)\n",
    ")\n",
    "\n",
    "# fit espera una lista de documentos\n",
    "X = pipeline.fit_transform(texts) # se realiza el embedding de cada question\n",
    "\n",
    "# Indexación\n",
    "vindex = VectorSearch(keyword_fields=['course'])\n",
    "vindex.fit(X, documents)\n"
   ]
  },
  {
   "cell_type": "code",
   "execution_count": 72,
   "id": "e929bef2",
   "metadata": {},
   "outputs": [
    {
     "name": "stdout",
     "output_type": "stream",
     "text": [
      "Vector Search (question+answer)\n",
      "Otención de resultados relevantes: [True, False, False, False, False], ...\n"
     ]
    },
    {
     "name": "stderr",
     "output_type": "stream",
     "text": [
      "100%|██████████| 4627/4627 [00:07<00:00, 598.74it/s]\n"
     ]
    },
    {
     "data": {
      "text/plain": [
       "{'Evaluacion HR ': 0.8210503566025502, 'Evaluacion MRR': 0.6717347453353508}"
      ]
     },
     "execution_count": 72,
     "metadata": {},
     "output_type": "execute_result"
    }
   ],
   "source": [
    "print('Vector Search (question+answer)')\n",
    "evaluacion_metricas(ground_truth, resultados_Vsearch )"
   ]
  },
  {
   "cell_type": "markdown",
   "id": "eac4332a",
   "metadata": {},
   "source": [
    "- **HR**: 0.82\n",
    "\n",
    "NOTA: Vemos un claro incremento de aproximadamente el doble en ambas métricas, cuando se añade las respuestas y no solo se usa las preguntas"
   ]
  },
  {
   "cell_type": "markdown",
   "id": "ca8d3e47",
   "metadata": {},
   "source": [
    "## Q4. Qdrant\n",
    "Evaluación con las siguientes configuraciones:\n",
    "- text = doc['question'] + ' ' + doc['text']\n",
    "- model_handle = \"jinaai/jina-embeddings-v2-small-en\"\n",
    "- limit = 5"
   ]
  },
  {
   "cell_type": "markdown",
   "id": "4f546fbc",
   "metadata": {},
   "source": [
    "Más detalles en: \n",
    "- Setup: [set_up_qdrant](https://github.com/Halsey26/llm-zoomcamp/blob/main/02_Mod_vector_search/set_up_qdrant.md)\n",
    "- [Vector_search_qdrant](https://github.com/Halsey26/llm-zoomcamp/blob/main/02_Mod_vector_search/vector_search_qdrant.ipynb)"
   ]
  },
  {
   "cell_type": "code",
   "execution_count": 7,
   "id": "9411edf0",
   "metadata": {},
   "outputs": [],
   "source": [
    "from qdrant_client import QdrantClient, models\n",
    "\n",
    "# Inicializamos el cliente\n",
    "cliente = QdrantClient(\"http://localhost:6333\")\n",
    "\n",
    "modelo = \"jinaai/jina-embeddings-v2-small-en\"\n",
    "dimension= 512\n",
    "\n"
   ]
  },
  {
   "cell_type": "code",
   "execution_count": null,
   "id": "bc461d6b",
   "metadata": {},
   "outputs": [],
   "source": [
    "# coleccion\n",
    "\n",
    "nombre_coleccion= 'homework3'\n",
    "cliente.create_collection(\n",
    "    collection_name= nombre_coleccion, \n",
    "    vectors_config=models.VectorParams(\n",
    "        size= dimension, \n",
    "        distance= models.Distance.COSINE\n",
    "    )\n",
    ")\n",
    "\n",
    "# creacion de los Puntos\n",
    "# para almacenar los puntos\n",
    "points= []\n",
    "id=0 #por defecto el identificador de los puntos 0 \n",
    "\n",
    "\n",
    "for doc in documents:\n",
    "    point = models.PointStruct(\n",
    "        id=id, \n",
    "        vector = models.Document(text= doc['question'] + ' ' + doc['text'], model= modelo),\n",
    "        payload= {\"text\": doc['text'], \"section\": doc['section'], \"course\":doc[\"course\"], \"id\": doc['id']}\n",
    "    )\n",
    "    points.append(point)\n",
    "    id +=1\n",
    "\n",
    "# Insercción de los puntos en la Colección\n",
    "cliente.upsert(\n",
    "    collection_name= nombre_coleccion, \n",
    "    points= points\n",
    ")\n"
   ]
  },
  {
   "cell_type": "markdown",
   "id": "35102e18",
   "metadata": {},
   "source": [
    "Función búsqueda usando Qdrant\n",
    "- Los parámetros de entrada deben de ser query - course"
   ]
  },
  {
   "cell_type": "code",
   "execution_count": null,
   "id": "026a2f27",
   "metadata": {},
   "outputs": [
    {
     "data": {
      "text/plain": [
       "UpdateResult(operation_id=2, status=<UpdateStatus.COMPLETED: 'completed'>)"
      ]
     },
     "execution_count": 15,
     "metadata": {},
     "output_type": "execute_result"
    }
   ],
   "source": [
    "# indexación del payload (como se va a aplicar el filtro course)\n",
    "cliente.create_payload_index(\n",
    "    collection_name= nombre_coleccion,\n",
    "    field_name= \"course\",\n",
    "    field_schema= \"keyword\" # realizar un match exacto en los campos de metadata\n",
    ")"
   ]
  },
  {
   "cell_type": "code",
   "execution_count": 17,
   "id": "877efba4",
   "metadata": {},
   "outputs": [],
   "source": [
    "def search_qdrant(query, course, limit= 5):\n",
    "    results = cliente.query_points(\n",
    "        collection_name= nombre_coleccion,\n",
    "        query = models.Document( #realiza el embedding de la query localmente con el modelo elegido\n",
    "            text= query, \n",
    "            model = modelo\n",
    "        ),\n",
    "        query_filter= models.Filter( # filtramos por el curso\n",
    "            must = [\n",
    "                models.FieldCondition(\n",
    "                    key= \"course\", \n",
    "                    match= models.MatchValue(value= course)\n",
    "                )\n",
    "            ]\n",
    "        ),\n",
    "        \n",
    "        limit = limit, # cantidad de respuestas\n",
    "        with_payload=True  # para obtener la metada en los resultados \n",
    "    )\n",
    "    return results\n"
   ]
  },
  {
   "cell_type": "markdown",
   "id": "cbd9cce9",
   "metadata": {},
   "source": [
    "Necesitamos la siguiente estructura para insertar en la funcion de `evaluacion_métricas(ground_truth, search_function)` <p>\n",
    "Estrutura de los resultados esperados:\n",
    "```\n",
    "[{'text': ' ',\n",
    "  'section': '',\n",
    "  'question': '',\n",
    "  'course': 'data-engineering-zoomcamp',\n",
    "  'id': ''} \n",
    "  {...},\n",
    "```"
   ]
  },
  {
   "cell_type": "markdown",
   "id": "49adb6c8",
   "metadata": {},
   "source": [
    "Ejemplo para una pregunta, armamos la estructura"
   ]
  },
  {
   "cell_type": "code",
   "execution_count": 11,
   "id": "60bb07dc",
   "metadata": {},
   "outputs": [],
   "source": [
    "question_20 = documents[20]['question']\n",
    "\n",
    "resultados= search_qdrant(question_20)\n",
    "resultados_p= resultados.points\n",
    "\n",
    "resultados_searchq= []"
   ]
  },
  {
   "cell_type": "code",
   "execution_count": 12,
   "id": "87ede675",
   "metadata": {},
   "outputs": [],
   "source": [
    "dic_resultado= {}\n",
    "for i in resultados_p:\n",
    "    dic_resultado = {\n",
    "        \"text\" : i.payload['text'],\n",
    "        \"section\": i.payload['section'], \n",
    "        \"question\":question_20,\n",
    "        \"course\": i.payload['course'],\n",
    "        \"id\": i.payload['id']\n",
    "    }\n",
    "    resultados_searchq.append(dic_resultado)"
   ]
  },
  {
   "cell_type": "code",
   "execution_count": 13,
   "id": "83f46789",
   "metadata": {},
   "outputs": [
    {
     "data": {
      "text/plain": [
       "[{'text': 'You can set it up on your laptop or PC if you prefer to work locally from your laptop or PC.\\nYou might face some challenges, especially for Windows users. If you face cnd2\\nIf you prefer to work on the local machine, you may start with the week 1 Introduction to Docker and follow through.\\nHowever, if you prefer to set up a virtual machine, you may start with these first:\\nUsing GitHub Codespaces\\nSetting up the environment on a cloudV Mcodespace\\nI decided to work on a virtual machine because I have different laptops & PCs for my home & office, so I can work on this boot camp virtually anywhere.',\n",
       "  'section': 'General course-related questions',\n",
       "  'question': 'Environment - Should I use my local machine, GCP, or GitHub Codespaces for my environment?',\n",
       "  'course': 'data-engineering-zoomcamp',\n",
       "  'id': 'ddf6c1b3'},\n",
       " {'text': 'Choose the approach that aligns the most with your idea for the end project\\nOne of those should suffice. However, BigQuery, which is part of GCP, will be used, so learning that is probably a better option. Or you can set up a local environment for most of this course.',\n",
       "  'section': 'General course-related questions',\n",
       "  'question': 'Environment - Should I use my local machine, GCP, or GitHub Codespaces for my environment?',\n",
       "  'course': 'data-engineering-zoomcamp',\n",
       "  'id': '3c0114ce'},\n",
       " {'text': \"It's up to you which platform and environment you use for the course.\\nGithub codespaces or GCP VM are just possible options, but you can do the entire course from your laptop.\",\n",
       "  'section': 'General course-related questions',\n",
       "  'question': 'Environment - Should I use my local machine, GCP, or GitHub Codespaces for my environment?',\n",
       "  'course': 'data-engineering-zoomcamp',\n",
       "  'id': '251218fc'},\n",
       " {'text': 'GitHub Codespaces offers you computing Linux resources with many pre-installed tools (Docker, Docker Compose, Python).\\nYou can also open any GitHub repository in a GitHub Codespace.',\n",
       "  'section': 'General course-related questions',\n",
       "  'question': 'Environment - Should I use my local machine, GCP, or GitHub Codespaces for my environment?',\n",
       "  'course': 'data-engineering-zoomcamp',\n",
       "  'id': 'ac25d3af'},\n",
       " {'text': 'The reason this video about the GCP VM exists is that many students had problems configuring their env. You can use your own env if it works for you.\\nAnd the advantage of using your own environment is that if you are working in a Github repo where you can commit, you will be able to commit the changes that you do. In the VM the repo is cloned via HTTPS so it is not possible to directly commit, even if you are the owner of the repo.',\n",
       "  'section': 'Module 1: Docker and Terraform',\n",
       "  'question': 'Environment - Should I use my local machine, GCP, or GitHub Codespaces for my environment?',\n",
       "  'course': 'data-engineering-zoomcamp',\n",
       "  'id': '3184bd8b'}]"
      ]
     },
     "execution_count": 13,
     "metadata": {},
     "output_type": "execute_result"
    }
   ],
   "source": [
    "resultados_searchq"
   ]
  },
  {
   "cell_type": "markdown",
   "id": "8108e3db",
   "metadata": {},
   "source": [
    "Añadimos esto en la función de búsqueda "
   ]
  },
  {
   "cell_type": "code",
   "execution_count": 19,
   "id": "4f83c9fb",
   "metadata": {},
   "outputs": [],
   "source": [
    "def search_qdrant(query, course, limit= 5):\n",
    "    results = cliente.query_points(\n",
    "        collection_name= nombre_coleccion,\n",
    "        query = models.Document( #realiza el embedding de la query localmente con el modelo elegido\n",
    "            text= query, \n",
    "            model = modelo\n",
    "        ),\n",
    "        query_filter= models.Filter( # filtramos por el curso\n",
    "            must = [\n",
    "                models.FieldCondition(\n",
    "                    key= \"course\", \n",
    "                    match= models.MatchValue(value= course)\n",
    "                )\n",
    "            ]\n",
    "        ),\n",
    "        \n",
    "        limit = limit, # cantidad de respuestas\n",
    "        with_payload=True  # para obtener la metada en los resultados \n",
    "    )\n",
    "\n",
    "    resultados_p= results.points\n",
    "    resultados_searchq= [] # estructura final de los resultados\n",
    "\n",
    "    for i in resultados_p:\n",
    "        dic_resultado= {}\n",
    "        dic_resultado = {\n",
    "            \"text\" : i.payload['text'],\n",
    "            \"section\": i.payload['section'], \n",
    "            \"question\":query,\n",
    "            \"course\": i.payload['course'],\n",
    "            \"id\": i.payload['id']\n",
    "        }\n",
    "        resultados_searchq.append(dic_resultado)\n",
    "    \n",
    "    return resultados_searchq"
   ]
  },
  {
   "cell_type": "code",
   "execution_count": 20,
   "id": "1f7a467c",
   "metadata": {},
   "outputs": [
    {
     "data": {
      "text/plain": [
       "[{'text': \"Yes, even if you don't register, you're still eligible to submit the homeworks.\\nBe aware, however, that there will be deadlines for turning in the final projects. So don't leave everything for the last minute.\",\n",
       "  'section': 'General course-related questions',\n",
       "  'question': 'I just discovered the course. Can I still join?',\n",
       "  'course': 'data-engineering-zoomcamp',\n",
       "  'id': '7842b56a'},\n",
       " {'text': 'Yes, we will keep all the materials after the course finishes, so you can follow the course at your own pace after it finishes.\\nYou can also continue looking at the homeworks and continue preparing for the next cohort. I guess you can also start working on your final capstone project.',\n",
       "  'section': 'General course-related questions',\n",
       "  'question': 'I just discovered the course. Can I still join?',\n",
       "  'course': 'data-engineering-zoomcamp',\n",
       "  'id': 'a482086d'},\n",
       " {'text': \"The purpose of this document is to capture frequently asked technical questions\\nThe exact day and hour of the course will be 15th Jan 2024 at 17h00. The course will start with the first  “Office Hours'' live.1\\nSubscribe to course public Google Calendar (it works from Desktop only).\\nRegister before the course starts using this link.\\nJoin the course Telegram channel with announcements.\\nDon’t forget to register in DataTalks.Club's Slack and join the channel.\",\n",
       "  'section': 'General course-related questions',\n",
       "  'question': 'I just discovered the course. Can I still join?',\n",
       "  'course': 'data-engineering-zoomcamp',\n",
       "  'id': 'c02e79ef'},\n",
       " {'text': 'Yes, the slack channel remains open and you can ask questions there. But always sDocker containers exit code w search the channel first and second, check the FAQ (this document), most likely all your questions are already answered here.\\nYou can also tag the bot @ZoomcampQABot to help you conduct the search, but don’t rely on its answers 100%, it is pretty good though.',\n",
       "  'section': 'General course-related questions',\n",
       "  'question': 'I just discovered the course. Can I still join?',\n",
       "  'course': 'data-engineering-zoomcamp',\n",
       "  'id': 'eb56ae98'},\n",
       " {'text': \"No, you can only get a certificate if you finish the course with a “live” cohort. We don't award certificates for the self-paced mode. The reason is you need to peer-review capstone(s) after submitting a project. You can only peer-review projects at the time the course is running.\",\n",
       "  'section': 'General course-related questions',\n",
       "  'question': 'I just discovered the course. Can I still join?',\n",
       "  'course': 'data-engineering-zoomcamp',\n",
       "  'id': 'cb257ee5'}]"
      ]
     },
     "execution_count": 20,
     "metadata": {},
     "output_type": "execute_result"
    }
   ],
   "source": [
    "query= 'I just discovered the course. Can I still join?'\n",
    "course = 'data-engineering-zoomcamp'\n",
    "\n",
    "resultados_qdrant= search_qdrant(query, course)\n",
    "resultados_qdrant"
   ]
  },
  {
   "cell_type": "markdown",
   "id": "e84e6504",
   "metadata": {},
   "source": [
    "Ahora sí, aplicamos generamos los documentos relevantes y evaluamos"
   ]
  },
  {
   "cell_type": "code",
   "execution_count": 21,
   "id": "6af59a45",
   "metadata": {},
   "outputs": [
    {
     "name": "stdout",
     "output_type": "stream",
     "text": [
      "Qdrant Search (question+answer)\n",
      "Otención de resultados relevantes: [True, False, False, False, False], ...\n"
     ]
    },
    {
     "name": "stderr",
     "output_type": "stream",
     "text": [
      "100%|██████████| 4627/4627 [01:53<00:00, 40.86it/s]\n"
     ]
    },
    {
     "data": {
      "text/plain": [
       "{'Evaluacion HR ': 0.9299762264966501, 'Evaluacion MRR': 0.8517722066133576}"
      ]
     },
     "execution_count": 21,
     "metadata": {},
     "output_type": "execute_result"
    }
   ],
   "source": [
    "print('Qdrant Search (question+answer)')\n",
    "evaluacion_metricas(ground_truth, search_qdrant )"
   ]
  },
  {
   "cell_type": "markdown",
   "id": "149ba7c6",
   "metadata": {},
   "source": [
    "- **MRR**: 0.85"
   ]
  },
  {
   "cell_type": "markdown",
   "id": "1f3e74ec",
   "metadata": {},
   "source": [
    "## Q5 Cosine Similarity"
   ]
  },
  {
   "cell_type": "code",
   "execution_count": null,
   "id": "03ad1f8c",
   "metadata": {},
   "outputs": [],
   "source": [
    "# necesitamos normalizar para aplicar la similitud por coseno\n",
    "import numpy as np\n",
    "\n",
    "def normalize(u):\n",
    "    norm = np.sqrt(u.dot(u))\n",
    "    return u / norm\n",
    "\n",
    "def cosine(u, v):\n",
    "    u = normalize(u)\n",
    "    v = normalize(v)\n",
    "    return u.dot(v)"
   ]
  },
  {
   "cell_type": "markdown",
   "id": "dd804217",
   "metadata": {},
   "source": [
    "Se usará los resultados usando el modelo gpt4o_mini"
   ]
  },
  {
   "cell_type": "code",
   "execution_count": 28,
   "id": "a205eefc",
   "metadata": {},
   "outputs": [],
   "source": [
    "results_url = url_prefix + 'rag_evaluation/data/results-gpt4o-mini.csv'\n",
    "df_results = pd.read_csv(results_url)\n",
    "# df_results = df_results.to_dict(orient='records')"
   ]
  },
  {
   "cell_type": "code",
   "execution_count": null,
   "id": "c0ea3261",
   "metadata": {},
   "outputs": [
    {
     "data": {
      "text/plain": [
       "{'answer_llm': 'You can sign up for the course by visiting the course page at [http://mlzoomcamp.com/](http://mlzoomcamp.com/).',\n",
       " 'answer_orig': 'Machine Learning Zoomcamp FAQ\\nThe purpose of this document is to capture frequently asked technical questions.\\nWe did this for our data engineering course and it worked quite well. Check this document for inspiration on how to structure your questions and answers:\\nData Engineering Zoomcamp FAQ\\nIn the course GitHub repository there’s a link. Here it is: https://airtable.com/shryxwLd0COOEaqXo\\nwork',\n",
       " 'document': '0227b872',\n",
       " 'question': 'Where can I sign up for the course?',\n",
       " 'course': 'machine-learning-zoomcamp'}"
      ]
     },
     "execution_count": 27,
     "metadata": {},
     "output_type": "execute_result"
    }
   ],
   "source": [
    "# df_results[0]"
   ]
  },
  {
   "cell_type": "markdown",
   "id": "74284e74",
   "metadata": {},
   "source": [
    "Realizamos el pipeline y embedding de la respuesta original y del llm"
   ]
  },
  {
   "cell_type": "code",
   "execution_count": 31,
   "id": "0cd709f3",
   "metadata": {},
   "outputs": [
    {
     "data": {
      "text/html": [
       "<style>#sk-container-id-1 {\n",
       "  /* Definition of color scheme common for light and dark mode */\n",
       "  --sklearn-color-text: #000;\n",
       "  --sklearn-color-text-muted: #666;\n",
       "  --sklearn-color-line: gray;\n",
       "  /* Definition of color scheme for unfitted estimators */\n",
       "  --sklearn-color-unfitted-level-0: #fff5e6;\n",
       "  --sklearn-color-unfitted-level-1: #f6e4d2;\n",
       "  --sklearn-color-unfitted-level-2: #ffe0b3;\n",
       "  --sklearn-color-unfitted-level-3: chocolate;\n",
       "  /* Definition of color scheme for fitted estimators */\n",
       "  --sklearn-color-fitted-level-0: #f0f8ff;\n",
       "  --sklearn-color-fitted-level-1: #d4ebff;\n",
       "  --sklearn-color-fitted-level-2: #b3dbfd;\n",
       "  --sklearn-color-fitted-level-3: cornflowerblue;\n",
       "\n",
       "  /* Specific color for light theme */\n",
       "  --sklearn-color-text-on-default-background: var(--sg-text-color, var(--theme-code-foreground, var(--jp-content-font-color1, black)));\n",
       "  --sklearn-color-background: var(--sg-background-color, var(--theme-background, var(--jp-layout-color0, white)));\n",
       "  --sklearn-color-border-box: var(--sg-text-color, var(--theme-code-foreground, var(--jp-content-font-color1, black)));\n",
       "  --sklearn-color-icon: #696969;\n",
       "\n",
       "  @media (prefers-color-scheme: dark) {\n",
       "    /* Redefinition of color scheme for dark theme */\n",
       "    --sklearn-color-text-on-default-background: var(--sg-text-color, var(--theme-code-foreground, var(--jp-content-font-color1, white)));\n",
       "    --sklearn-color-background: var(--sg-background-color, var(--theme-background, var(--jp-layout-color0, #111)));\n",
       "    --sklearn-color-border-box: var(--sg-text-color, var(--theme-code-foreground, var(--jp-content-font-color1, white)));\n",
       "    --sklearn-color-icon: #878787;\n",
       "  }\n",
       "}\n",
       "\n",
       "#sk-container-id-1 {\n",
       "  color: var(--sklearn-color-text);\n",
       "}\n",
       "\n",
       "#sk-container-id-1 pre {\n",
       "  padding: 0;\n",
       "}\n",
       "\n",
       "#sk-container-id-1 input.sk-hidden--visually {\n",
       "  border: 0;\n",
       "  clip: rect(1px 1px 1px 1px);\n",
       "  clip: rect(1px, 1px, 1px, 1px);\n",
       "  height: 1px;\n",
       "  margin: -1px;\n",
       "  overflow: hidden;\n",
       "  padding: 0;\n",
       "  position: absolute;\n",
       "  width: 1px;\n",
       "}\n",
       "\n",
       "#sk-container-id-1 div.sk-dashed-wrapped {\n",
       "  border: 1px dashed var(--sklearn-color-line);\n",
       "  margin: 0 0.4em 0.5em 0.4em;\n",
       "  box-sizing: border-box;\n",
       "  padding-bottom: 0.4em;\n",
       "  background-color: var(--sklearn-color-background);\n",
       "}\n",
       "\n",
       "#sk-container-id-1 div.sk-container {\n",
       "  /* jupyter's `normalize.less` sets `[hidden] { display: none; }`\n",
       "     but bootstrap.min.css set `[hidden] { display: none !important; }`\n",
       "     so we also need the `!important` here to be able to override the\n",
       "     default hidden behavior on the sphinx rendered scikit-learn.org.\n",
       "     See: https://github.com/scikit-learn/scikit-learn/issues/21755 */\n",
       "  display: inline-block !important;\n",
       "  position: relative;\n",
       "}\n",
       "\n",
       "#sk-container-id-1 div.sk-text-repr-fallback {\n",
       "  display: none;\n",
       "}\n",
       "\n",
       "div.sk-parallel-item,\n",
       "div.sk-serial,\n",
       "div.sk-item {\n",
       "  /* draw centered vertical line to link estimators */\n",
       "  background-image: linear-gradient(var(--sklearn-color-text-on-default-background), var(--sklearn-color-text-on-default-background));\n",
       "  background-size: 2px 100%;\n",
       "  background-repeat: no-repeat;\n",
       "  background-position: center center;\n",
       "}\n",
       "\n",
       "/* Parallel-specific style estimator block */\n",
       "\n",
       "#sk-container-id-1 div.sk-parallel-item::after {\n",
       "  content: \"\";\n",
       "  width: 100%;\n",
       "  border-bottom: 2px solid var(--sklearn-color-text-on-default-background);\n",
       "  flex-grow: 1;\n",
       "}\n",
       "\n",
       "#sk-container-id-1 div.sk-parallel {\n",
       "  display: flex;\n",
       "  align-items: stretch;\n",
       "  justify-content: center;\n",
       "  background-color: var(--sklearn-color-background);\n",
       "  position: relative;\n",
       "}\n",
       "\n",
       "#sk-container-id-1 div.sk-parallel-item {\n",
       "  display: flex;\n",
       "  flex-direction: column;\n",
       "}\n",
       "\n",
       "#sk-container-id-1 div.sk-parallel-item:first-child::after {\n",
       "  align-self: flex-end;\n",
       "  width: 50%;\n",
       "}\n",
       "\n",
       "#sk-container-id-1 div.sk-parallel-item:last-child::after {\n",
       "  align-self: flex-start;\n",
       "  width: 50%;\n",
       "}\n",
       "\n",
       "#sk-container-id-1 div.sk-parallel-item:only-child::after {\n",
       "  width: 0;\n",
       "}\n",
       "\n",
       "/* Serial-specific style estimator block */\n",
       "\n",
       "#sk-container-id-1 div.sk-serial {\n",
       "  display: flex;\n",
       "  flex-direction: column;\n",
       "  align-items: center;\n",
       "  background-color: var(--sklearn-color-background);\n",
       "  padding-right: 1em;\n",
       "  padding-left: 1em;\n",
       "}\n",
       "\n",
       "\n",
       "/* Toggleable style: style used for estimator/Pipeline/ColumnTransformer box that is\n",
       "clickable and can be expanded/collapsed.\n",
       "- Pipeline and ColumnTransformer use this feature and define the default style\n",
       "- Estimators will overwrite some part of the style using the `sk-estimator` class\n",
       "*/\n",
       "\n",
       "/* Pipeline and ColumnTransformer style (default) */\n",
       "\n",
       "#sk-container-id-1 div.sk-toggleable {\n",
       "  /* Default theme specific background. It is overwritten whether we have a\n",
       "  specific estimator or a Pipeline/ColumnTransformer */\n",
       "  background-color: var(--sklearn-color-background);\n",
       "}\n",
       "\n",
       "/* Toggleable label */\n",
       "#sk-container-id-1 label.sk-toggleable__label {\n",
       "  cursor: pointer;\n",
       "  display: flex;\n",
       "  width: 100%;\n",
       "  margin-bottom: 0;\n",
       "  padding: 0.5em;\n",
       "  box-sizing: border-box;\n",
       "  text-align: center;\n",
       "  align-items: start;\n",
       "  justify-content: space-between;\n",
       "  gap: 0.5em;\n",
       "}\n",
       "\n",
       "#sk-container-id-1 label.sk-toggleable__label .caption {\n",
       "  font-size: 0.6rem;\n",
       "  font-weight: lighter;\n",
       "  color: var(--sklearn-color-text-muted);\n",
       "}\n",
       "\n",
       "#sk-container-id-1 label.sk-toggleable__label-arrow:before {\n",
       "  /* Arrow on the left of the label */\n",
       "  content: \"▸\";\n",
       "  float: left;\n",
       "  margin-right: 0.25em;\n",
       "  color: var(--sklearn-color-icon);\n",
       "}\n",
       "\n",
       "#sk-container-id-1 label.sk-toggleable__label-arrow:hover:before {\n",
       "  color: var(--sklearn-color-text);\n",
       "}\n",
       "\n",
       "/* Toggleable content - dropdown */\n",
       "\n",
       "#sk-container-id-1 div.sk-toggleable__content {\n",
       "  max-height: 0;\n",
       "  max-width: 0;\n",
       "  overflow: hidden;\n",
       "  text-align: left;\n",
       "  /* unfitted */\n",
       "  background-color: var(--sklearn-color-unfitted-level-0);\n",
       "}\n",
       "\n",
       "#sk-container-id-1 div.sk-toggleable__content.fitted {\n",
       "  /* fitted */\n",
       "  background-color: var(--sklearn-color-fitted-level-0);\n",
       "}\n",
       "\n",
       "#sk-container-id-1 div.sk-toggleable__content pre {\n",
       "  margin: 0.2em;\n",
       "  border-radius: 0.25em;\n",
       "  color: var(--sklearn-color-text);\n",
       "  /* unfitted */\n",
       "  background-color: var(--sklearn-color-unfitted-level-0);\n",
       "}\n",
       "\n",
       "#sk-container-id-1 div.sk-toggleable__content.fitted pre {\n",
       "  /* unfitted */\n",
       "  background-color: var(--sklearn-color-fitted-level-0);\n",
       "}\n",
       "\n",
       "#sk-container-id-1 input.sk-toggleable__control:checked~div.sk-toggleable__content {\n",
       "  /* Expand drop-down */\n",
       "  max-height: 200px;\n",
       "  max-width: 100%;\n",
       "  overflow: auto;\n",
       "}\n",
       "\n",
       "#sk-container-id-1 input.sk-toggleable__control:checked~label.sk-toggleable__label-arrow:before {\n",
       "  content: \"▾\";\n",
       "}\n",
       "\n",
       "/* Pipeline/ColumnTransformer-specific style */\n",
       "\n",
       "#sk-container-id-1 div.sk-label input.sk-toggleable__control:checked~label.sk-toggleable__label {\n",
       "  color: var(--sklearn-color-text);\n",
       "  background-color: var(--sklearn-color-unfitted-level-2);\n",
       "}\n",
       "\n",
       "#sk-container-id-1 div.sk-label.fitted input.sk-toggleable__control:checked~label.sk-toggleable__label {\n",
       "  background-color: var(--sklearn-color-fitted-level-2);\n",
       "}\n",
       "\n",
       "/* Estimator-specific style */\n",
       "\n",
       "/* Colorize estimator box */\n",
       "#sk-container-id-1 div.sk-estimator input.sk-toggleable__control:checked~label.sk-toggleable__label {\n",
       "  /* unfitted */\n",
       "  background-color: var(--sklearn-color-unfitted-level-2);\n",
       "}\n",
       "\n",
       "#sk-container-id-1 div.sk-estimator.fitted input.sk-toggleable__control:checked~label.sk-toggleable__label {\n",
       "  /* fitted */\n",
       "  background-color: var(--sklearn-color-fitted-level-2);\n",
       "}\n",
       "\n",
       "#sk-container-id-1 div.sk-label label.sk-toggleable__label,\n",
       "#sk-container-id-1 div.sk-label label {\n",
       "  /* The background is the default theme color */\n",
       "  color: var(--sklearn-color-text-on-default-background);\n",
       "}\n",
       "\n",
       "/* On hover, darken the color of the background */\n",
       "#sk-container-id-1 div.sk-label:hover label.sk-toggleable__label {\n",
       "  color: var(--sklearn-color-text);\n",
       "  background-color: var(--sklearn-color-unfitted-level-2);\n",
       "}\n",
       "\n",
       "/* Label box, darken color on hover, fitted */\n",
       "#sk-container-id-1 div.sk-label.fitted:hover label.sk-toggleable__label.fitted {\n",
       "  color: var(--sklearn-color-text);\n",
       "  background-color: var(--sklearn-color-fitted-level-2);\n",
       "}\n",
       "\n",
       "/* Estimator label */\n",
       "\n",
       "#sk-container-id-1 div.sk-label label {\n",
       "  font-family: monospace;\n",
       "  font-weight: bold;\n",
       "  display: inline-block;\n",
       "  line-height: 1.2em;\n",
       "}\n",
       "\n",
       "#sk-container-id-1 div.sk-label-container {\n",
       "  text-align: center;\n",
       "}\n",
       "\n",
       "/* Estimator-specific */\n",
       "#sk-container-id-1 div.sk-estimator {\n",
       "  font-family: monospace;\n",
       "  border: 1px dotted var(--sklearn-color-border-box);\n",
       "  border-radius: 0.25em;\n",
       "  box-sizing: border-box;\n",
       "  margin-bottom: 0.5em;\n",
       "  /* unfitted */\n",
       "  background-color: var(--sklearn-color-unfitted-level-0);\n",
       "}\n",
       "\n",
       "#sk-container-id-1 div.sk-estimator.fitted {\n",
       "  /* fitted */\n",
       "  background-color: var(--sklearn-color-fitted-level-0);\n",
       "}\n",
       "\n",
       "/* on hover */\n",
       "#sk-container-id-1 div.sk-estimator:hover {\n",
       "  /* unfitted */\n",
       "  background-color: var(--sklearn-color-unfitted-level-2);\n",
       "}\n",
       "\n",
       "#sk-container-id-1 div.sk-estimator.fitted:hover {\n",
       "  /* fitted */\n",
       "  background-color: var(--sklearn-color-fitted-level-2);\n",
       "}\n",
       "\n",
       "/* Specification for estimator info (e.g. \"i\" and \"?\") */\n",
       "\n",
       "/* Common style for \"i\" and \"?\" */\n",
       "\n",
       ".sk-estimator-doc-link,\n",
       "a:link.sk-estimator-doc-link,\n",
       "a:visited.sk-estimator-doc-link {\n",
       "  float: right;\n",
       "  font-size: smaller;\n",
       "  line-height: 1em;\n",
       "  font-family: monospace;\n",
       "  background-color: var(--sklearn-color-background);\n",
       "  border-radius: 1em;\n",
       "  height: 1em;\n",
       "  width: 1em;\n",
       "  text-decoration: none !important;\n",
       "  margin-left: 0.5em;\n",
       "  text-align: center;\n",
       "  /* unfitted */\n",
       "  border: var(--sklearn-color-unfitted-level-1) 1pt solid;\n",
       "  color: var(--sklearn-color-unfitted-level-1);\n",
       "}\n",
       "\n",
       ".sk-estimator-doc-link.fitted,\n",
       "a:link.sk-estimator-doc-link.fitted,\n",
       "a:visited.sk-estimator-doc-link.fitted {\n",
       "  /* fitted */\n",
       "  border: var(--sklearn-color-fitted-level-1) 1pt solid;\n",
       "  color: var(--sklearn-color-fitted-level-1);\n",
       "}\n",
       "\n",
       "/* On hover */\n",
       "div.sk-estimator:hover .sk-estimator-doc-link:hover,\n",
       ".sk-estimator-doc-link:hover,\n",
       "div.sk-label-container:hover .sk-estimator-doc-link:hover,\n",
       ".sk-estimator-doc-link:hover {\n",
       "  /* unfitted */\n",
       "  background-color: var(--sklearn-color-unfitted-level-3);\n",
       "  color: var(--sklearn-color-background);\n",
       "  text-decoration: none;\n",
       "}\n",
       "\n",
       "div.sk-estimator.fitted:hover .sk-estimator-doc-link.fitted:hover,\n",
       ".sk-estimator-doc-link.fitted:hover,\n",
       "div.sk-label-container:hover .sk-estimator-doc-link.fitted:hover,\n",
       ".sk-estimator-doc-link.fitted:hover {\n",
       "  /* fitted */\n",
       "  background-color: var(--sklearn-color-fitted-level-3);\n",
       "  color: var(--sklearn-color-background);\n",
       "  text-decoration: none;\n",
       "}\n",
       "\n",
       "/* Span, style for the box shown on hovering the info icon */\n",
       ".sk-estimator-doc-link span {\n",
       "  display: none;\n",
       "  z-index: 9999;\n",
       "  position: relative;\n",
       "  font-weight: normal;\n",
       "  right: .2ex;\n",
       "  padding: .5ex;\n",
       "  margin: .5ex;\n",
       "  width: min-content;\n",
       "  min-width: 20ex;\n",
       "  max-width: 50ex;\n",
       "  color: var(--sklearn-color-text);\n",
       "  box-shadow: 2pt 2pt 4pt #999;\n",
       "  /* unfitted */\n",
       "  background: var(--sklearn-color-unfitted-level-0);\n",
       "  border: .5pt solid var(--sklearn-color-unfitted-level-3);\n",
       "}\n",
       "\n",
       ".sk-estimator-doc-link.fitted span {\n",
       "  /* fitted */\n",
       "  background: var(--sklearn-color-fitted-level-0);\n",
       "  border: var(--sklearn-color-fitted-level-3);\n",
       "}\n",
       "\n",
       ".sk-estimator-doc-link:hover span {\n",
       "  display: block;\n",
       "}\n",
       "\n",
       "/* \"?\"-specific style due to the `<a>` HTML tag */\n",
       "\n",
       "#sk-container-id-1 a.estimator_doc_link {\n",
       "  float: right;\n",
       "  font-size: 1rem;\n",
       "  line-height: 1em;\n",
       "  font-family: monospace;\n",
       "  background-color: var(--sklearn-color-background);\n",
       "  border-radius: 1rem;\n",
       "  height: 1rem;\n",
       "  width: 1rem;\n",
       "  text-decoration: none;\n",
       "  /* unfitted */\n",
       "  color: var(--sklearn-color-unfitted-level-1);\n",
       "  border: var(--sklearn-color-unfitted-level-1) 1pt solid;\n",
       "}\n",
       "\n",
       "#sk-container-id-1 a.estimator_doc_link.fitted {\n",
       "  /* fitted */\n",
       "  border: var(--sklearn-color-fitted-level-1) 1pt solid;\n",
       "  color: var(--sklearn-color-fitted-level-1);\n",
       "}\n",
       "\n",
       "/* On hover */\n",
       "#sk-container-id-1 a.estimator_doc_link:hover {\n",
       "  /* unfitted */\n",
       "  background-color: var(--sklearn-color-unfitted-level-3);\n",
       "  color: var(--sklearn-color-background);\n",
       "  text-decoration: none;\n",
       "}\n",
       "\n",
       "#sk-container-id-1 a.estimator_doc_link.fitted:hover {\n",
       "  /* fitted */\n",
       "  background-color: var(--sklearn-color-fitted-level-3);\n",
       "}\n",
       "</style><div id=\"sk-container-id-1\" class=\"sk-top-container\"><div class=\"sk-text-repr-fallback\"><pre>Pipeline(steps=[(&#x27;tfidfvectorizer&#x27;, TfidfVectorizer(min_df=3)),\n",
       "                (&#x27;truncatedsvd&#x27;,\n",
       "                 TruncatedSVD(n_components=128, random_state=1))])</pre><b>In a Jupyter environment, please rerun this cell to show the HTML representation or trust the notebook. <br />On GitHub, the HTML representation is unable to render, please try loading this page with nbviewer.org.</b></div><div class=\"sk-container\" hidden><div class=\"sk-item sk-dashed-wrapped\"><div class=\"sk-label-container\"><div class=\"sk-label fitted sk-toggleable\"><input class=\"sk-toggleable__control sk-hidden--visually\" id=\"sk-estimator-id-1\" type=\"checkbox\" ><label for=\"sk-estimator-id-1\" class=\"sk-toggleable__label fitted sk-toggleable__label-arrow\"><div><div>Pipeline</div></div><div><a class=\"sk-estimator-doc-link fitted\" rel=\"noreferrer\" target=\"_blank\" href=\"https://scikit-learn.org/1.6/modules/generated/sklearn.pipeline.Pipeline.html\">?<span>Documentation for Pipeline</span></a><span class=\"sk-estimator-doc-link fitted\">i<span>Fitted</span></span></div></label><div class=\"sk-toggleable__content fitted\"><pre>Pipeline(steps=[(&#x27;tfidfvectorizer&#x27;, TfidfVectorizer(min_df=3)),\n",
       "                (&#x27;truncatedsvd&#x27;,\n",
       "                 TruncatedSVD(n_components=128, random_state=1))])</pre></div> </div></div><div class=\"sk-serial\"><div class=\"sk-item\"><div class=\"sk-estimator fitted sk-toggleable\"><input class=\"sk-toggleable__control sk-hidden--visually\" id=\"sk-estimator-id-2\" type=\"checkbox\" ><label for=\"sk-estimator-id-2\" class=\"sk-toggleable__label fitted sk-toggleable__label-arrow\"><div><div>TfidfVectorizer</div></div><div><a class=\"sk-estimator-doc-link fitted\" rel=\"noreferrer\" target=\"_blank\" href=\"https://scikit-learn.org/1.6/modules/generated/sklearn.feature_extraction.text.TfidfVectorizer.html\">?<span>Documentation for TfidfVectorizer</span></a></div></label><div class=\"sk-toggleable__content fitted\"><pre>TfidfVectorizer(min_df=3)</pre></div> </div></div><div class=\"sk-item\"><div class=\"sk-estimator fitted sk-toggleable\"><input class=\"sk-toggleable__control sk-hidden--visually\" id=\"sk-estimator-id-3\" type=\"checkbox\" ><label for=\"sk-estimator-id-3\" class=\"sk-toggleable__label fitted sk-toggleable__label-arrow\"><div><div>TruncatedSVD</div></div><div><a class=\"sk-estimator-doc-link fitted\" rel=\"noreferrer\" target=\"_blank\" href=\"https://scikit-learn.org/1.6/modules/generated/sklearn.decomposition.TruncatedSVD.html\">?<span>Documentation for TruncatedSVD</span></a></div></label><div class=\"sk-toggleable__content fitted\"><pre>TruncatedSVD(n_components=128, random_state=1)</pre></div> </div></div></div></div></div></div>"
      ],
      "text/plain": [
       "Pipeline(steps=[('tfidfvectorizer', TfidfVectorizer(min_df=3)),\n",
       "                ('truncatedsvd',\n",
       "                 TruncatedSVD(n_components=128, random_state=1))])"
      ]
     },
     "execution_count": 31,
     "metadata": {},
     "output_type": "execute_result"
    }
   ],
   "source": [
    "pipeline = make_pipeline(\n",
    "    TfidfVectorizer(min_df=3),\n",
    "    TruncatedSVD(n_components=128, random_state=1)\n",
    ")\n",
    "\n",
    "pipeline.fit(df_results.answer_llm + ' ' + df_results.answer_orig + ' ' + df_results.question)\n"
   ]
  },
  {
   "cell_type": "code",
   "execution_count": null,
   "id": "15bcf792",
   "metadata": {},
   "outputs": [],
   "source": [
    "# vectorizamos\n",
    "v_llm = pipeline.transform(df_results.answer_llm)\n",
    "v_orig = pipeline.transform(df_results.answer_orig)\n",
    "\n",
    "# v_llm.dot(v_orig)\n",
    "# cosine()"
   ]
  },
  {
   "cell_type": "code",
   "execution_count": 35,
   "id": "bf10dd98",
   "metadata": {},
   "outputs": [
    {
     "data": {
      "text/plain": [
       "(1830, 1830)"
      ]
     },
     "execution_count": 35,
     "metadata": {},
     "output_type": "execute_result"
    }
   ],
   "source": [
    "len(v_llm), len(v_orig)"
   ]
  },
  {
   "cell_type": "markdown",
   "id": "884b6692",
   "metadata": {},
   "source": [
    "Promedio de los cosenos"
   ]
  },
  {
   "cell_type": "code",
   "execution_count": 43,
   "id": "0345f410",
   "metadata": {},
   "outputs": [
    {
     "name": "stdout",
     "output_type": "stream",
     "text": [
      "0.8415841233490402\n"
     ]
    }
   ],
   "source": [
    "cosenos= []\n",
    "\n",
    "for i in range(len(v_orig)):\n",
    "    cos= cosine(v_llm[i],v_orig[i])\n",
    "    cosenos.append(cos)\n",
    "\n",
    "print(np.mean(cosenos))"
   ]
  },
  {
   "cell_type": "markdown",
   "id": "2a0c6053",
   "metadata": {},
   "source": [
    "## Q6 Rouge\n",
    "\n",
    "Otra alternativa para evaluar similitud entre textos es Rouge\n",
    "`pip install rouge`"
   ]
  },
  {
   "cell_type": "code",
   "execution_count": null,
   "id": "47aeeb83",
   "metadata": {},
   "outputs": [
    {
     "data": {
      "text/plain": [
       "{'rouge-1': {'r': 0.45454545454545453,\n",
       "  'p': 0.45454545454545453,\n",
       "  'f': 0.45454544954545456},\n",
       " 'rouge-2': {'r': 0.21621621621621623,\n",
       "  'p': 0.21621621621621623,\n",
       "  'f': 0.21621621121621637},\n",
       " 'rouge-l': {'r': 0.3939393939393939,\n",
       "  'p': 0.3939393939393939,\n",
       "  'f': 0.393939388939394}}"
      ]
     },
     "execution_count": 44,
     "metadata": {},
     "output_type": "execute_result"
    }
   ],
   "source": [
    "from rouge import Rouge\n",
    "rouge_scorer = Rouge()\n",
    "\n",
    "r = df_results.iloc[10] # fila 10\n",
    "scores = rouge_scorer.get_scores(r.answer_llm, r.answer_orig)[0] # calcula la métrica rouge entre ambos textos\n",
    "scores"
   ]
  },
  {
   "cell_type": "code",
   "execution_count": 61,
   "id": "403afbf6",
   "metadata": {},
   "outputs": [],
   "source": [
    "# para todo el df\n",
    "\n",
    "def rouge(fila):\n",
    "    scores = rouge_scorer.get_scores(fila.answer_llm, fila.answer_orig)[0] # calcula la métrica rouge entre ambos textos\n",
    "    #    'rouge-1': scores['rouge-1']['f']\n",
    "    return scores['rouge-1']['f']\n",
    "\n",
    "scores= df_results.apply(rouge, axis=1)"
   ]
  },
  {
   "cell_type": "code",
   "execution_count": 63,
   "id": "8ca06f43",
   "metadata": {},
   "outputs": [
    {
     "data": {
      "text/plain": [
       "np.float64(0.3516946452113943)"
      ]
     },
     "execution_count": 63,
     "metadata": {},
     "output_type": "execute_result"
    }
   ],
   "source": [
    "np.mean(scores)"
   ]
  }
 ],
 "metadata": {
  "kernelspec": {
   "display_name": "Python 3",
   "language": "python",
   "name": "python3"
  },
  "language_info": {
   "codemirror_mode": {
    "name": "ipython",
    "version": 3
   },
   "file_extension": ".py",
   "mimetype": "text/x-python",
   "name": "python",
   "nbconvert_exporter": "python",
   "pygments_lexer": "ipython3",
   "version": "3.12.1"
  }
 },
 "nbformat": 4,
 "nbformat_minor": 5
}

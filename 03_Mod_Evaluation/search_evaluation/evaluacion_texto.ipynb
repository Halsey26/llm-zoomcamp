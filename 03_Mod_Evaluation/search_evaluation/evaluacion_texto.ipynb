{
 "cells": [
  {
   "cell_type": "markdown",
   "id": "4e698725",
   "metadata": {},
   "source": [
    "# Evaluación del texto\n",
    "Estrategia usada: \n",
    "```\n",
    "for pregunta in ground truth data: \n",
    "    Se ejecuta la pregunta mediante una técnica(similitud, vectorial, etc)\n",
    "    se verifica si el documento correcto(id) está en los resultados\n",
    "```\n",
    "## Métricas\n",
    "Se emplean 2 métricas de evaluación\n",
    "- Hit Rate\n",
    "- Mean Reciprocal Rank \n",
    "\n",
    "## Documentos\n",
    "- Se usa: `documentos_idhash.json` y  `ground-truth-data.csv`\n",
    "- Resultado: "
   ]
  },
  {
   "cell_type": "markdown",
   "id": "759a47c6",
   "metadata": {},
   "source": [
    "## Carga de documentos"
   ]
  },
  {
   "cell_type": "markdown",
   "id": "02ff1aba",
   "metadata": {},
   "source": [
    "### Documentos con id"
   ]
  },
  {
   "cell_type": "code",
   "execution_count": 1,
   "id": "e4cb6cbf",
   "metadata": {},
   "outputs": [],
   "source": [
    "import json\n",
    "\n",
    "with open('documentos_idhash.json', 'rt') as file:\n",
    "    documentos = json.load(file)"
   ]
  },
  {
   "cell_type": "code",
   "execution_count": 4,
   "id": "83694e49",
   "metadata": {},
   "outputs": [
    {
     "data": {
      "text/plain": [
       "{'text': 'No, late submissions are not allowed. But if the form is still not closed and it’s after the due date, you can still submit the homework. confirm your submission by the date-timestamp on the Course page.y\\nOlder news:[source1] [source2]',\n",
       " 'section': 'General course-related questions',\n",
       " 'question': 'Homework - Are late submissions of homework allowed?',\n",
       " 'course': 'data-engineering-zoomcamp',\n",
       " 'id': 'be5bfee4'}"
      ]
     },
     "execution_count": 4,
     "metadata": {},
     "output_type": "execute_result"
    }
   ],
   "source": [
    "documentos[15]"
   ]
  },
  {
   "cell_type": "markdown",
   "id": "73b43425",
   "metadata": {},
   "source": [
    "### Carga de Ground Truth Data"
   ]
  },
  {
   "cell_type": "code",
   "execution_count": 1,
   "id": "b4888330",
   "metadata": {},
   "outputs": [
    {
     "data": {
      "text/html": [
       "<div>\n",
       "<style scoped>\n",
       "    .dataframe tbody tr th:only-of-type {\n",
       "        vertical-align: middle;\n",
       "    }\n",
       "\n",
       "    .dataframe tbody tr th {\n",
       "        vertical-align: top;\n",
       "    }\n",
       "\n",
       "    .dataframe thead th {\n",
       "        text-align: right;\n",
       "    }\n",
       "</style>\n",
       "<table border=\"1\" class=\"dataframe\">\n",
       "  <thead>\n",
       "    <tr style=\"text-align: right;\">\n",
       "      <th></th>\n",
       "      <th>question</th>\n",
       "      <th>course</th>\n",
       "      <th>document</th>\n",
       "    </tr>\n",
       "  </thead>\n",
       "  <tbody>\n",
       "    <tr>\n",
       "      <th>0</th>\n",
       "      <td>When does the course begin?</td>\n",
       "      <td>data-engineering-zoomcamp</td>\n",
       "      <td>c02e79ef</td>\n",
       "    </tr>\n",
       "    <tr>\n",
       "      <th>1</th>\n",
       "      <td>How can I get the course schedule?</td>\n",
       "      <td>data-engineering-zoomcamp</td>\n",
       "      <td>c02e79ef</td>\n",
       "    </tr>\n",
       "    <tr>\n",
       "      <th>2</th>\n",
       "      <td>What is the link for course registration?</td>\n",
       "      <td>data-engineering-zoomcamp</td>\n",
       "      <td>c02e79ef</td>\n",
       "    </tr>\n",
       "    <tr>\n",
       "      <th>3</th>\n",
       "      <td>How can I receive course announcements?</td>\n",
       "      <td>data-engineering-zoomcamp</td>\n",
       "      <td>c02e79ef</td>\n",
       "    </tr>\n",
       "    <tr>\n",
       "      <th>4</th>\n",
       "      <td>Where do I join the Slack channel?</td>\n",
       "      <td>data-engineering-zoomcamp</td>\n",
       "      <td>c02e79ef</td>\n",
       "    </tr>\n",
       "  </tbody>\n",
       "</table>\n",
       "</div>"
      ],
      "text/plain": [
       "                                    question                     course  \\\n",
       "0                When does the course begin?  data-engineering-zoomcamp   \n",
       "1         How can I get the course schedule?  data-engineering-zoomcamp   \n",
       "2  What is the link for course registration?  data-engineering-zoomcamp   \n",
       "3    How can I receive course announcements?  data-engineering-zoomcamp   \n",
       "4         Where do I join the Slack channel?  data-engineering-zoomcamp   \n",
       "\n",
       "   document  \n",
       "0  c02e79ef  \n",
       "1  c02e79ef  \n",
       "2  c02e79ef  \n",
       "3  c02e79ef  \n",
       "4  c02e79ef  "
      ]
     },
     "execution_count": 1,
     "metadata": {},
     "output_type": "execute_result"
    }
   ],
   "source": [
    "import pandas as pd\n",
    "\n",
    "df= pd.read_csv('ground-truth-data.csv')\n",
    "df.head()"
   ]
  },
  {
   "cell_type": "markdown",
   "id": "8352fa6d",
   "metadata": {},
   "source": [
    "Pero conviene usarlo como diccionario para poder recorrer cada "
   ]
  },
  {
   "cell_type": "code",
   "execution_count": 2,
   "id": "9dc57b27",
   "metadata": {},
   "outputs": [
    {
     "data": {
      "text/plain": [
       "pandas.core.frame.DataFrame"
      ]
     },
     "execution_count": 2,
     "metadata": {},
     "output_type": "execute_result"
    }
   ],
   "source": [
    "type(df)"
   ]
  },
  {
   "cell_type": "markdown",
   "id": "e1077ade",
   "metadata": {},
   "source": [
    "https://pandas.pydata.org/docs/reference/api/pandas.DataFrame.to_dict.html"
   ]
  },
  {
   "cell_type": "markdown",
   "id": "a3b326db",
   "metadata": {},
   "source": [
    "## Búsqueda por similitud\n",
    "Generamos los resultados por búsqueda de similitud usando Elastic Search y Minsearch.\n",
    "Se usarán las querys de `ground-truth-data` "
   ]
  },
  {
   "cell_type": "markdown",
   "id": "7180ae4f",
   "metadata": {},
   "source": [
    "###  Elastic Search\n",
    "Recordar pasos:\n",
    "\n",
    "1. Importación de librería y Creación de cliente\n",
    "2. Indexación con elastic (configuración, creación e indexación de los documentos)\n",
    "3. Función de búsqueda Semántica usando elastic search. Devuelve los documentos con mayor coincidencia.\n",
    "4.  \n",
    "\n",
    "- Más detalles: [módulo 1](https://github.com/Halsey26/llm-zoomcamp/blob/main/01_Mod_IntroRag/rag_intro.ipynb) "
   ]
  },
  {
   "cell_type": "code",
   "execution_count": 8,
   "id": "918cea33",
   "metadata": {},
   "outputs": [],
   "source": [
    "import elasticsearch\n",
    "from elasticsearch import Elasticsearch\n",
    "# cliente\n",
    "es_cliente= Elasticsearch('http://127.0.0.1:9200/')\n"
   ]
  },
  {
   "cell_type": "code",
   "execution_count": null,
   "id": "99e0fc17",
   "metadata": {},
   "outputs": [],
   "source": [
    "# es_cliente.info()"
   ]
  },
  {
   "cell_type": "code",
   "execution_count": null,
   "id": "15635b56",
   "metadata": {},
   "outputs": [],
   "source": []
  },
  {
   "cell_type": "markdown",
   "id": "7ccad940",
   "metadata": {},
   "source": [
    "###  Minsearch"
   ]
  },
  {
   "cell_type": "markdown",
   "id": "65ce0fa4",
   "metadata": {},
   "source": [
    "## Comparación Evaluacion Elastic Search - Minsearch"
   ]
  }
 ],
 "metadata": {
  "kernelspec": {
   "display_name": "Python 3",
   "language": "python",
   "name": "python3"
  },
  "language_info": {
   "codemirror_mode": {
    "name": "ipython",
    "version": 3
   },
   "file_extension": ".py",
   "mimetype": "text/x-python",
   "name": "python",
   "nbconvert_exporter": "python",
   "pygments_lexer": "ipython3",
   "version": "3.12.1"
  }
 },
 "nbformat": 4,
 "nbformat_minor": 5
}

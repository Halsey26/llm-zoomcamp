{
 "cells": [
  {
   "cell_type": "markdown",
   "id": "4e698725",
   "metadata": {},
   "source": [
    "# Evaluación del texto\n",
    "Estrategia usada: \n",
    "```\n",
    "for pregunta in ground truth data: \n",
    "    Se ejecuta la pregunta mediante una técnica(similitud, vectorial, etc)\n",
    "    se verifica si el documento correcto(id) está en los resultados\n",
    "```\n",
    "## Métricas\n",
    "Se emplean 2 métricas de evaluación\n",
    "- Hit Rate\n",
    "- Mean Reciprocal Rank \n",
    "\n",
    "## Documentos\n",
    "- Se usa: `documentos_idhash.json` y  `ground-truth-data.csv`\n",
    "- Resultado: "
   ]
  },
  {
   "cell_type": "markdown",
   "id": "759a47c6",
   "metadata": {},
   "source": [
    "## Carga de documentos con id generados"
   ]
  },
  {
   "cell_type": "code",
   "execution_count": 1,
   "id": "e4cb6cbf",
   "metadata": {},
   "outputs": [],
   "source": [
    "import json\n",
    "\n",
    "with open('documentos_idhash.json', 'rt') as file:\n",
    "    documentos = json.load(file)"
   ]
  },
  {
   "cell_type": "code",
   "execution_count": 4,
   "id": "83694e49",
   "metadata": {},
   "outputs": [
    {
     "data": {
      "text/plain": [
       "{'text': 'No, late submissions are not allowed. But if the form is still not closed and it’s after the due date, you can still submit the homework. confirm your submission by the date-timestamp on the Course page.y\\nOlder news:[source1] [source2]',\n",
       " 'section': 'General course-related questions',\n",
       " 'question': 'Homework - Are late submissions of homework allowed?',\n",
       " 'course': 'data-engineering-zoomcamp',\n",
       " 'id': 'be5bfee4'}"
      ]
     },
     "execution_count": 4,
     "metadata": {},
     "output_type": "execute_result"
    }
   ],
   "source": [
    "documentos[15]"
   ]
  },
  {
   "cell_type": "code",
   "execution_count": 3,
   "id": "c9ec7769",
   "metadata": {},
   "outputs": [
    {
     "data": {
      "text/plain": [
       "{'text': \"The purpose of this document is to capture frequently asked technical questions\\nThe exact day and hour of the course will be 15th Jan 2024 at 17h00. The course will start with the first  “Office Hours'' live.1\\nSubscribe to course public Google Calendar (it works from Desktop only).\\nRegister before the course starts using this link.\\nJoin the course Telegram channel with announcements.\\nDon’t forget to register in DataTalks.Club's Slack and join the channel.\",\n",
       " 'section': 'General course-related questions',\n",
       " 'question': 'Course - When will the course start?',\n",
       " 'course': 'data-engineering-zoomcamp',\n",
       " 'id': 'c02e79ef'}"
      ]
     },
     "execution_count": 3,
     "metadata": {},
     "output_type": "execute_result"
    }
   ],
   "source": [
    "documentos[0]"
   ]
  },
  {
   "cell_type": "markdown",
   "id": "a3b326db",
   "metadata": {},
   "source": [
    "## Sistema RAG- Elastic Search. Recordar pasos:\n",
    "\n",
    "1. Importación de librería y Creación de cliente\n",
    "2. Indexación con elastic (configuración, creación e indexación de los documentos)\n",
    "3. Función de búsqueda Semántica usando elastic search. Devuelve los documentos con mayor coincidencia.\n",
    "4.  \n",
    "\n",
    "- Más detalles: [módulo 1](https://github.com/Halsey26/llm-zoomcamp/blob/main/01_Mod_IntroRag/rag_intro.ipynb) "
   ]
  },
  {
   "cell_type": "code",
   "execution_count": 8,
   "id": "918cea33",
   "metadata": {},
   "outputs": [],
   "source": [
    "import elasticsearch\n",
    "from elasticsearch import Elasticsearch\n",
    "# cliente\n",
    "es_cliente= Elasticsearch('http://127.0.0.1:9200/')\n"
   ]
  },
  {
   "cell_type": "code",
   "execution_count": null,
   "id": "99e0fc17",
   "metadata": {},
   "outputs": [],
   "source": [
    "# es_cliente.info()"
   ]
  },
  {
   "cell_type": "code",
   "execution_count": null,
   "id": "15635b56",
   "metadata": {},
   "outputs": [],
   "source": []
  }
 ],
 "metadata": {
  "kernelspec": {
   "display_name": "Python 3",
   "language": "python",
   "name": "python3"
  },
  "language_info": {
   "codemirror_mode": {
    "name": "ipython",
    "version": 3
   },
   "file_extension": ".py",
   "mimetype": "text/x-python",
   "name": "python",
   "nbconvert_exporter": "python",
   "pygments_lexer": "ipython3",
   "version": "3.12.1"
  }
 },
 "nbformat": 4,
 "nbformat_minor": 5
}

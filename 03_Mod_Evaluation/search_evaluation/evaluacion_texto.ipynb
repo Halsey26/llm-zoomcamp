{
 "cells": [
  {
   "cell_type": "markdown",
   "id": "4e698725",
   "metadata": {},
   "source": [
    "# Evaluación del texto\n",
    "Estrategia usada: \n",
    "```\n",
    "for pregunta in ground truth data: \n",
    "    Se ejecuta la pregunta mediante una técnica(similitud, vectorial, etc)\n",
    "    se verifica si el documento correcto(id) está en los resultados\n",
    "```\n",
    "- **Métricas**\n",
    "Se emplean 2 métricas de evaluación\n",
    "    - Hit Rate\n",
    "    - Mean Reciprocal Rank \n",
    "\n",
    "- **Documentos**\n",
    "    - Se usa: `documentos_idhash.json` y  `ground-truth-data.csv`\n",
    "    - Resultado: "
   ]
  },
  {
   "cell_type": "markdown",
   "id": "759a47c6",
   "metadata": {},
   "source": [
    "## Carga de documentos"
   ]
  },
  {
   "cell_type": "markdown",
   "id": "02ff1aba",
   "metadata": {},
   "source": [
    "### Documentos con id"
   ]
  },
  {
   "cell_type": "code",
   "execution_count": 8,
   "id": "e4cb6cbf",
   "metadata": {},
   "outputs": [],
   "source": [
    "import json\n",
    "\n",
    "with open('documentos_idhash.json', 'rt') as file:\n",
    "    documentos = json.load(file)"
   ]
  },
  {
   "cell_type": "code",
   "execution_count": 2,
   "id": "83694e49",
   "metadata": {},
   "outputs": [
    {
     "data": {
      "text/plain": [
       "{'text': 'No, late submissions are not allowed. But if the form is still not closed and it’s after the due date, you can still submit the homework. confirm your submission by the date-timestamp on the Course page.y\\nOlder news:[source1] [source2]',\n",
       " 'section': 'General course-related questions',\n",
       " 'question': 'Homework - Are late submissions of homework allowed?',\n",
       " 'course': 'data-engineering-zoomcamp',\n",
       " 'id': 'be5bfee4'}"
      ]
     },
     "execution_count": 2,
     "metadata": {},
     "output_type": "execute_result"
    }
   ],
   "source": [
    "documentos[15]"
   ]
  },
  {
   "cell_type": "markdown",
   "id": "73b43425",
   "metadata": {},
   "source": [
    "### Carga de Ground Truth Data"
   ]
  },
  {
   "cell_type": "code",
   "execution_count": 9,
   "id": "b4888330",
   "metadata": {},
   "outputs": [
    {
     "data": {
      "text/html": [
       "<div>\n",
       "<style scoped>\n",
       "    .dataframe tbody tr th:only-of-type {\n",
       "        vertical-align: middle;\n",
       "    }\n",
       "\n",
       "    .dataframe tbody tr th {\n",
       "        vertical-align: top;\n",
       "    }\n",
       "\n",
       "    .dataframe thead th {\n",
       "        text-align: right;\n",
       "    }\n",
       "</style>\n",
       "<table border=\"1\" class=\"dataframe\">\n",
       "  <thead>\n",
       "    <tr style=\"text-align: right;\">\n",
       "      <th></th>\n",
       "      <th>question</th>\n",
       "      <th>course</th>\n",
       "      <th>document</th>\n",
       "    </tr>\n",
       "  </thead>\n",
       "  <tbody>\n",
       "    <tr>\n",
       "      <th>0</th>\n",
       "      <td>When does the course begin?</td>\n",
       "      <td>data-engineering-zoomcamp</td>\n",
       "      <td>c02e79ef</td>\n",
       "    </tr>\n",
       "    <tr>\n",
       "      <th>1</th>\n",
       "      <td>How can I get the course schedule?</td>\n",
       "      <td>data-engineering-zoomcamp</td>\n",
       "      <td>c02e79ef</td>\n",
       "    </tr>\n",
       "    <tr>\n",
       "      <th>2</th>\n",
       "      <td>What is the link for course registration?</td>\n",
       "      <td>data-engineering-zoomcamp</td>\n",
       "      <td>c02e79ef</td>\n",
       "    </tr>\n",
       "    <tr>\n",
       "      <th>3</th>\n",
       "      <td>How can I receive course announcements?</td>\n",
       "      <td>data-engineering-zoomcamp</td>\n",
       "      <td>c02e79ef</td>\n",
       "    </tr>\n",
       "    <tr>\n",
       "      <th>4</th>\n",
       "      <td>Where do I join the Slack channel?</td>\n",
       "      <td>data-engineering-zoomcamp</td>\n",
       "      <td>c02e79ef</td>\n",
       "    </tr>\n",
       "  </tbody>\n",
       "</table>\n",
       "</div>"
      ],
      "text/plain": [
       "                                    question                     course  \\\n",
       "0                When does the course begin?  data-engineering-zoomcamp   \n",
       "1         How can I get the course schedule?  data-engineering-zoomcamp   \n",
       "2  What is the link for course registration?  data-engineering-zoomcamp   \n",
       "3    How can I receive course announcements?  data-engineering-zoomcamp   \n",
       "4         Where do I join the Slack channel?  data-engineering-zoomcamp   \n",
       "\n",
       "   document  \n",
       "0  c02e79ef  \n",
       "1  c02e79ef  \n",
       "2  c02e79ef  \n",
       "3  c02e79ef  \n",
       "4  c02e79ef  "
      ]
     },
     "execution_count": 9,
     "metadata": {},
     "output_type": "execute_result"
    }
   ],
   "source": [
    "import pandas as pd\n",
    "\n",
    "df= pd.read_csv('ground-truth-data.csv')\n",
    "df.head()"
   ]
  },
  {
   "cell_type": "markdown",
   "id": "8352fa6d",
   "metadata": {},
   "source": [
    "Pero conviene usarlo como diccionario para poder recorrer cada elemento por question, course o el id del documento"
   ]
  },
  {
   "cell_type": "code",
   "execution_count": 10,
   "id": "9dc57b27",
   "metadata": {},
   "outputs": [
    {
     "data": {
      "text/plain": [
       "[{'question': 'When does the course begin?',\n",
       "  'course': 'data-engineering-zoomcamp',\n",
       "  'document': 'c02e79ef'},\n",
       " {'question': 'How can I get the course schedule?',\n",
       "  'course': 'data-engineering-zoomcamp',\n",
       "  'document': 'c02e79ef'},\n",
       " {'question': 'What is the link for course registration?',\n",
       "  'course': 'data-engineering-zoomcamp',\n",
       "  'document': 'c02e79ef'}]"
      ]
     },
     "execution_count": 10,
     "metadata": {},
     "output_type": "execute_result"
    }
   ],
   "source": [
    "ground_truthdata= df.to_dict('records')\n",
    "ground_truthdata[0:3]"
   ]
  },
  {
   "cell_type": "markdown",
   "id": "a3b326db",
   "metadata": {},
   "source": [
    "## Búsqueda por similitud\n",
    "Generamos los resultados por búsqueda de similitud usando Elastic Search y Minsearch.\n",
    "Se usarán las querys de `ground-truth-data` "
   ]
  },
  {
   "cell_type": "markdown",
   "id": "7180ae4f",
   "metadata": {},
   "source": [
    "###  Elastic Search\n",
    "Recordar pasos:\n",
    "\n",
    "1. Importación de librería y Creación de cliente\n",
    "2. Indexación con elastic (configuración, creación e indexación de los documentos)\n",
    "3. Función de búsqueda Semántica usando elastic search. Devuelve los documentos con mayor coincidencia.\n",
    "\n",
    "**Nota**: recuerda correr elastic search usando docker <p>\n",
    "docker run -it \\\n",
    "    --rm \\\n",
    "    --name elasticsearch \\\n",
    "    -m 4GB \\\n",
    "    -p 9200:9200 \\\n",
    "    -p 9300:9300 \\\n",
    "    -e \"discovery.type=single-node\" \\\n",
    "    -e \"xpack.security.enabled=false\" \\\n",
    "    docker.elastic.co/elasticsearch/elasticsearch:8.4.3\n",
    "\n",
    "*Más detalles*: [módulo 1](https://github.com/Halsey26/llm-zoomcamp/blob/main/01_Mod_IntroRag/rag_intro.ipynb) "
   ]
  },
  {
   "cell_type": "code",
   "execution_count": 5,
   "id": "918cea33",
   "metadata": {},
   "outputs": [
    {
     "data": {
      "text/plain": [
       "ObjectApiResponse({'name': '0a7d49c11c01', 'cluster_name': 'docker-cluster', 'cluster_uuid': 'Lh37s7P3TomzJ-REo3jkSA', 'version': {'number': '8.4.3', 'build_flavor': 'default', 'build_type': 'docker', 'build_hash': '42f05b9372a9a4a470db3b52817899b99a76ee73', 'build_date': '2022-10-04T07:17:24.662462378Z', 'build_snapshot': False, 'lucene_version': '9.3.0', 'minimum_wire_compatibility_version': '7.17.0', 'minimum_index_compatibility_version': '7.0.0'}, 'tagline': 'You Know, for Search'})"
      ]
     },
     "execution_count": 5,
     "metadata": {},
     "output_type": "execute_result"
    }
   ],
   "source": [
    "import elasticsearch\n",
    "from elasticsearch import Elasticsearch\n",
    "# cliente\n",
    "es_cliente= Elasticsearch('http://127.0.0.1:9200/')\n",
    "es_cliente.info()"
   ]
  },
  {
   "cell_type": "code",
   "execution_count": 6,
   "id": "c7a63cb2",
   "metadata": {},
   "outputs": [
    {
     "name": "stderr",
     "output_type": "stream",
     "text": [
      "/tmp/ipykernel_2245/1021064199.py:20: DeprecationWarning: The 'body' parameter is deprecated and will be removed in a future version. Instead use individual parameters.\n",
      "  es_cliente.indices.create (index = nombre_index, body= index_config)\n"
     ]
    },
    {
     "data": {
      "text/plain": [
       "ObjectApiResponse({'acknowledged': True, 'shards_acknowledged': True, 'index': 'course-questions'})"
      ]
     },
     "execution_count": 6,
     "metadata": {},
     "output_type": "execute_result"
    }
   ],
   "source": [
    "# configuracion \n",
    "index_config= {\n",
    "    \"settings\":{\n",
    "        \"number_of_shards\": 1,\n",
    "        \"number_of_replicas\": 0\n",
    "    }, \n",
    "    \"mappings\": {\n",
    "        \"properties\":{\n",
    "            \"text\": {\"type\": \"text\"},\n",
    "            \"section\": {\"type\": \"text\"},\n",
    "            \"question\": {\"type\": \"text\"},\n",
    "            \"course\": {\"type\": \"keyword\"},\n",
    "            \"id\": {\"type\": \"keyword\"},\n",
    "        }\n",
    "    }\n",
    "}\n",
    "\n",
    "# creamos el index\n",
    "nombre_index= \"course-questions\"\n",
    "es_cliente.indices.create (index = nombre_index, body= index_config)\n"
   ]
  },
  {
   "cell_type": "code",
   "execution_count": 11,
   "id": "4d6d4c15",
   "metadata": {},
   "outputs": [
    {
     "name": "stderr",
     "output_type": "stream",
     "text": [
      "  2%|▏         | 16/948 [00:00<00:06, 154.81it/s]"
     ]
    },
    {
     "name": "stderr",
     "output_type": "stream",
     "text": [
      "100%|██████████| 948/948 [00:04<00:00, 218.76it/s]\n"
     ]
    }
   ],
   "source": [
    "from tqdm.auto import tqdm\n",
    "\n",
    "for doc in tqdm(documentos):\n",
    "    es_cliente.index(index= nombre_index, document=doc)"
   ]
  },
  {
   "cell_type": "code",
   "execution_count": 16,
   "id": "b805195e",
   "metadata": {},
   "outputs": [],
   "source": [
    "# funcion busqueda\n",
    "def search_elastic(query, course):\n",
    "    search_query= {\n",
    "        \"size\": 5,\n",
    "        \n",
    "        \"query\": {\n",
    "            \"bool\": {\n",
    "                \"must\": {\n",
    "                    \"multi_match\": {\n",
    "                        \"query\": query,\n",
    "                        \"fields\": [\"question^3\", \"text\", \"section\"],\n",
    "                        \"type\": \"best_fields\"\n",
    "                    }\n",
    "                },\n",
    "                \"filter\": {\n",
    "                    \"term\": {\n",
    "                        \"course\": course\n",
    "                    }\n",
    "                }\n",
    "            }\n",
    "        }\n",
    "    }\n",
    "\n",
    "    # busqueda\n",
    "    respuesta_search= es_cliente.search(index=nombre_index, body= search_query)\n",
    "    \n",
    "    resultados_search =[]\n",
    "\n",
    "    for resultado in respuesta_search['hits']['hits']:\n",
    "        respuesta = resultado['_source']\n",
    "        resultados_search.append(respuesta)\n",
    "\n",
    "    return resultados_search"
   ]
  },
  {
   "cell_type": "code",
   "execution_count": 23,
   "id": "0ebed691",
   "metadata": {},
   "outputs": [
    {
     "name": "stderr",
     "output_type": "stream",
     "text": [
      "/tmp/ipykernel_2245/2031491954.py:25: DeprecationWarning: The 'body' parameter is deprecated and will be removed in a future version. Instead use individual parameters.\n",
      "  respuesta_search= es_cliente.search(index=nombre_index, body= search_query)\n"
     ]
    },
    {
     "data": {
      "text/plain": [
       "[{'text': \"Yes, even if you don't register, you're still eligible to submit the homeworks.\\nBe aware, however, that there will be deadlines for turning in the final projects. So don't leave everything for the last minute.\",\n",
       "  'section': 'General course-related questions',\n",
       "  'question': 'Course - Can I still join the course after the start date?',\n",
       "  'course': 'data-engineering-zoomcamp',\n",
       "  'id': '7842b56a'},\n",
       " {'text': 'You can start by installing and setting up all the dependencies and requirements:\\nGoogle cloud account\\nGoogle Cloud SDK\\nPython 3 (installed with Anaconda)\\nTerraform\\nGit\\nLook over the prerequisites and syllabus to see if you are comfortable with these subjects.',\n",
       "  'section': 'General course-related questions',\n",
       "  'question': 'Course - What can I do before the course starts?',\n",
       "  'course': 'data-engineering-zoomcamp',\n",
       "  'id': '63394d91'},\n",
       " {'text': 'Yes, we will keep all the materials after the course finishes, so you can follow the course at your own pace after it finishes.\\nYou can also continue looking at the homeworks and continue preparing for the next cohort. I guess you can also start working on your final capstone project.',\n",
       "  'section': 'General course-related questions',\n",
       "  'question': 'Course - Can I follow the course after it finishes?',\n",
       "  'course': 'data-engineering-zoomcamp',\n",
       "  'id': 'a482086d'},\n",
       " {'text': 'Yes, the slack channel remains open and you can ask questions there. But always sDocker containers exit code w search the channel first and second, check the FAQ (this document), most likely all your questions are already answered here.\\nYou can also tag the bot @ZoomcampQABot to help you conduct the search, but don’t rely on its answers 100%, it is pretty good though.',\n",
       "  'section': 'General course-related questions',\n",
       "  'question': 'Course - Can I get support if I take the course in the self-paced mode?',\n",
       "  'course': 'data-engineering-zoomcamp',\n",
       "  'id': 'eb56ae98'},\n",
       " {'text': \"You don't need it. You're accepted. You can also just start learning and submitting homework without registering. It is not checked against any registered list. Registration is just to gauge interest before the start date.\",\n",
       "  'section': 'General course-related questions',\n",
       "  'question': 'Course - I have registered for the Data Engineering Bootcamp. When can I expect to receive the confirmation email?',\n",
       "  'course': 'data-engineering-zoomcamp',\n",
       "  'id': '0bbf41ec'}]"
      ]
     },
     "execution_count": 23,
     "metadata": {},
     "output_type": "execute_result"
    }
   ],
   "source": [
    "query= 'I just discovered the course. Can I still join?'\n",
    "course = 'data-engineering-zoomcamp'\n",
    "\n",
    "resultados_elastic= search_elastic(query, course)\n",
    "resultados_elastic"
   ]
  },
  {
   "cell_type": "markdown",
   "id": "7ccad940",
   "metadata": {},
   "source": [
    "###  Minsearch\n",
    "Recordar pasos:\n",
    "1. Importamos libreria\n",
    "2. indexamos los documentos\n",
    "3. Creamos la función búsqueda, usando el peso de los campos como config\n"
   ]
  },
  {
   "cell_type": "code",
   "execution_count": 20,
   "id": "7eea252a",
   "metadata": {},
   "outputs": [
    {
     "data": {
      "text/plain": [
       "{'text': \"The purpose of this document is to capture frequently asked technical questions\\nThe exact day and hour of the course will be 15th Jan 2024 at 17h00. The course will start with the first  “Office Hours'' live.1\\nSubscribe to course public Google Calendar (it works from Desktop only).\\nRegister before the course starts using this link.\\nJoin the course Telegram channel with announcements.\\nDon’t forget to register in DataTalks.Club's Slack and join the channel.\",\n",
       " 'section': 'General course-related questions',\n",
       " 'question': 'Course - When will the course start?',\n",
       " 'course': 'data-engineering-zoomcamp',\n",
       " 'id': 'c02e79ef'}"
      ]
     },
     "execution_count": 20,
     "metadata": {},
     "output_type": "execute_result"
    }
   ],
   "source": [
    "documentos[0]"
   ]
  },
  {
   "cell_type": "code",
   "execution_count": 21,
   "id": "7ea347df",
   "metadata": {},
   "outputs": [
    {
     "data": {
      "text/plain": [
       "<minsearch.minsearch.Index at 0x72d0dc18a960>"
      ]
     },
     "execution_count": 21,
     "metadata": {},
     "output_type": "execute_result"
    }
   ],
   "source": [
    "import minsearch\n",
    "\n",
    "#indexacion\n",
    "index= minsearch.Index(\n",
    "    text_fields= ['text', 'section', 'question'], \n",
    "    keyword_fields=['course', 'id']\n",
    ")\n",
    "\n",
    "index.fit(documentos)"
   ]
  },
  {
   "cell_type": "code",
   "execution_count": null,
   "id": "29993d88",
   "metadata": {},
   "outputs": [
    {
     "data": {
      "text/plain": [
       "[{'text': \"Yes, even if you don't register, you're still eligible to submit the homeworks.\\nBe aware, however, that there will be deadlines for turning in the final projects. So don't leave everything for the last minute.\",\n",
       "  'section': 'General course-related questions',\n",
       "  'question': 'Course - Can I still join the course after the start date?',\n",
       "  'course': 'data-engineering-zoomcamp',\n",
       "  'id': '7842b56a'},\n",
       " {'text': 'You can start by installing and setting up all the dependencies and requirements:\\nGoogle cloud account\\nGoogle Cloud SDK\\nPython 3 (installed with Anaconda)\\nTerraform\\nGit\\nLook over the prerequisites and syllabus to see if you are comfortable with these subjects.',\n",
       "  'section': 'General course-related questions',\n",
       "  'question': 'Course - What can I do before the course starts?',\n",
       "  'course': 'data-engineering-zoomcamp',\n",
       "  'id': '63394d91'},\n",
       " {'text': 'Yes, we will keep all the materials after the course finishes, so you can follow the course at your own pace after it finishes.\\nYou can also continue looking at the homeworks and continue preparing for the next cohort. I guess you can also start working on your final capstone project.',\n",
       "  'section': 'General course-related questions',\n",
       "  'question': 'Course - Can I follow the course after it finishes?',\n",
       "  'course': 'data-engineering-zoomcamp',\n",
       "  'id': 'a482086d'},\n",
       " {'text': \"The purpose of this document is to capture frequently asked technical questions\\nThe exact day and hour of the course will be 15th Jan 2024 at 17h00. The course will start with the first  “Office Hours'' live.1\\nSubscribe to course public Google Calendar (it works from Desktop only).\\nRegister before the course starts using this link.\\nJoin the course Telegram channel with announcements.\\nDon’t forget to register in DataTalks.Club's Slack and join the channel.\",\n",
       "  'section': 'General course-related questions',\n",
       "  'question': 'Course - When will the course start?',\n",
       "  'course': 'data-engineering-zoomcamp',\n",
       "  'id': 'c02e79ef'},\n",
       " {'text': 'Star the repo! Share it with friends if you find it useful ❣️\\nCreate a PR if you see you can improve the text or the structure of the repository.',\n",
       "  'section': 'General course-related questions',\n",
       "  'question': 'How can we contribute to the course?',\n",
       "  'course': 'data-engineering-zoomcamp',\n",
       "  'id': '2f19301f'}]"
      ]
     },
     "execution_count": 24,
     "metadata": {},
     "output_type": "execute_result"
    }
   ],
   "source": [
    "# función búsqueda\n",
    "def search_minsearch(query, course):\n",
    "    resultados= index.search(\n",
    "        query= query, \n",
    "        boost_dict= {\"question\": 3, \"text\": 0.2, \"section\": 0.5} , \n",
    "        filter_dict= {\"course\": course} ,\n",
    "        num_results= 5\n",
    "    )\n",
    "\n",
    "    return resultados\n",
    "\n",
    "query= 'I just discovered the course. Can I still join?'\n",
    "course = 'data-engineering-zoomcamp'\n",
    "\n",
    "resultados_minsearch= search_minsearch(query, course)\n",
    "resultados_minsearch"
   ]
  },
  {
   "cell_type": "markdown",
   "id": "65ce0fa4",
   "metadata": {},
   "source": [
    "## Comparación Evaluacion Elastic Search - Minsearch"
   ]
  },
  {
   "cell_type": "markdown",
   "id": "1d530fb7",
   "metadata": {},
   "source": [
    "### Obtención de los documentos relevantes"
   ]
  },
  {
   "cell_type": "markdown",
   "id": "7c0444b9",
   "metadata": {},
   "source": [
    "Resultados: documentos relevantes usando elasticsearch"
   ]
  },
  {
   "cell_type": "code",
   "execution_count": 50,
   "id": "5b020b62",
   "metadata": {},
   "outputs": [
    {
     "name": "stderr",
     "output_type": "stream",
     "text": [
      "  0%|          | 0/5 [00:00<?, ?it/s]/tmp/ipykernel_2245/2031491954.py:25: DeprecationWarning: The 'body' parameter is deprecated and will be removed in a future version. Instead use individual parameters.\n",
      "  respuesta_search= es_cliente.search(index=nombre_index, body= search_query)\n",
      "100%|██████████| 5/5 [00:00<00:00, 65.73it/s]\n"
     ]
    }
   ],
   "source": [
    "prueba_groundt= ground_truthdata[:5]\n",
    "relevantes= []\n",
    "\n",
    "for doc_groundt in tqdm(prueba_groundt):\n",
    "    id_groundt= doc_groundt['document']\n",
    "    resultados_search= search_elastic(doc_groundt['question'], doc_groundt['course'] )\n",
    "    \n",
    "    relevante_registo = []\n",
    "\n",
    "    for result in resultados_search:\n",
    "        relevante_registo.append(id_groundt == result['id']  )\n",
    "    # lo mismo: relevantes_registro = [result['id] == id_groundt for result in resultados_search]\n",
    "    \n",
    "    relevantes.append(relevante_registo)"
   ]
  },
  {
   "cell_type": "code",
   "execution_count": 51,
   "id": "e4de5fe7",
   "metadata": {},
   "outputs": [
    {
     "data": {
      "text/plain": [
       "[[True, False, False, False, False],\n",
       " [False, False, False, False, False],\n",
       " [False, False, False, False, False],\n",
       " [False, False, False, False, False],\n",
       " [False, False, False, False, False]]"
      ]
     },
     "execution_count": 51,
     "metadata": {},
     "output_type": "execute_result"
    }
   ],
   "source": [
    "# documentos relevantes o no para cada query (las 5 primeras)\n",
    "relevantes"
   ]
  },
  {
   "cell_type": "markdown",
   "id": "ee5ca7b7",
   "metadata": {},
   "source": [
    "Podemos modularizar, y lo efectuamos para ambas funciones de búsquedas"
   ]
  },
  {
   "cell_type": "code",
   "execution_count": 53,
   "id": "eee6d2c5",
   "metadata": {},
   "outputs": [],
   "source": [
    "def obtencion_relevantes(ground_truth,funcion_busqueda ): \n",
    "    relevantes= []\n",
    "\n",
    "    for doc_groundt in tqdm(ground_truth):\n",
    "        id_groundt= doc_groundt['document']\n",
    "        resultados_search= funcion_busqueda(doc_groundt['question'], doc_groundt['course'] )\n",
    "        \n",
    "        relevante_registo = []\n",
    "\n",
    "        for result in resultados_search:\n",
    "            relevante_registo.append(id_groundt == result['id']  )\n",
    "        # lo mismo: relevantes_registro = [result['id] == id_groundt for result in resultados_search]\n",
    "        \n",
    "        relevantes.append(relevante_registo)\n",
    "\n",
    "    return relevantes"
   ]
  },
  {
   "cell_type": "markdown",
   "id": "3823d786",
   "metadata": {},
   "source": [
    "Obtenemos los resultados de cada query"
   ]
  },
  {
   "cell_type": "code",
   "execution_count": 54,
   "id": "e6de8c95",
   "metadata": {},
   "outputs": [
    {
     "name": "stderr",
     "output_type": "stream",
     "text": [
      "  0%|          | 0/4627 [00:00<?, ?it/s]/tmp/ipykernel_2245/2031491954.py:25: DeprecationWarning: The 'body' parameter is deprecated and will be removed in a future version. Instead use individual parameters.\n",
      "  respuesta_search= es_cliente.search(index=nombre_index, body= search_query)\n",
      "100%|██████████| 4627/4627 [00:57<00:00, 80.29it/s]\n"
     ]
    }
   ],
   "source": [
    "relevantes_elastic= obtencion_relevantes(ground_truthdata, search_elastic)\n"
   ]
  },
  {
   "cell_type": "code",
   "execution_count": 55,
   "id": "f8cc5346",
   "metadata": {},
   "outputs": [
    {
     "name": "stderr",
     "output_type": "stream",
     "text": [
      "100%|██████████| 4627/4627 [00:17<00:00, 260.95it/s]\n"
     ]
    }
   ],
   "source": [
    "relevantes_minsearch = obtencion_relevantes(ground_truthdata, search_minsearch)"
   ]
  },
  {
   "cell_type": "code",
   "execution_count": 62,
   "id": "645b12eb",
   "metadata": {},
   "outputs": [
    {
     "data": {
      "text/plain": [
       "[[True, False, False, False, False],\n",
       " [False, False, False, False, False],\n",
       " [False, False, False, False, False]]"
      ]
     },
     "execution_count": 62,
     "metadata": {},
     "output_type": "execute_result"
    }
   ],
   "source": [
    "relevantes_elastic[:3]"
   ]
  },
  {
   "cell_type": "code",
   "execution_count": 63,
   "id": "05974efd",
   "metadata": {},
   "outputs": [
    {
     "data": {
      "text/plain": [
       "[[True, False, False, False, False],\n",
       " [False, False, False, False, False],\n",
       " [False, False, False, False, False]]"
      ]
     },
     "execution_count": 63,
     "metadata": {},
     "output_type": "execute_result"
    }
   ],
   "source": [
    "relevantes_minsearch[:3]"
   ]
  },
  {
   "cell_type": "markdown",
   "id": "40b7af25",
   "metadata": {},
   "source": [
    "### Métricas de evaluación"
   ]
  },
  {
   "cell_type": "code",
   "execution_count": 64,
   "id": "d8c9548d",
   "metadata": {},
   "outputs": [
    {
     "data": {
      "text/plain": [
       "[[True, False, False, False, False],\n",
       " [False, False, False, False, False],\n",
       " [False, False, False, False, False],\n",
       " [False, False, False, False, False],\n",
       " [False, False, False, False, False]]"
      ]
     },
     "execution_count": 64,
     "metadata": {},
     "output_type": "execute_result"
    }
   ],
   "source": [
    "# realizamos un ejemplo\n",
    "relevantes"
   ]
  },
  {
   "cell_type": "code",
   "execution_count": 66,
   "id": "2d234252",
   "metadata": {},
   "outputs": [
    {
     "name": "stdout",
     "output_type": "stream",
     "text": [
      "0\n",
      "1\n",
      "2\n",
      "3\n",
      "4\n"
     ]
    }
   ],
   "source": [
    "for i in range(len(relevantes)):\n",
    "    print(i)"
   ]
  },
  {
   "cell_type": "code",
   "execution_count": null,
   "id": "ee3f0b73",
   "metadata": {},
   "outputs": [],
   "source": []
  }
 ],
 "metadata": {
  "kernelspec": {
   "display_name": "Python 3",
   "language": "python",
   "name": "python3"
  },
  "language_info": {
   "codemirror_mode": {
    "name": "ipython",
    "version": 3
   },
   "file_extension": ".py",
   "mimetype": "text/x-python",
   "name": "python",
   "nbconvert_exporter": "python",
   "pygments_lexer": "ipython3",
   "version": "3.12.1"
  }
 },
 "nbformat": 4,
 "nbformat_minor": 5
}

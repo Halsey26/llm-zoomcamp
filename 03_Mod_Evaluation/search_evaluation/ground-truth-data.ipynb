{
 "cells": [
  {
   "cell_type": "markdown",
   "id": "b9f52bb3",
   "metadata": {},
   "source": [
    "# Obtención del Ground Truth Data\n",
    "\n",
    "Estrategia usada:\n",
    "- for doc in documents:\n",
    "    generate 5 questions\n",
    "\n",
    "Los resultados se almacenaran: pregunta-curso-documento\n",
    "\n",
    "- Se generan:  `documentos_idhash.json` y  `ground-truth-data.csv`"
   ]
  },
  {
   "cell_type": "markdown",
   "id": "7e5045f5",
   "metadata": {},
   "source": [
    "## Obtiene los documentos"
   ]
  },
  {
   "cell_type": "code",
   "execution_count": 7,
   "id": "0cda001c",
   "metadata": {},
   "outputs": [],
   "source": [
    "import requests\n",
    "\n",
    "docs_url = 'https://github.com/DataTalksClub/llm-zoomcamp/blob/main/01-intro/documents.json?raw=1'\n",
    "docs_rpta= requests.get(docs_url)\n",
    "docu_raw= docs_rpta.json()\n",
    "\n",
    "documentos= []\n",
    "# se extrae solo los documentos con el nombre del curso agregado (se aplanan)\n",
    "for i in docu_raw:\n",
    "    curso= i['course']\n",
    "    for doc in i['documents']:\n",
    "        doc['course']= curso #se crea nuevo elemento con el nombre del curso\n",
    "        documentos.append(doc)"
   ]
  },
  {
   "cell_type": "code",
   "execution_count": 10,
   "id": "066f0c68",
   "metadata": {},
   "outputs": [
    {
     "data": {
      "text/plain": [
       "{'text': 'The course is available in the self-paced mode too, so you can go through the materials at any time. But if you want to do it as a cohort with other students, the next iterations will happen in September 2023, September 2024 (and potentially other Septembers as well).',\n",
       " 'section': 'General course-related questions',\n",
       " 'question': 'When does the next iteration start?',\n",
       " 'course': 'machine-learning-zoomcamp'}"
      ]
     },
     "execution_count": 10,
     "metadata": {},
     "output_type": "execute_result"
    }
   ],
   "source": [
    "documentos[450]"
   ]
  },
  {
   "cell_type": "markdown",
   "id": "d9ed06e4",
   "metadata": {},
   "source": [
    "## Se generan id para cada documentos"
   ]
  },
  {
   "cell_type": "markdown",
   "id": "0da90fb6",
   "metadata": {},
   "source": [
    "Una opción es de manera ascendente, asignando el índice:"
   ]
  },
  {
   "cell_type": "code",
   "execution_count": 3,
   "id": "7aa87a42",
   "metadata": {},
   "outputs": [],
   "source": [
    "documentos_c= documentos.copy()\n",
    "for i in range(len(documentos_c)):\n",
    "    documentos_c[i]['id']= i"
   ]
  },
  {
   "cell_type": "code",
   "execution_count": 4,
   "id": "b32aa1d3",
   "metadata": {},
   "outputs": [
    {
     "data": {
      "text/plain": [
       "{'text': 'For uniformity at least, but you’re not restricted to GCP, you can use other cloud platforms like AWS if you’re comfortable with other cloud platforms, since you get every service that’s been provided by GCP in Azure and AWS or others..\\nBecause everyone has a google account, GCP has a free trial period and gives $300 in credits  to new users. Also, we are working with BigQuery, which is a part of GCP.\\nNote that to sign up for a free GCP account, you must have a valid credit card.',\n",
       " 'section': 'General course-related questions',\n",
       " 'question': 'Environment - Why are we using GCP and not other cloud providers?',\n",
       " 'course': 'data-engineering-zoomcamp',\n",
       " 'id': 25}"
      ]
     },
     "execution_count": 4,
     "metadata": {},
     "output_type": "execute_result"
    }
   ],
   "source": [
    "documentos_c[25]"
   ]
  },
  {
   "cell_type": "markdown",
   "id": "6c1fc4b9",
   "metadata": {},
   "source": [
    "El problema de esta solución es que depende del orden, y para que el identificador sea robusto es preferible que depende del contenido. Entonces:"
   ]
  },
  {
   "cell_type": "markdown",
   "id": "a3a0532f",
   "metadata": {},
   "source": [
    "**Otra opción**\n",
    "La libreria `hashlib` permite codificar entradas como mensajes generando valores de tamaño fijo y seguros.  <p>\n",
    "En específico  `hash MD5` (que usa el algoritmo M5 hashing) recibe una input en string, lo codifica y entrega una salida de 128 bit o hexadecimal de 32 caracteres, como huella digital única.\n",
    "Usado conmunmente para codificar contraseñas, información bancaria, etc."
   ]
  },
  {
   "cell_type": "code",
   "execution_count": 5,
   "id": "cfc6c1a5",
   "metadata": {},
   "outputs": [
    {
     "data": {
      "text/plain": [
       "'e43a0a720f3665e082784e80a2f08be6'"
      ]
     },
     "execution_count": 5,
     "metadata": {},
     "output_type": "execute_result"
    }
   ],
   "source": [
    "# Ejemplo de uso con el primer texto del documento\n",
    "import hashlib\n",
    "# entrada\n",
    "texto= documentos[0]['text']\n",
    "\n",
    "# encode: codifica el string a byte, porque MD5 solo acepta byte\n",
    "# hashlib.md5: se aplica el algoritmo\n",
    "# hexdigest: retorna a un formato hexadecimal\n",
    "\n",
    "encode_texto= texto.encode()\n",
    "hash_algo= hashlib.md5(encode_texto)\n",
    "hash_hexa= hash_algo.hexdigest()\n",
    "hash_hexa"
   ]
  },
  {
   "cell_type": "markdown",
   "id": "05962b37",
   "metadata": {},
   "source": [
    "Entonces, como entrada consideramos de *documents*:\n",
    "- id: text + question + course \n",
    "\n",
    "Así el *id* será único por la pregunta, el curso y la respuesta."
   ]
  },
  {
   "cell_type": "code",
   "execution_count": 27,
   "id": "9ed8b4e3",
   "metadata": {},
   "outputs": [],
   "source": [
    "# primero generar a función hash\n",
    "# después generar el id codificado\n",
    "def hash_encode(input):\n",
    "    encode_texto= input.encode()\n",
    "    hash_algoritmo= hashlib.md5(encode_texto)\n",
    "    hash_hexa= hash_algoritmo.hexdigest()\n",
    "    return hash_hexa\n"
   ]
  },
  {
   "cell_type": "code",
   "execution_count": 28,
   "id": "8514bd15",
   "metadata": {},
   "outputs": [],
   "source": [
    "for doc in documentos:\n",
    "    contenido_id = f\"{doc['course']}-{doc['question']}-{doc['text'][:10]}\"\n",
    "    id_codificado= hash_encode(contenido_id)\n",
    "    id_codificado= id_codificado[:8]\n",
    "\n",
    "    doc['id']= id_codificado\n",
    "    "
   ]
  },
  {
   "cell_type": "code",
   "execution_count": 30,
   "id": "f71790a9",
   "metadata": {},
   "outputs": [
    {
     "data": {
      "text/plain": [
       "{'text': \"You don't need it. You're accepted. You can also just start learning and submitting homework without registering. It is not checked against any registered list. Registration is just to gauge interest before the start date.\",\n",
       " 'section': 'General course-related questions',\n",
       " 'question': 'Course - I have registered for the Data Engineering Bootcamp. When can I expect to receive the confirmation email?',\n",
       " 'course': 'data-engineering-zoomcamp',\n",
       " 'id': '0bbf41ec'}"
      ]
     },
     "execution_count": 30,
     "metadata": {},
     "output_type": "execute_result"
    }
   ],
   "source": [
    "documentos[3]"
   ]
  },
  {
   "cell_type": "markdown",
   "id": "28c4a2ad",
   "metadata": {},
   "source": [
    "Estos id generados son únicos? Hay que comprobarlo.\n",
    "Para ello se usa del módulo `collections` la subclase `defaultdic`. \n",
    "- Diccionario por defecto con parámetro de entrada el tipo del valor (list, str o int)\n",
    "- Se muestra un ejemplo:"
   ]
  },
  {
   "cell_type": "code",
   "execution_count": 34,
   "id": "9a74fc1a",
   "metadata": {},
   "outputs": [
    {
     "name": "stdout",
     "output_type": "stream",
     "text": [
      "defaultdict(<class 'list'>, {'apple': [1, 3], 'banana': [2], 'orange': [4]})\n"
     ]
    }
   ],
   "source": [
    "from collections import defaultdict\n",
    "\n",
    "grouped_data= defaultdict(list)\n",
    "data = [ ('apple',1), ('banana',2),('apple',3),('orange',4)]\n",
    "for key, value in data:\n",
    "    grouped_data[key].append(value)\n",
    "print(grouped_data)\n",
    "# permite agrupar por la llave(key)"
   ]
  },
  {
   "cell_type": "code",
   "execution_count": 36,
   "id": "da1c31b3",
   "metadata": {},
   "outputs": [],
   "source": [
    "id_hash = defaultdict(list)\n",
    "\n",
    "for doc in documentos:\n",
    "    id= doc['id']\n",
    "    id_hash[id].append(doc) # si hay valores repetidos agrupa en una misma llave los docs"
   ]
  },
  {
   "cell_type": "code",
   "execution_count": 37,
   "id": "7114d8e5",
   "metadata": {},
   "outputs": [
    {
     "name": "stdout",
     "output_type": "stream",
     "text": [
      "Documento completo: 948\n",
      "Diccionario agrupado por los id: 947\n"
     ]
    }
   ],
   "source": [
    "print(f\"Documento completo: {len(documentos)}\")\n",
    "print(f\"Diccionario agrupado por los id: {len(id_hash)}\")"
   ]
  },
  {
   "cell_type": "markdown",
   "id": "5a5938b1",
   "metadata": {},
   "source": [
    "Al parecer hay 1 id con 2 documentos, identificamos cuales son:"
   ]
  },
  {
   "cell_type": "code",
   "execution_count": null,
   "id": "decce7a7",
   "metadata": {},
   "outputs": [
    {
     "name": "stdout",
     "output_type": "stream",
     "text": [
      "Indice en documentos: documentos[654]\n",
      "Indice en documentos: documentos[657]\n"
     ]
    },
    {
     "data": {
      "text/plain": [
       "[{'text': \"They both do the same, it's just less typing from the script.\\nAsked by Andrew Katoch, Added by Edidiong Esu\",\n",
       "  'section': '6. Decision Trees and Ensemble Learning',\n",
       "  'question': 'Does it matter if we let the Python file create the server or if we run gunicorn directly?',\n",
       "  'course': 'machine-learning-zoomcamp',\n",
       "  'id': '7f22da472c'},\n",
       " {'text': \"They both do the same, it's just less typing from the script.\",\n",
       "  'section': '6. Decision Trees and Ensemble Learning',\n",
       "  'question': 'Does it matter if we let the Python file create the server or if we run gunicorn directly?',\n",
       "  'course': 'machine-learning-zoomcamp',\n",
       "  'id': '7f22da472c'}]"
      ]
     },
     "execution_count": 55,
     "metadata": {},
     "output_type": "execute_result"
    }
   ],
   "source": [
    "# necesitamos encontrar en el diccionario la llave que tenga más de 1 valor en la lista\n",
    "for key, value in id_hash.items():\n",
    "    if len(value) > 1:\n",
    "        id = key\n",
    "\n",
    "doc_sameid= []\n",
    "for indice, doc in enumerate(documentos):\n",
    "    if doc['id']== id:\n",
    "        print(f\"Indice en documentos: documentos[{indice}]\")\n",
    "        doc_sameid.append(doc)\n",
    "\n",
    "doc_sameid\n",
    "    "
   ]
  },
  {
   "cell_type": "markdown",
   "id": "f96208d8",
   "metadata": {},
   "source": [
    "Ambos son iguales a pesar de ser registros diferentes, sin embargo esto se debe a su similitud de cada campo usado para la creación del id: course, question, text. \n",
    "\n",
    "**Solución**: se puede ignorar o eliminar un registro según criterio. Se ignora."
   ]
  },
  {
   "cell_type": "code",
   "execution_count": 39,
   "id": "f48910ad",
   "metadata": {},
   "outputs": [],
   "source": [
    "# si se desea eliminar: del documentos[657]"
   ]
  },
  {
   "cell_type": "markdown",
   "id": "9c4f2cab",
   "metadata": {},
   "source": [
    "**Exportamos** los documentos con id"
   ]
  },
  {
   "cell_type": "code",
   "execution_count": 41,
   "id": "115cc83e",
   "metadata": {},
   "outputs": [],
   "source": [
    "# Guardamos los documentos \n",
    "import json\n",
    "with open('documentos_idhash.json','wt') as file:\n",
    "    json.dump(documentos, file, indent=2)\n",
    "    #json.dump: permite pasar de dict o list a un formato string json"
   ]
  },
  {
   "cell_type": "code",
   "execution_count": 43,
   "id": "81fbe413",
   "metadata": {},
   "outputs": [
    {
     "name": "stdout",
     "output_type": "stream",
     "text": [
      "[\n",
      "  {\n",
      "    \"text\": \"The purpose of this document is to capture frequently asked technical questions\\nThe exact day and hour of the course will be 15th Jan 2024 at 17h00. The course will start with the first  \\u201cOffice Hours'' live.1\\nSubscribe to course public Google Calendar (it works from Desktop only).\\nRegister before the course starts using this link.\\nJoin the course Telegram channel with announcements.\\nDon\\u2019t forget to register in DataTalks.Club's Slack and join the channel.\",\n",
      "    \"section\": \"General course-related questions\",\n",
      "    \"question\": \"Course - When will the course start?\",\n",
      "    \"course\": \"data-engineering-zoomcamp\",\n",
      "    \"id\": \"c02e79ef\"\n",
      "  },\n",
      "  {\n",
      "    \"text\": \"GitHub - DataTalksClub data-engineering-zoomcamp#prerequisites\",\n"
     ]
    }
   ],
   "source": [
    "# verificamos con los primeros elementos\n",
    "!head documentos_idhash.json"
   ]
  },
  {
   "cell_type": "markdown",
   "id": "ab947277",
   "metadata": {},
   "source": [
    "## Generar el Ground Truth Data con LLM - GPT"
   ]
  },
  {
   "cell_type": "markdown",
   "id": "2fbb9ded",
   "metadata": {},
   "source": [
    "### Base del prompt"
   ]
  },
  {
   "cell_type": "code",
   "execution_count": 44,
   "id": "cf000ff6",
   "metadata": {},
   "outputs": [],
   "source": [
    "prompt_template = \"\"\"\n",
    "You emulate a student who's taking our course.\n",
    "Formulate 5 questions this student might ask based on a FAQ record. The record\n",
    "should contain the answer to the questions, and the questions should be complete and not too short.\n",
    "If possible, use as fewer words as possible from the record. \n",
    "\n",
    "The record:\n",
    "\n",
    "section: {section}\n",
    "question: {question}\n",
    "answer: {text}\n",
    "\n",
    "Provide the output in parsable JSON without using code blocks and not to consider '\\n':\n",
    "[\"question1\", \"question2\", ..., \"question5\"]\n",
    "\"\"\".strip()"
   ]
  },
  {
   "cell_type": "code",
   "execution_count": 12,
   "id": "24dbe41a",
   "metadata": {},
   "outputs": [
    {
     "data": {
      "text/plain": [
       "{'text': 'It depends on your background and previous experience with modules. It is expected to require about 5 - 15 hours per week. [source1] [source2]\\nYou can also calculate it yourself using this data and then update this answer.',\n",
       " 'section': 'General course-related questions',\n",
       " 'question': 'Course - \\u200b\\u200bHow many hours per week am I expected to spend on this  course?',\n",
       " 'course': 'data-engineering-zoomcamp',\n",
       " 'id': 'f1e7d212aa'}"
      ]
     },
     "execution_count": 12,
     "metadata": {},
     "output_type": "execute_result"
    }
   ],
   "source": [
    "doc1= documentos[10]\n",
    "doc1"
   ]
  },
  {
   "cell_type": "code",
   "execution_count": null,
   "id": "2f597956",
   "metadata": {},
   "outputs": [
    {
     "name": "stdout",
     "output_type": "stream",
     "text": [
      "You emulate a student who's taking our course.\n",
      "Formulate 5 questions this student might ask based on a FAQ record. The record\n",
      "should contain the answer to the questions, and the questions should be complete and not too short.\n",
      "If possible, use as fewer words as possible from the record. \n",
      "\n",
      "The record:\n",
      "\n",
      "section: General course-related questions\n",
      "question: Course - ​​How many hours per week am I expected to spend on this  course?\n",
      "answer: It depends on your background and previous experience with modules. It is expected to require about 5 - 15 hours per week. [source1] [source2]\n",
      "You can also calculate it yourself using this data and then update this answer.\n",
      "\n",
      "Provide the output in parsable JSON without using code blocks:\n",
      "[\"question1\", \"question2\", ..., \"question5\"]\n"
     ]
    }
   ],
   "source": [
    "prompt= prompt_template.format(**doc1) # se coloca los campos designados sin necesidad de hacerlo manualmente\n",
    "print(prompt)"
   ]
  },
  {
   "cell_type": "markdown",
   "id": "a3cfe727",
   "metadata": {},
   "source": [
    "### Función con llm "
   ]
  },
  {
   "cell_type": "code",
   "execution_count": 46,
   "id": "20b0cc32",
   "metadata": {},
   "outputs": [],
   "source": [
    "#verificamos api_key\n",
    "import os\n",
    "api_key= os.getenv(\"OPENAI_API_KEY\")\n",
    "# api_key"
   ]
  },
  {
   "cell_type": "code",
   "execution_count": 47,
   "id": "83e62425",
   "metadata": {},
   "outputs": [],
   "source": [
    "from openai import OpenAI\n",
    "\n",
    "cliente= OpenAI()"
   ]
  },
  {
   "cell_type": "code",
   "execution_count": null,
   "id": "ab165062",
   "metadata": {},
   "outputs": [],
   "source": [
    "# Función para generar las 5 preguntas por cada documento\n",
    "def generate_questions(doc):\n",
    "    prompt_doc= prompt_template.format(**doc)\n",
    "\n",
    "    response = cliente.chat.completions.create(\n",
    "        model= 'gpt-4o-mini',\n",
    "        messages= [ {\"role\": \"user\", \"content\":prompt_doc}]\n",
    "    )\n",
    "    return response.choices[0].message.content\n",
    " "
   ]
  },
  {
   "cell_type": "markdown",
   "id": "c8ca10ea",
   "metadata": {},
   "source": [
    "Recordar el Ground Truth se compone de:\n",
    "- Query (lo que estamos generando)\n",
    "- Documentos relevantes\n",
    "- Composición: { 'query1': ['doc1': , 'doc7'], ...}"
   ]
  },
  {
   "cell_type": "markdown",
   "id": "a8bca048",
   "metadata": {},
   "source": [
    "El proceso es un poco largo, porque tiene que generar las preguntas para cada doc, entonces se usa la libreria `tqdm` para visualizar el progreso."
   ]
  },
  {
   "cell_type": "code",
   "execution_count": null,
   "id": "9f79a9b6",
   "metadata": {},
   "outputs": [],
   "source": [
    "from tqdm.auto import tqdm\n",
    "\n",
    "querys= {}\n",
    "# generación de las preguntas\n",
    "for doc in tqdm(documentos):\n",
    "    preguntas  = generate_questions(doc)\n",
    "    # de json string a lista\n",
    "    lista_questions= json.loads(preguntas) \n",
    "\n",
    "    # Se asocia cada id a las preguntas generadas\n",
    "    querys[doc['id']]= lista_questions\n",
    "\n",
    "    # for question in lista_questions:\n",
    "    #     querys[question] = doc['id']\n"
   ]
  },
  {
   "cell_type": "markdown",
   "id": "b375c589",
   "metadata": {},
   "source": [
    "Se cargó solo hasta el 24%, se usará los resultados [results.bin](https://github.com/DataTalksClub/llm-zoomcamp/blob/main/03-evaluation/search_evaluation/results.bin) generados en el curso. Para evitar gastos con open ai."
   ]
  },
  {
   "cell_type": "markdown",
   "id": "cb47a8ea",
   "metadata": {},
   "source": [
    "Se usa el módulo `Pickle` para deserializar un archivo (bytes) a un objeto python."
   ]
  },
  {
   "cell_type": "code",
   "execution_count": 49,
   "id": "b5e359da",
   "metadata": {},
   "outputs": [],
   "source": [
    "import pickle\n",
    "\n",
    "with open('results.bin', 'rb') as file:\n",
    "    resultados= pickle.load(file)"
   ]
  },
  {
   "cell_type": "code",
   "execution_count": 51,
   "id": "80a73e4d",
   "metadata": {},
   "outputs": [
    {
     "name": "stdout",
     "output_type": "stream",
     "text": [
      "<class 'str'>\n",
      "[\n",
      "  \"How can I persist pgAdmin configuration using Docker-Compose?\",\n",
      "  \"What do I need to add to the Docker-Compose YAML file to persist pgAdmin settings?\",\n",
      "  \"Where should the pgAdmin data be stored on the host machine for it to persist?\",\n",
      "  \"What permissions are required for pgAdmin to write to the folder on the host machine?\",\n",
      "  \"Which Docker-Compose command is used before running docker-compose up for pgAdmin configuration?\"\n",
      "]\n"
     ]
    }
   ],
   "source": [
    "print(type(resultados['96606db2']))\n",
    "print(resultados['96606db2'])"
   ]
  },
  {
   "cell_type": "code",
   "execution_count": 53,
   "id": "a374c77b",
   "metadata": {},
   "outputs": [
    {
     "data": {
      "text/plain": [
       "'[\"Where can I find the prerequisites for this course?\", \"How do I check the prerequisites for this course?\", \"Where are the course prerequisites listed?\", \"What are the requirements for joining this course?\", \"Where is the list of prerequisites for the course?\"]'"
      ]
     },
     "execution_count": 53,
     "metadata": {},
     "output_type": "execute_result"
    }
   ],
   "source": [
    "resultados['1f6520ca']"
   ]
  },
  {
   "cell_type": "markdown",
   "id": "f89e7525",
   "metadata": {},
   "source": [
    "Convertir los resultados de json string a lista\n"
   ]
  },
  {
   "cell_type": "code",
   "execution_count": 55,
   "id": "bec69362",
   "metadata": {},
   "outputs": [
    {
     "name": "stderr",
     "output_type": "stream",
     "text": [
      "<unknown>:6: SyntaxWarning: invalid escape sequence '\\P'\n"
     ]
    }
   ],
   "source": [
    "import ast\n",
    "\n",
    "resultados_lista = {}\n",
    "# for id, questions in resultados.items():\n",
    "#     resultados_lista[id]= json.loads(questions) \n",
    "\n",
    "resultados_lista = {key: ast.literal_eval(value) for key, value in resultados.items()}"
   ]
  },
  {
   "cell_type": "code",
   "execution_count": 56,
   "id": "b57db5d1",
   "metadata": {},
   "outputs": [
    {
     "data": {
      "text/plain": [
       "['Where can I find the prerequisites for this course?',\n",
       " 'How do I check the prerequisites for this course?',\n",
       " 'Where are the course prerequisites listed?',\n",
       " 'What are the requirements for joining this course?',\n",
       " 'Where is the list of prerequisites for the course?']"
      ]
     },
     "execution_count": 56,
     "metadata": {},
     "output_type": "execute_result"
    }
   ],
   "source": [
    "resultados_lista['1f6520ca']"
   ]
  },
  {
   "cell_type": "markdown",
   "id": "5ca08c50",
   "metadata": {},
   "source": [
    "Estructura FInal de **Ground Truth Data**:\n",
    "- question - curso - id "
   ]
  },
  {
   "cell_type": "code",
   "execution_count": null,
   "id": "330a0765",
   "metadata": {},
   "outputs": [
    {
     "data": {
      "text/plain": [
       "{'text': \"The purpose of this document is to capture frequently asked technical questions\\nThe exact day and hour of the course will be 15th Jan 2024 at 17h00. The course will start with the first  “Office Hours'' live.1\\nSubscribe to course public Google Calendar (it works from Desktop only).\\nRegister before the course starts using this link.\\nJoin the course Telegram channel with announcements.\\nDon’t forget to register in DataTalks.Club's Slack and join the channel.\",\n",
       " 'section': 'General course-related questions',\n",
       " 'question': 'Course - When will the course start?',\n",
       " 'course': 'data-engineering-zoomcamp',\n",
       " 'id': 'c02e79ef'}"
      ]
     },
     "execution_count": 60,
     "metadata": {},
     "output_type": "execute_result"
    }
   ],
   "source": [
    "doc_index= {d['id']: d for d in documentos}\n",
    "doc_index['c02e79ef']"
   ]
  },
  {
   "cell_type": "code",
   "execution_count": 62,
   "id": "4a777823",
   "metadata": {},
   "outputs": [],
   "source": [
    "ground_truth_data= []\n",
    "\n",
    "for id, preguntas in resultados_lista.items():\n",
    "    curso = doc_index[id]['course']\n",
    "    for pregunta in preguntas:\n",
    "        ground_truth_data.append((pregunta,curso ,id ))"
   ]
  },
  {
   "cell_type": "code",
   "execution_count": 69,
   "id": "74c9a4ff",
   "metadata": {},
   "outputs": [
    {
     "data": {
      "text/plain": [
       "[('When does the course begin?', 'data-engineering-zoomcamp', 'c02e79ef'),\n",
       " ('How can I get the course schedule?',\n",
       "  'data-engineering-zoomcamp',\n",
       "  'c02e79ef'),\n",
       " ('What is the link for course registration?',\n",
       "  'data-engineering-zoomcamp',\n",
       "  'c02e79ef'),\n",
       " ('How can I receive course announcements?',\n",
       "  'data-engineering-zoomcamp',\n",
       "  'c02e79ef'),\n",
       " ('Where do I join the Slack channel?',\n",
       "  'data-engineering-zoomcamp',\n",
       "  'c02e79ef')]"
      ]
     },
     "execution_count": 69,
     "metadata": {},
     "output_type": "execute_result"
    }
   ],
   "source": [
    "ground_truth_data[0:5]"
   ]
  },
  {
   "cell_type": "markdown",
   "id": "507edb3c",
   "metadata": {},
   "source": [
    "### Exportación "
   ]
  },
  {
   "cell_type": "code",
   "execution_count": 71,
   "id": "a5bf933f",
   "metadata": {},
   "outputs": [],
   "source": [
    "import pandas as pd\n",
    "\n",
    "df= pd.DataFrame(ground_truth_data, columns=['question', 'course', 'document'])\n",
    "df.to_csv('ground-truth-data.csv', index= False)"
   ]
  },
  {
   "cell_type": "code",
   "execution_count": 72,
   "id": "ba9e3088",
   "metadata": {},
   "outputs": [
    {
     "name": "stdout",
     "output_type": "stream",
     "text": [
      "question,course,document\n",
      "When does the course begin?,data-engineering-zoomcamp,c02e79ef\n",
      "How can I get the course schedule?,data-engineering-zoomcamp,c02e79ef\n",
      "What is the link for course registration?,data-engineering-zoomcamp,c02e79ef\n",
      "How can I receive course announcements?,data-engineering-zoomcamp,c02e79ef\n",
      "Where do I join the Slack channel?,data-engineering-zoomcamp,c02e79ef\n",
      "Where can I find the prerequisites for this course?,data-engineering-zoomcamp,1f6520ca\n",
      "How do I check the prerequisites for this course?,data-engineering-zoomcamp,1f6520ca\n",
      "Where are the course prerequisites listed?,data-engineering-zoomcamp,1f6520ca\n",
      "What are the requirements for joining this course?,data-engineering-zoomcamp,1f6520ca\n"
     ]
    }
   ],
   "source": [
    "!head ground-truth-data.csv"
   ]
  }
 ],
 "metadata": {
  "kernelspec": {
   "display_name": "Python 3",
   "language": "python",
   "name": "python3"
  },
  "language_info": {
   "codemirror_mode": {
    "name": "ipython",
    "version": 3
   },
   "file_extension": ".py",
   "mimetype": "text/x-python",
   "name": "python",
   "nbconvert_exporter": "python",
   "pygments_lexer": "ipython3",
   "version": "3.12.1"
  }
 },
 "nbformat": 4,
 "nbformat_minor": 5
}
